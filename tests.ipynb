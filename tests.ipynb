{
 "cells": [
  {
   "cell_type": "code",
   "execution_count": 36,
   "metadata": {},
   "outputs": [],
   "source": [
    "import os\n",
    "import numpy as np\n",
    "import pandas as pd\n",
    "from datetime import timedelta, datetime\n",
    "from tqdm import tqdm"
   ]
  },
  {
   "cell_type": "code",
   "execution_count": 2,
   "metadata": {},
   "outputs": [],
   "source": [
    "FORBES = './stock_market_data/sp500/csv/'\n",
    "TICKER = 'A'\n",
    "PATH = os.path.join(FORBES, f\"{TICKER}.csv\")"
   ]
  },
  {
   "cell_type": "code",
   "execution_count": 50,
   "metadata": {},
   "outputs": [],
   "source": [
    "df = pd.read_csv(PATH)\n",
    "df['Date'] = pd.to_datetime(df['Date'])"
   ]
  },
  {
   "cell_type": "code",
   "execution_count": 6,
   "metadata": {},
   "outputs": [],
   "source": [
    "df = df.drop(['Date'], axis=1)"
   ]
  },
  {
   "cell_type": "code",
   "execution_count": 7,
   "metadata": {},
   "outputs": [
    {
     "data": {
      "text/html": [
       "<div>\n",
       "<style scoped>\n",
       "    .dataframe tbody tr th:only-of-type {\n",
       "        vertical-align: middle;\n",
       "    }\n",
       "\n",
       "    .dataframe tbody tr th {\n",
       "        vertical-align: top;\n",
       "    }\n",
       "\n",
       "    .dataframe thead th {\n",
       "        text-align: right;\n",
       "    }\n",
       "</style>\n",
       "<table border=\"1\" class=\"dataframe\">\n",
       "  <thead>\n",
       "    <tr style=\"text-align: right;\">\n",
       "      <th></th>\n",
       "      <th>Low</th>\n",
       "      <th>Open</th>\n",
       "      <th>Volume</th>\n",
       "      <th>High</th>\n",
       "      <th>Close</th>\n",
       "      <th>Adjusted Close</th>\n",
       "    </tr>\n",
       "  </thead>\n",
       "  <tbody>\n",
       "    <tr>\n",
       "      <th>count</th>\n",
       "      <td>5693.000000</td>\n",
       "      <td>5693.000000</td>\n",
       "      <td>5.693000e+03</td>\n",
       "      <td>5693.000000</td>\n",
       "      <td>5693.000000</td>\n",
       "      <td>5693.000000</td>\n",
       "    </tr>\n",
       "    <tr>\n",
       "      <th>mean</th>\n",
       "      <td>42.660654</td>\n",
       "      <td>43.217349</td>\n",
       "      <td>3.495960e+06</td>\n",
       "      <td>43.774675</td>\n",
       "      <td>43.226476</td>\n",
       "      <td>40.779416</td>\n",
       "    </tr>\n",
       "    <tr>\n",
       "      <th>std</th>\n",
       "      <td>33.196632</td>\n",
       "      <td>33.561343</td>\n",
       "      <td>2.439198e+06</td>\n",
       "      <td>33.895923</td>\n",
       "      <td>33.542048</td>\n",
       "      <td>33.884099</td>\n",
       "    </tr>\n",
       "    <tr>\n",
       "      <th>min</th>\n",
       "      <td>7.510730</td>\n",
       "      <td>7.653791</td>\n",
       "      <td>2.221500e+05</td>\n",
       "      <td>7.961373</td>\n",
       "      <td>7.761087</td>\n",
       "      <td>6.652129</td>\n",
       "    </tr>\n",
       "    <tr>\n",
       "      <th>25%</th>\n",
       "      <td>21.673820</td>\n",
       "      <td>21.959944</td>\n",
       "      <td>1.992800e+06</td>\n",
       "      <td>22.281832</td>\n",
       "      <td>22.002861</td>\n",
       "      <td>19.392338</td>\n",
       "    </tr>\n",
       "    <tr>\n",
       "      <th>50%</th>\n",
       "      <td>29.713877</td>\n",
       "      <td>30.164520</td>\n",
       "      <td>2.983100e+06</td>\n",
       "      <td>30.579399</td>\n",
       "      <td>30.171675</td>\n",
       "      <td>27.384373</td>\n",
       "    </tr>\n",
       "    <tr>\n",
       "      <th>75%</th>\n",
       "      <td>52.259998</td>\n",
       "      <td>52.790001</td>\n",
       "      <td>4.319400e+06</td>\n",
       "      <td>53.419998</td>\n",
       "      <td>52.709999</td>\n",
       "      <td>48.434860</td>\n",
       "    </tr>\n",
       "    <tr>\n",
       "      <th>max</th>\n",
       "      <td>177.169998</td>\n",
       "      <td>179.279999</td>\n",
       "      <td>6.254638e+07</td>\n",
       "      <td>179.570007</td>\n",
       "      <td>179.279999</td>\n",
       "      <td>178.225525</td>\n",
       "    </tr>\n",
       "  </tbody>\n",
       "</table>\n",
       "</div>"
      ],
      "text/plain": [
       "               Low         Open        Volume         High        Close  \\\n",
       "count  5693.000000  5693.000000  5.693000e+03  5693.000000  5693.000000   \n",
       "mean     42.660654    43.217349  3.495960e+06    43.774675    43.226476   \n",
       "std      33.196632    33.561343  2.439198e+06    33.895923    33.542048   \n",
       "min       7.510730     7.653791  2.221500e+05     7.961373     7.761087   \n",
       "25%      21.673820    21.959944  1.992800e+06    22.281832    22.002861   \n",
       "50%      29.713877    30.164520  2.983100e+06    30.579399    30.171675   \n",
       "75%      52.259998    52.790001  4.319400e+06    53.419998    52.709999   \n",
       "max     177.169998   179.279999  6.254638e+07   179.570007   179.279999   \n",
       "\n",
       "       Adjusted Close  \n",
       "count     5693.000000  \n",
       "mean        40.779416  \n",
       "std         33.884099  \n",
       "min          6.652129  \n",
       "25%         19.392338  \n",
       "50%         27.384373  \n",
       "75%         48.434860  \n",
       "max        178.225525  "
      ]
     },
     "execution_count": 7,
     "metadata": {},
     "output_type": "execute_result"
    }
   ],
   "source": [
    "df.describe()"
   ]
  },
  {
   "cell_type": "code",
   "execution_count": 29,
   "metadata": {},
   "outputs": [],
   "source": [
    "def make_dataset(df: pd.DataFrame, time_d: int = 10):\n",
    "    X, y = [], []\n",
    "\n",
    "    for i in range(df.shape[0] - time_d - 1):\n",
    "        idx = i + time_d\n",
    "        row = df.iloc[idx + 1]\n",
    "        row = row.drop(['Volume']) # remove volume is it doesn't need to be predicted\n",
    "        if row.hasnans:\n",
    "            continue # if the row (y) has nans, skip\n",
    "\n",
    "        x = df.iloc[i:idx]\n",
    "        x.fillna(x.mean(), inplace=True) # fill empty values with mean\n",
    "        x = x[['Low', 'Open', 'High', 'Close', 'Adjusted Close', 'Volume']]\n",
    "\n",
    "        X.append(x.values)\n",
    "        y.append(row.values)\n",
    "        \n",
    "    return np.array(X), np.array(y)"
   ]
  },
  {
   "cell_type": "markdown",
   "metadata": {},
   "source": []
  },
  {
   "cell_type": "code",
   "execution_count": 30,
   "metadata": {},
   "outputs": [],
   "source": [
    "X, y = make_dataset(df)"
   ]
  },
  {
   "cell_type": "code",
   "execution_count": 31,
   "metadata": {},
   "outputs": [
    {
     "data": {
      "text/plain": [
       "(5682, 10, 6)"
      ]
     },
     "execution_count": 31,
     "metadata": {},
     "output_type": "execute_result"
    }
   ],
   "source": [
    "X.shape"
   ]
  },
  {
   "cell_type": "code",
   "execution_count": 32,
   "metadata": {},
   "outputs": [],
   "source": [
    "def get_all_csv_files(dir: str):\n",
    "    files = []\n",
    "    a = os.listdir(dir)\n",
    "    for b in a:\n",
    "        if os.path.isdir(os.path.join(dir, b)):\n",
    "            c = os.path.join(dir, b, 'csv')\n",
    "            if os.path.isdir(c):\n",
    "                files += [os.path.join(c, f) for f in os.listdir(c) if f[-4:] == '.csv']\n",
    "\n",
    "    return files"
   ]
  },
  {
   "cell_type": "code",
   "execution_count": 40,
   "metadata": {},
   "outputs": [],
   "source": [
    "def large_df(files):\n",
    "    return pd.concat((pd.read_csv(f) for i, f in tqdm(enumerate(files), total=len(files))), ignore_index=True)"
   ]
  },
  {
   "cell_type": "code",
   "execution_count": 41,
   "metadata": {},
   "outputs": [],
   "source": [
    "def scale(X, y):\n",
    "    div = 255 / np.max(X)\n",
    "    X *= div\n",
    "    y *= div\n",
    "    return X, y"
   ]
  },
  {
   "cell_type": "code",
   "execution_count": 42,
   "metadata": {},
   "outputs": [
    {
     "name": "stderr",
     "output_type": "stream",
     "text": [
      "100%|██████████| 4281/4281 [00:34<00:00, 124.14it/s]\n"
     ]
    }
   ],
   "source": [
    "df = large_df(get_all_csv_files('stock_market_data'))"
   ]
  },
  {
   "cell_type": "code",
   "execution_count": 43,
   "metadata": {},
   "outputs": [
    {
     "data": {
      "text/plain": [
       "(24603272, 7)"
      ]
     },
     "execution_count": 43,
     "metadata": {},
     "output_type": "execute_result"
    }
   ],
   "source": [
    "df.shape"
   ]
  },
  {
   "cell_type": "code",
   "execution_count": 49,
   "metadata": {},
   "outputs": [
    {
     "data": {
      "text/plain": [
       "MinMaxScaler()"
      ]
     },
     "execution_count": 49,
     "metadata": {},
     "output_type": "execute_result"
    }
   ],
   "source": [
    "from sklearn.preprocessing import MinMaxScaler\n",
    "import pickle\n",
    "\n",
    "scl = MinMaxScaler()\n",
    "scl.fit(df.drop(['Date'], axis=1))"
   ]
  },
  {
   "cell_type": "code",
   "execution_count": 52,
   "metadata": {},
   "outputs": [],
   "source": [
    "x = scl.transform(df.drop(['Date'], axis=1))"
   ]
  },
  {
   "cell_type": "code",
   "execution_count": 58,
   "metadata": {},
   "outputs": [],
   "source": [
    "ddf = pd.DataFrame(x, columns=['Low', 'Open', 'Volume', 'High', 'Close', 'Adjusted Close'])"
   ]
  },
  {
   "cell_type": "code",
   "execution_count": 59,
   "metadata": {},
   "outputs": [
    {
     "data": {
      "text/html": [
       "<div>\n",
       "<style scoped>\n",
       "    .dataframe tbody tr th:only-of-type {\n",
       "        vertical-align: middle;\n",
       "    }\n",
       "\n",
       "    .dataframe tbody tr th {\n",
       "        vertical-align: top;\n",
       "    }\n",
       "\n",
       "    .dataframe thead th {\n",
       "        text-align: right;\n",
       "    }\n",
       "</style>\n",
       "<table border=\"1\" class=\"dataframe\">\n",
       "  <thead>\n",
       "    <tr style=\"text-align: right;\">\n",
       "      <th></th>\n",
       "      <th>Low</th>\n",
       "      <th>Open</th>\n",
       "      <th>Volume</th>\n",
       "      <th>High</th>\n",
       "      <th>Close</th>\n",
       "      <th>Adjusted Close</th>\n",
       "    </tr>\n",
       "  </thead>\n",
       "  <tbody>\n",
       "    <tr>\n",
       "      <th>count</th>\n",
       "      <td>5.693000e+03</td>\n",
       "      <td>5.693000e+03</td>\n",
       "      <td>5693.000000</td>\n",
       "      <td>5.693000e+03</td>\n",
       "      <td>5.693000e+03</td>\n",
       "      <td>5693.000000</td>\n",
       "    </tr>\n",
       "    <tr>\n",
       "      <th>mean</th>\n",
       "      <td>5.124624e-12</td>\n",
       "      <td>5.191498e-12</td>\n",
       "      <td>0.000471</td>\n",
       "      <td>5.258447e-12</td>\n",
       "      <td>5.192594e-12</td>\n",
       "      <td>0.998474</td>\n",
       "    </tr>\n",
       "    <tr>\n",
       "      <th>std</th>\n",
       "      <td>3.987756e-12</td>\n",
       "      <td>4.031567e-12</td>\n",
       "      <td>0.000329</td>\n",
       "      <td>4.071758e-12</td>\n",
       "      <td>4.029249e-12</td>\n",
       "      <td>0.000000</td>\n",
       "    </tr>\n",
       "    <tr>\n",
       "      <th>min</th>\n",
       "      <td>9.022288e-13</td>\n",
       "      <td>9.194140e-13</td>\n",
       "      <td>0.000030</td>\n",
       "      <td>9.563624e-13</td>\n",
       "      <td>9.323030e-13</td>\n",
       "      <td>0.998474</td>\n",
       "    </tr>\n",
       "    <tr>\n",
       "      <th>25%</th>\n",
       "      <td>2.603574e-12</td>\n",
       "      <td>2.637945e-12</td>\n",
       "      <td>0.000269</td>\n",
       "      <td>2.676612e-12</td>\n",
       "      <td>2.643101e-12</td>\n",
       "      <td>0.998474</td>\n",
       "    </tr>\n",
       "    <tr>\n",
       "      <th>50%</th>\n",
       "      <td>3.569389e-12</td>\n",
       "      <td>3.623522e-12</td>\n",
       "      <td>0.000402</td>\n",
       "      <td>3.673360e-12</td>\n",
       "      <td>3.624382e-12</td>\n",
       "      <td>0.998474</td>\n",
       "    </tr>\n",
       "    <tr>\n",
       "      <th>75%</th>\n",
       "      <td>6.277749e-12</td>\n",
       "      <td>6.341415e-12</td>\n",
       "      <td>0.000582</td>\n",
       "      <td>6.417094e-12</td>\n",
       "      <td>6.331805e-12</td>\n",
       "      <td>0.998474</td>\n",
       "    </tr>\n",
       "    <tr>\n",
       "      <th>max</th>\n",
       "      <td>2.128260e-11</td>\n",
       "      <td>2.153607e-11</td>\n",
       "      <td>0.008428</td>\n",
       "      <td>2.157090e-11</td>\n",
       "      <td>2.153607e-11</td>\n",
       "      <td>0.998474</td>\n",
       "    </tr>\n",
       "  </tbody>\n",
       "</table>\n",
       "</div>"
      ],
      "text/plain": [
       "                Low          Open       Volume          High         Close  \\\n",
       "count  5.693000e+03  5.693000e+03  5693.000000  5.693000e+03  5.693000e+03   \n",
       "mean   5.124624e-12  5.191498e-12     0.000471  5.258447e-12  5.192594e-12   \n",
       "std    3.987756e-12  4.031567e-12     0.000329  4.071758e-12  4.029249e-12   \n",
       "min    9.022288e-13  9.194140e-13     0.000030  9.563624e-13  9.323030e-13   \n",
       "25%    2.603574e-12  2.637945e-12     0.000269  2.676612e-12  2.643101e-12   \n",
       "50%    3.569389e-12  3.623522e-12     0.000402  3.673360e-12  3.624382e-12   \n",
       "75%    6.277749e-12  6.341415e-12     0.000582  6.417094e-12  6.331805e-12   \n",
       "max    2.128260e-11  2.153607e-11     0.008428  2.157090e-11  2.153607e-11   \n",
       "\n",
       "       Adjusted Close  \n",
       "count     5693.000000  \n",
       "mean         0.998474  \n",
       "std          0.000000  \n",
       "min          0.998474  \n",
       "25%          0.998474  \n",
       "50%          0.998474  \n",
       "75%          0.998474  \n",
       "max          0.998474  "
      ]
     },
     "execution_count": 59,
     "metadata": {},
     "output_type": "execute_result"
    }
   ],
   "source": [
    "ddf.describe()"
   ]
  },
  {
   "cell_type": "code",
   "execution_count": 61,
   "metadata": {},
   "outputs": [
    {
     "data": {
      "text/html": [
       "<div>\n",
       "<style scoped>\n",
       "    .dataframe tbody tr th:only-of-type {\n",
       "        vertical-align: middle;\n",
       "    }\n",
       "\n",
       "    .dataframe tbody tr th {\n",
       "        vertical-align: top;\n",
       "    }\n",
       "\n",
       "    .dataframe thead th {\n",
       "        text-align: right;\n",
       "    }\n",
       "</style>\n",
       "<table border=\"1\" class=\"dataframe\">\n",
       "  <thead>\n",
       "    <tr style=\"text-align: right;\">\n",
       "      <th></th>\n",
       "      <th>Low</th>\n",
       "      <th>Open</th>\n",
       "      <th>High</th>\n",
       "      <th>Close</th>\n",
       "      <th>Adjusted Close</th>\n",
       "      <th>Volume</th>\n",
       "    </tr>\n",
       "  </thead>\n",
       "  <tbody>\n",
       "    <tr>\n",
       "      <th>count</th>\n",
       "      <td>5.693000e+03</td>\n",
       "      <td>5.693000e+03</td>\n",
       "      <td>5.693000e+03</td>\n",
       "      <td>5.693000e+03</td>\n",
       "      <td>5693.000000</td>\n",
       "      <td>5693.000000</td>\n",
       "    </tr>\n",
       "    <tr>\n",
       "      <th>mean</th>\n",
       "      <td>5.124624e-12</td>\n",
       "      <td>5.191498e-12</td>\n",
       "      <td>5.258447e-12</td>\n",
       "      <td>5.192594e-12</td>\n",
       "      <td>0.998474</td>\n",
       "      <td>0.000471</td>\n",
       "    </tr>\n",
       "    <tr>\n",
       "      <th>std</th>\n",
       "      <td>3.987756e-12</td>\n",
       "      <td>4.031567e-12</td>\n",
       "      <td>4.071758e-12</td>\n",
       "      <td>4.029249e-12</td>\n",
       "      <td>0.000000</td>\n",
       "      <td>0.000329</td>\n",
       "    </tr>\n",
       "    <tr>\n",
       "      <th>min</th>\n",
       "      <td>9.022288e-13</td>\n",
       "      <td>9.194140e-13</td>\n",
       "      <td>9.563624e-13</td>\n",
       "      <td>9.323030e-13</td>\n",
       "      <td>0.998474</td>\n",
       "      <td>0.000030</td>\n",
       "    </tr>\n",
       "    <tr>\n",
       "      <th>25%</th>\n",
       "      <td>2.603574e-12</td>\n",
       "      <td>2.637945e-12</td>\n",
       "      <td>2.676612e-12</td>\n",
       "      <td>2.643101e-12</td>\n",
       "      <td>0.998474</td>\n",
       "      <td>0.000269</td>\n",
       "    </tr>\n",
       "    <tr>\n",
       "      <th>50%</th>\n",
       "      <td>3.569389e-12</td>\n",
       "      <td>3.623522e-12</td>\n",
       "      <td>3.673360e-12</td>\n",
       "      <td>3.624382e-12</td>\n",
       "      <td>0.998474</td>\n",
       "      <td>0.000402</td>\n",
       "    </tr>\n",
       "    <tr>\n",
       "      <th>75%</th>\n",
       "      <td>6.277749e-12</td>\n",
       "      <td>6.341415e-12</td>\n",
       "      <td>6.417094e-12</td>\n",
       "      <td>6.331805e-12</td>\n",
       "      <td>0.998474</td>\n",
       "      <td>0.000582</td>\n",
       "    </tr>\n",
       "    <tr>\n",
       "      <th>max</th>\n",
       "      <td>2.128260e-11</td>\n",
       "      <td>2.153607e-11</td>\n",
       "      <td>2.157090e-11</td>\n",
       "      <td>2.153607e-11</td>\n",
       "      <td>0.998474</td>\n",
       "      <td>0.008428</td>\n",
       "    </tr>\n",
       "  </tbody>\n",
       "</table>\n",
       "</div>"
      ],
      "text/plain": [
       "                Low          Open          High         Close  Adjusted Close  \\\n",
       "count  5.693000e+03  5.693000e+03  5.693000e+03  5.693000e+03     5693.000000   \n",
       "mean   5.124624e-12  5.191498e-12  5.258447e-12  5.192594e-12        0.998474   \n",
       "std    3.987756e-12  4.031567e-12  4.071758e-12  4.029249e-12        0.000000   \n",
       "min    9.022288e-13  9.194140e-13  9.563624e-13  9.323030e-13        0.998474   \n",
       "25%    2.603574e-12  2.637945e-12  2.676612e-12  2.643101e-12        0.998474   \n",
       "50%    3.569389e-12  3.623522e-12  3.673360e-12  3.624382e-12        0.998474   \n",
       "75%    6.277749e-12  6.341415e-12  6.417094e-12  6.331805e-12        0.998474   \n",
       "max    2.128260e-11  2.153607e-11  2.157090e-11  2.153607e-11        0.998474   \n",
       "\n",
       "            Volume  \n",
       "count  5693.000000  \n",
       "mean      0.000471  \n",
       "std       0.000329  \n",
       "min       0.000030  \n",
       "25%       0.000269  \n",
       "50%       0.000402  \n",
       "75%       0.000582  \n",
       "max       0.008428  "
      ]
     },
     "execution_count": 61,
     "metadata": {},
     "output_type": "execute_result"
    }
   ],
   "source": [
    "ddf[['Low', 'Open', 'High', 'Close', 'Adjusted Close', 'Volume']].describe()"
   ]
  },
  {
   "cell_type": "code",
   "execution_count": null,
   "metadata": {},
   "outputs": [],
   "source": []
  }
 ],
 "metadata": {
  "kernelspec": {
   "display_name": "Python 3.9.7 ('tf-gpu')",
   "language": "python",
   "name": "python3"
  },
  "language_info": {
   "codemirror_mode": {
    "name": "ipython",
    "version": 3
   },
   "file_extension": ".py",
   "mimetype": "text/x-python",
   "name": "python",
   "nbconvert_exporter": "python",
   "pygments_lexer": "ipython3",
   "version": "3.9.7"
  },
  "orig_nbformat": 4,
  "vscode": {
   "interpreter": {
    "hash": "a9c8d1796383b1f1d48f4e3922c2224a09f262a67ecc399e478c778424b5ea5c"
   }
  }
 },
 "nbformat": 4,
 "nbformat_minor": 2
}
