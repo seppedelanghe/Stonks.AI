{
 "cells": [
  {
   "cell_type": "code",
   "execution_count": 1,
   "metadata": {},
   "outputs": [],
   "source": [
    "import os\n",
    "import numpy as np\n",
    "import pandas as pd\n",
    "from datetime import timedelta, datetime\n",
    "from tqdm import tqdm"
   ]
  },
  {
   "cell_type": "code",
   "execution_count": 2,
   "metadata": {},
   "outputs": [],
   "source": [
    "FORBES = './stock_market_data/sp500/csv/'\n",
    "TICKER = 'A'\n",
    "PATH = os.path.join(FORBES, f\"{TICKER}.csv\")"
   ]
  },
  {
   "cell_type": "code",
   "execution_count": 50,
   "metadata": {},
   "outputs": [],
   "source": [
    "df = pd.read_csv(PATH)\n",
    "df['Date'] = pd.to_datetime(df['Date'])"
   ]
  },
  {
   "cell_type": "code",
   "execution_count": 6,
   "metadata": {},
   "outputs": [],
   "source": [
    "df = df.drop(['Date'], axis=1)"
   ]
  },
  {
   "cell_type": "code",
   "execution_count": 7,
   "metadata": {},
   "outputs": [
    {
     "data": {
      "text/html": [
       "<div>\n",
       "<style scoped>\n",
       "    .dataframe tbody tr th:only-of-type {\n",
       "        vertical-align: middle;\n",
       "    }\n",
       "\n",
       "    .dataframe tbody tr th {\n",
       "        vertical-align: top;\n",
       "    }\n",
       "\n",
       "    .dataframe thead th {\n",
       "        text-align: right;\n",
       "    }\n",
       "</style>\n",
       "<table border=\"1\" class=\"dataframe\">\n",
       "  <thead>\n",
       "    <tr style=\"text-align: right;\">\n",
       "      <th></th>\n",
       "      <th>Low</th>\n",
       "      <th>Open</th>\n",
       "      <th>Volume</th>\n",
       "      <th>High</th>\n",
       "      <th>Close</th>\n",
       "      <th>Adjusted Close</th>\n",
       "    </tr>\n",
       "  </thead>\n",
       "  <tbody>\n",
       "    <tr>\n",
       "      <th>count</th>\n",
       "      <td>5693.000000</td>\n",
       "      <td>5693.000000</td>\n",
       "      <td>5.693000e+03</td>\n",
       "      <td>5693.000000</td>\n",
       "      <td>5693.000000</td>\n",
       "      <td>5693.000000</td>\n",
       "    </tr>\n",
       "    <tr>\n",
       "      <th>mean</th>\n",
       "      <td>42.660654</td>\n",
       "      <td>43.217349</td>\n",
       "      <td>3.495960e+06</td>\n",
       "      <td>43.774675</td>\n",
       "      <td>43.226476</td>\n",
       "      <td>40.779416</td>\n",
       "    </tr>\n",
       "    <tr>\n",
       "      <th>std</th>\n",
       "      <td>33.196632</td>\n",
       "      <td>33.561343</td>\n",
       "      <td>2.439198e+06</td>\n",
       "      <td>33.895923</td>\n",
       "      <td>33.542048</td>\n",
       "      <td>33.884099</td>\n",
       "    </tr>\n",
       "    <tr>\n",
       "      <th>min</th>\n",
       "      <td>7.510730</td>\n",
       "      <td>7.653791</td>\n",
       "      <td>2.221500e+05</td>\n",
       "      <td>7.961373</td>\n",
       "      <td>7.761087</td>\n",
       "      <td>6.652129</td>\n",
       "    </tr>\n",
       "    <tr>\n",
       "      <th>25%</th>\n",
       "      <td>21.673820</td>\n",
       "      <td>21.959944</td>\n",
       "      <td>1.992800e+06</td>\n",
       "      <td>22.281832</td>\n",
       "      <td>22.002861</td>\n",
       "      <td>19.392338</td>\n",
       "    </tr>\n",
       "    <tr>\n",
       "      <th>50%</th>\n",
       "      <td>29.713877</td>\n",
       "      <td>30.164520</td>\n",
       "      <td>2.983100e+06</td>\n",
       "      <td>30.579399</td>\n",
       "      <td>30.171675</td>\n",
       "      <td>27.384373</td>\n",
       "    </tr>\n",
       "    <tr>\n",
       "      <th>75%</th>\n",
       "      <td>52.259998</td>\n",
       "      <td>52.790001</td>\n",
       "      <td>4.319400e+06</td>\n",
       "      <td>53.419998</td>\n",
       "      <td>52.709999</td>\n",
       "      <td>48.434860</td>\n",
       "    </tr>\n",
       "    <tr>\n",
       "      <th>max</th>\n",
       "      <td>177.169998</td>\n",
       "      <td>179.279999</td>\n",
       "      <td>6.254638e+07</td>\n",
       "      <td>179.570007</td>\n",
       "      <td>179.279999</td>\n",
       "      <td>178.225525</td>\n",
       "    </tr>\n",
       "  </tbody>\n",
       "</table>\n",
       "</div>"
      ],
      "text/plain": [
       "               Low         Open        Volume         High        Close  \\\n",
       "count  5693.000000  5693.000000  5.693000e+03  5693.000000  5693.000000   \n",
       "mean     42.660654    43.217349  3.495960e+06    43.774675    43.226476   \n",
       "std      33.196632    33.561343  2.439198e+06    33.895923    33.542048   \n",
       "min       7.510730     7.653791  2.221500e+05     7.961373     7.761087   \n",
       "25%      21.673820    21.959944  1.992800e+06    22.281832    22.002861   \n",
       "50%      29.713877    30.164520  2.983100e+06    30.579399    30.171675   \n",
       "75%      52.259998    52.790001  4.319400e+06    53.419998    52.709999   \n",
       "max     177.169998   179.279999  6.254638e+07   179.570007   179.279999   \n",
       "\n",
       "       Adjusted Close  \n",
       "count     5693.000000  \n",
       "mean        40.779416  \n",
       "std         33.884099  \n",
       "min          6.652129  \n",
       "25%         19.392338  \n",
       "50%         27.384373  \n",
       "75%         48.434860  \n",
       "max        178.225525  "
      ]
     },
     "execution_count": 7,
     "metadata": {},
     "output_type": "execute_result"
    }
   ],
   "source": [
    "df.describe()"
   ]
  },
  {
   "cell_type": "code",
   "execution_count": 19,
   "metadata": {},
   "outputs": [],
   "source": [
    "def make_dataset(df: np.ndarray, time_d: int = 10):\n",
    "    X, y = [], []\n",
    "\n",
    "    for i in range(df.shape[0] - time_d - 1):\n",
    "        idx = i + time_d\n",
    "        row = df[idx + 1]\n",
    "        row = row[:-1] # remove volume is it doesn't need to be predicted\n",
    "        x = df[i:idx]\n",
    "        if any(np.isnan(row)) or np.isnan(row).any():\n",
    "            continue # if the row (y) has nans, skip\n",
    "\n",
    "        X.append(x.values)\n",
    "        y.append(row.values)\n",
    "        \n",
    "    return np.array(X), np.array(y)"
   ]
  },
  {
   "cell_type": "markdown",
   "metadata": {},
   "source": []
  },
  {
   "cell_type": "code",
   "execution_count": 20,
   "metadata": {},
   "outputs": [
    {
     "ename": "TypeError",
     "evalue": "ufunc 'isnan' not supported for the input types, and the inputs could not be safely coerced to any supported types according to the casting rule ''safe''",
     "output_type": "error",
     "traceback": [
      "\u001b[1;31m---------------------------------------------------------------------------\u001b[0m",
      "\u001b[1;31mTypeError\u001b[0m                                 Traceback (most recent call last)",
      "\u001b[1;32me:\\Datasets\\stonks\\tests.ipynb Cell 8\u001b[0m in \u001b[0;36m<cell line: 1>\u001b[1;34m()\u001b[0m\n\u001b[1;32m----> <a href='vscode-notebook-cell:/e%3A/Datasets/stonks/tests.ipynb#ch0000008?line=0'>1</a>\u001b[0m X, y \u001b[39m=\u001b[39m make_dataset(df\u001b[39m.\u001b[39;49mto_numpy())\n",
      "\u001b[1;32me:\\Datasets\\stonks\\tests.ipynb Cell 8\u001b[0m in \u001b[0;36mmake_dataset\u001b[1;34m(df, time_d)\u001b[0m\n\u001b[0;32m      <a href='vscode-notebook-cell:/e%3A/Datasets/stonks/tests.ipynb#ch0000008?line=6'>7</a>\u001b[0m row \u001b[39m=\u001b[39m row[:\u001b[39m-\u001b[39m\u001b[39m1\u001b[39m] \u001b[39m# remove volume is it doesn't need to be predicted\u001b[39;00m\n\u001b[0;32m      <a href='vscode-notebook-cell:/e%3A/Datasets/stonks/tests.ipynb#ch0000008?line=7'>8</a>\u001b[0m x \u001b[39m=\u001b[39m df[i:idx]\n\u001b[1;32m----> <a href='vscode-notebook-cell:/e%3A/Datasets/stonks/tests.ipynb#ch0000008?line=8'>9</a>\u001b[0m \u001b[39mif\u001b[39;00m np\u001b[39m.\u001b[39;49misnan(row)\u001b[39m.\u001b[39many() \u001b[39mor\u001b[39;00m np\u001b[39m.\u001b[39misnan(row)\u001b[39m.\u001b[39many():\n\u001b[0;32m     <a href='vscode-notebook-cell:/e%3A/Datasets/stonks/tests.ipynb#ch0000008?line=9'>10</a>\u001b[0m     \u001b[39mcontinue\u001b[39;00m \u001b[39m# if the row (y) has nans, skip\u001b[39;00m\n\u001b[0;32m     <a href='vscode-notebook-cell:/e%3A/Datasets/stonks/tests.ipynb#ch0000008?line=11'>12</a>\u001b[0m X\u001b[39m.\u001b[39mappend(x\u001b[39m.\u001b[39mvalues)\n",
      "\u001b[1;31mTypeError\u001b[0m: ufunc 'isnan' not supported for the input types, and the inputs could not be safely coerced to any supported types according to the casting rule ''safe''"
     ]
    }
   ],
   "source": [
    "X, y = make_dataset(df.to_numpy())"
   ]
  },
  {
   "cell_type": "code",
   "execution_count": 31,
   "metadata": {},
   "outputs": [
    {
     "data": {
      "text/plain": [
       "(5682, 10, 6)"
      ]
     },
     "execution_count": 31,
     "metadata": {},
     "output_type": "execute_result"
    }
   ],
   "source": [
    "X.shape"
   ]
  },
  {
   "cell_type": "code",
   "execution_count": 4,
   "metadata": {},
   "outputs": [],
   "source": [
    "def get_all_csv_files(dir: str):\n",
    "    files = []\n",
    "    a = os.listdir(dir)\n",
    "    for b in a:\n",
    "        if os.path.isdir(os.path.join(dir, b)):\n",
    "            c = os.path.join(dir, b, 'csv')\n",
    "            if os.path.isdir(c):\n",
    "                files += [os.path.join(c, f) for f in os.listdir(c) if f[-4:] == '.csv']\n",
    "\n",
    "    return files"
   ]
  },
  {
   "cell_type": "code",
   "execution_count": 5,
   "metadata": {},
   "outputs": [],
   "source": [
    "def large_df(files):\n",
    "    return pd.concat((pd.read_csv(f) for i, f in tqdm(enumerate(files), total=len(files))), ignore_index=True)"
   ]
  },
  {
   "cell_type": "code",
   "execution_count": 6,
   "metadata": {},
   "outputs": [],
   "source": [
    "def scale(X, y):\n",
    "    div = 255 / np.max(X)\n",
    "    X *= div\n",
    "    y *= div\n",
    "    return X, y"
   ]
  },
  {
   "cell_type": "code",
   "execution_count": 7,
   "metadata": {},
   "outputs": [
    {
     "name": "stderr",
     "output_type": "stream",
     "text": [
      "100%|██████████| 4281/4281 [00:34<00:00, 124.38it/s]\n"
     ]
    }
   ],
   "source": [
    "df = large_df(get_all_csv_files('stock_market_data'))"
   ]
  },
  {
   "cell_type": "code",
   "execution_count": 8,
   "metadata": {},
   "outputs": [
    {
     "data": {
      "text/plain": [
       "(24603272, 7)"
      ]
     },
     "execution_count": 8,
     "metadata": {},
     "output_type": "execute_result"
    }
   ],
   "source": [
    "df.shape"
   ]
  },
  {
   "cell_type": "code",
   "execution_count": 9,
   "metadata": {},
   "outputs": [
    {
     "data": {
      "text/html": [
       "<style>#sk-container-id-1 {color: black;background-color: white;}#sk-container-id-1 pre{padding: 0;}#sk-container-id-1 div.sk-toggleable {background-color: white;}#sk-container-id-1 label.sk-toggleable__label {cursor: pointer;display: block;width: 100%;margin-bottom: 0;padding: 0.3em;box-sizing: border-box;text-align: center;}#sk-container-id-1 label.sk-toggleable__label-arrow:before {content: \"▸\";float: left;margin-right: 0.25em;color: #696969;}#sk-container-id-1 label.sk-toggleable__label-arrow:hover:before {color: black;}#sk-container-id-1 div.sk-estimator:hover label.sk-toggleable__label-arrow:before {color: black;}#sk-container-id-1 div.sk-toggleable__content {max-height: 0;max-width: 0;overflow: hidden;text-align: left;background-color: #f0f8ff;}#sk-container-id-1 div.sk-toggleable__content pre {margin: 0.2em;color: black;border-radius: 0.25em;background-color: #f0f8ff;}#sk-container-id-1 input.sk-toggleable__control:checked~div.sk-toggleable__content {max-height: 200px;max-width: 100%;overflow: auto;}#sk-container-id-1 input.sk-toggleable__control:checked~label.sk-toggleable__label-arrow:before {content: \"▾\";}#sk-container-id-1 div.sk-estimator input.sk-toggleable__control:checked~label.sk-toggleable__label {background-color: #d4ebff;}#sk-container-id-1 div.sk-label input.sk-toggleable__control:checked~label.sk-toggleable__label {background-color: #d4ebff;}#sk-container-id-1 input.sk-hidden--visually {border: 0;clip: rect(1px 1px 1px 1px);clip: rect(1px, 1px, 1px, 1px);height: 1px;margin: -1px;overflow: hidden;padding: 0;position: absolute;width: 1px;}#sk-container-id-1 div.sk-estimator {font-family: monospace;background-color: #f0f8ff;border: 1px dotted black;border-radius: 0.25em;box-sizing: border-box;margin-bottom: 0.5em;}#sk-container-id-1 div.sk-estimator:hover {background-color: #d4ebff;}#sk-container-id-1 div.sk-parallel-item::after {content: \"\";width: 100%;border-bottom: 1px solid gray;flex-grow: 1;}#sk-container-id-1 div.sk-label:hover label.sk-toggleable__label {background-color: #d4ebff;}#sk-container-id-1 div.sk-serial::before {content: \"\";position: absolute;border-left: 1px solid gray;box-sizing: border-box;top: 0;bottom: 0;left: 50%;z-index: 0;}#sk-container-id-1 div.sk-serial {display: flex;flex-direction: column;align-items: center;background-color: white;padding-right: 0.2em;padding-left: 0.2em;position: relative;}#sk-container-id-1 div.sk-item {position: relative;z-index: 1;}#sk-container-id-1 div.sk-parallel {display: flex;align-items: stretch;justify-content: center;background-color: white;position: relative;}#sk-container-id-1 div.sk-item::before, #sk-container-id-1 div.sk-parallel-item::before {content: \"\";position: absolute;border-left: 1px solid gray;box-sizing: border-box;top: 0;bottom: 0;left: 50%;z-index: -1;}#sk-container-id-1 div.sk-parallel-item {display: flex;flex-direction: column;z-index: 1;position: relative;background-color: white;}#sk-container-id-1 div.sk-parallel-item:first-child::after {align-self: flex-end;width: 50%;}#sk-container-id-1 div.sk-parallel-item:last-child::after {align-self: flex-start;width: 50%;}#sk-container-id-1 div.sk-parallel-item:only-child::after {width: 0;}#sk-container-id-1 div.sk-dashed-wrapped {border: 1px dashed gray;margin: 0 0.4em 0.5em 0.4em;box-sizing: border-box;padding-bottom: 0.4em;background-color: white;}#sk-container-id-1 div.sk-label label {font-family: monospace;font-weight: bold;display: inline-block;line-height: 1.2em;}#sk-container-id-1 div.sk-label-container {text-align: center;}#sk-container-id-1 div.sk-container {/* jupyter's `normalize.less` sets `[hidden] { display: none; }` but bootstrap.min.css set `[hidden] { display: none !important; }` so we also need the `!important` here to be able to override the default hidden behavior on the sphinx rendered scikit-learn.org. See: https://github.com/scikit-learn/scikit-learn/issues/21755 */display: inline-block !important;position: relative;}#sk-container-id-1 div.sk-text-repr-fallback {display: none;}</style><div id=\"sk-container-id-1\" class=\"sk-top-container\"><div class=\"sk-text-repr-fallback\"><pre>MinMaxScaler()</pre><b>In a Jupyter environment, please rerun this cell to show the HTML representation or trust the notebook. <br />On GitHub, the HTML representation is unable to render, please try loading this page with nbviewer.org.</b></div><div class=\"sk-container\" hidden><div class=\"sk-item\"><div class=\"sk-estimator sk-toggleable\"><input class=\"sk-toggleable__control sk-hidden--visually\" id=\"sk-estimator-id-1\" type=\"checkbox\" checked><label for=\"sk-estimator-id-1\" class=\"sk-toggleable__label sk-toggleable__label-arrow\">MinMaxScaler</label><div class=\"sk-toggleable__content\"><pre>MinMaxScaler()</pre></div></div></div></div></div>"
      ],
      "text/plain": [
       "MinMaxScaler()"
      ]
     },
     "execution_count": 9,
     "metadata": {},
     "output_type": "execute_result"
    }
   ],
   "source": [
    "from sklearn.preprocessing import MinMaxScaler\n",
    "import pickle\n",
    "\n",
    "scl = MinMaxScaler()\n",
    "scl.fit(df.drop(['Date'], axis=1))"
   ]
  },
  {
   "cell_type": "code",
   "execution_count": 10,
   "metadata": {},
   "outputs": [],
   "source": [
    "pickle.dump(scl, open('minmax_scaler.bin', 'wb'))"
   ]
  },
  {
   "cell_type": "code",
   "execution_count": 52,
   "metadata": {},
   "outputs": [],
   "source": [
    "x = scl.transform(df.drop(['Date'], axis=1))"
   ]
  },
  {
   "cell_type": "code",
   "execution_count": 58,
   "metadata": {},
   "outputs": [],
   "source": [
    "ddf = pd.DataFrame(x, columns=['Low', 'Open', 'Volume', 'High', 'Close', 'Adjusted Close'])"
   ]
  },
  {
   "cell_type": "code",
   "execution_count": 59,
   "metadata": {},
   "outputs": [
    {
     "data": {
      "text/html": [
       "<div>\n",
       "<style scoped>\n",
       "    .dataframe tbody tr th:only-of-type {\n",
       "        vertical-align: middle;\n",
       "    }\n",
       "\n",
       "    .dataframe tbody tr th {\n",
       "        vertical-align: top;\n",
       "    }\n",
       "\n",
       "    .dataframe thead th {\n",
       "        text-align: right;\n",
       "    }\n",
       "</style>\n",
       "<table border=\"1\" class=\"dataframe\">\n",
       "  <thead>\n",
       "    <tr style=\"text-align: right;\">\n",
       "      <th></th>\n",
       "      <th>Low</th>\n",
       "      <th>Open</th>\n",
       "      <th>Volume</th>\n",
       "      <th>High</th>\n",
       "      <th>Close</th>\n",
       "      <th>Adjusted Close</th>\n",
       "    </tr>\n",
       "  </thead>\n",
       "  <tbody>\n",
       "    <tr>\n",
       "      <th>count</th>\n",
       "      <td>5.693000e+03</td>\n",
       "      <td>5.693000e+03</td>\n",
       "      <td>5693.000000</td>\n",
       "      <td>5.693000e+03</td>\n",
       "      <td>5.693000e+03</td>\n",
       "      <td>5693.000000</td>\n",
       "    </tr>\n",
       "    <tr>\n",
       "      <th>mean</th>\n",
       "      <td>5.124624e-12</td>\n",
       "      <td>5.191498e-12</td>\n",
       "      <td>0.000471</td>\n",
       "      <td>5.258447e-12</td>\n",
       "      <td>5.192594e-12</td>\n",
       "      <td>0.998474</td>\n",
       "    </tr>\n",
       "    <tr>\n",
       "      <th>std</th>\n",
       "      <td>3.987756e-12</td>\n",
       "      <td>4.031567e-12</td>\n",
       "      <td>0.000329</td>\n",
       "      <td>4.071758e-12</td>\n",
       "      <td>4.029249e-12</td>\n",
       "      <td>0.000000</td>\n",
       "    </tr>\n",
       "    <tr>\n",
       "      <th>min</th>\n",
       "      <td>9.022288e-13</td>\n",
       "      <td>9.194140e-13</td>\n",
       "      <td>0.000030</td>\n",
       "      <td>9.563624e-13</td>\n",
       "      <td>9.323030e-13</td>\n",
       "      <td>0.998474</td>\n",
       "    </tr>\n",
       "    <tr>\n",
       "      <th>25%</th>\n",
       "      <td>2.603574e-12</td>\n",
       "      <td>2.637945e-12</td>\n",
       "      <td>0.000269</td>\n",
       "      <td>2.676612e-12</td>\n",
       "      <td>2.643101e-12</td>\n",
       "      <td>0.998474</td>\n",
       "    </tr>\n",
       "    <tr>\n",
       "      <th>50%</th>\n",
       "      <td>3.569389e-12</td>\n",
       "      <td>3.623522e-12</td>\n",
       "      <td>0.000402</td>\n",
       "      <td>3.673360e-12</td>\n",
       "      <td>3.624382e-12</td>\n",
       "      <td>0.998474</td>\n",
       "    </tr>\n",
       "    <tr>\n",
       "      <th>75%</th>\n",
       "      <td>6.277749e-12</td>\n",
       "      <td>6.341415e-12</td>\n",
       "      <td>0.000582</td>\n",
       "      <td>6.417094e-12</td>\n",
       "      <td>6.331805e-12</td>\n",
       "      <td>0.998474</td>\n",
       "    </tr>\n",
       "    <tr>\n",
       "      <th>max</th>\n",
       "      <td>2.128260e-11</td>\n",
       "      <td>2.153607e-11</td>\n",
       "      <td>0.008428</td>\n",
       "      <td>2.157090e-11</td>\n",
       "      <td>2.153607e-11</td>\n",
       "      <td>0.998474</td>\n",
       "    </tr>\n",
       "  </tbody>\n",
       "</table>\n",
       "</div>"
      ],
      "text/plain": [
       "                Low          Open       Volume          High         Close  \\\n",
       "count  5.693000e+03  5.693000e+03  5693.000000  5.693000e+03  5.693000e+03   \n",
       "mean   5.124624e-12  5.191498e-12     0.000471  5.258447e-12  5.192594e-12   \n",
       "std    3.987756e-12  4.031567e-12     0.000329  4.071758e-12  4.029249e-12   \n",
       "min    9.022288e-13  9.194140e-13     0.000030  9.563624e-13  9.323030e-13   \n",
       "25%    2.603574e-12  2.637945e-12     0.000269  2.676612e-12  2.643101e-12   \n",
       "50%    3.569389e-12  3.623522e-12     0.000402  3.673360e-12  3.624382e-12   \n",
       "75%    6.277749e-12  6.341415e-12     0.000582  6.417094e-12  6.331805e-12   \n",
       "max    2.128260e-11  2.153607e-11     0.008428  2.157090e-11  2.153607e-11   \n",
       "\n",
       "       Adjusted Close  \n",
       "count     5693.000000  \n",
       "mean         0.998474  \n",
       "std          0.000000  \n",
       "min          0.998474  \n",
       "25%          0.998474  \n",
       "50%          0.998474  \n",
       "75%          0.998474  \n",
       "max          0.998474  "
      ]
     },
     "execution_count": 59,
     "metadata": {},
     "output_type": "execute_result"
    }
   ],
   "source": [
    "ddf.describe()"
   ]
  },
  {
   "cell_type": "code",
   "execution_count": 61,
   "metadata": {},
   "outputs": [
    {
     "data": {
      "text/html": [
       "<div>\n",
       "<style scoped>\n",
       "    .dataframe tbody tr th:only-of-type {\n",
       "        vertical-align: middle;\n",
       "    }\n",
       "\n",
       "    .dataframe tbody tr th {\n",
       "        vertical-align: top;\n",
       "    }\n",
       "\n",
       "    .dataframe thead th {\n",
       "        text-align: right;\n",
       "    }\n",
       "</style>\n",
       "<table border=\"1\" class=\"dataframe\">\n",
       "  <thead>\n",
       "    <tr style=\"text-align: right;\">\n",
       "      <th></th>\n",
       "      <th>Low</th>\n",
       "      <th>Open</th>\n",
       "      <th>High</th>\n",
       "      <th>Close</th>\n",
       "      <th>Adjusted Close</th>\n",
       "      <th>Volume</th>\n",
       "    </tr>\n",
       "  </thead>\n",
       "  <tbody>\n",
       "    <tr>\n",
       "      <th>count</th>\n",
       "      <td>5.693000e+03</td>\n",
       "      <td>5.693000e+03</td>\n",
       "      <td>5.693000e+03</td>\n",
       "      <td>5.693000e+03</td>\n",
       "      <td>5693.000000</td>\n",
       "      <td>5693.000000</td>\n",
       "    </tr>\n",
       "    <tr>\n",
       "      <th>mean</th>\n",
       "      <td>5.124624e-12</td>\n",
       "      <td>5.191498e-12</td>\n",
       "      <td>5.258447e-12</td>\n",
       "      <td>5.192594e-12</td>\n",
       "      <td>0.998474</td>\n",
       "      <td>0.000471</td>\n",
       "    </tr>\n",
       "    <tr>\n",
       "      <th>std</th>\n",
       "      <td>3.987756e-12</td>\n",
       "      <td>4.031567e-12</td>\n",
       "      <td>4.071758e-12</td>\n",
       "      <td>4.029249e-12</td>\n",
       "      <td>0.000000</td>\n",
       "      <td>0.000329</td>\n",
       "    </tr>\n",
       "    <tr>\n",
       "      <th>min</th>\n",
       "      <td>9.022288e-13</td>\n",
       "      <td>9.194140e-13</td>\n",
       "      <td>9.563624e-13</td>\n",
       "      <td>9.323030e-13</td>\n",
       "      <td>0.998474</td>\n",
       "      <td>0.000030</td>\n",
       "    </tr>\n",
       "    <tr>\n",
       "      <th>25%</th>\n",
       "      <td>2.603574e-12</td>\n",
       "      <td>2.637945e-12</td>\n",
       "      <td>2.676612e-12</td>\n",
       "      <td>2.643101e-12</td>\n",
       "      <td>0.998474</td>\n",
       "      <td>0.000269</td>\n",
       "    </tr>\n",
       "    <tr>\n",
       "      <th>50%</th>\n",
       "      <td>3.569389e-12</td>\n",
       "      <td>3.623522e-12</td>\n",
       "      <td>3.673360e-12</td>\n",
       "      <td>3.624382e-12</td>\n",
       "      <td>0.998474</td>\n",
       "      <td>0.000402</td>\n",
       "    </tr>\n",
       "    <tr>\n",
       "      <th>75%</th>\n",
       "      <td>6.277749e-12</td>\n",
       "      <td>6.341415e-12</td>\n",
       "      <td>6.417094e-12</td>\n",
       "      <td>6.331805e-12</td>\n",
       "      <td>0.998474</td>\n",
       "      <td>0.000582</td>\n",
       "    </tr>\n",
       "    <tr>\n",
       "      <th>max</th>\n",
       "      <td>2.128260e-11</td>\n",
       "      <td>2.153607e-11</td>\n",
       "      <td>2.157090e-11</td>\n",
       "      <td>2.153607e-11</td>\n",
       "      <td>0.998474</td>\n",
       "      <td>0.008428</td>\n",
       "    </tr>\n",
       "  </tbody>\n",
       "</table>\n",
       "</div>"
      ],
      "text/plain": [
       "                Low          Open          High         Close  Adjusted Close  \\\n",
       "count  5.693000e+03  5.693000e+03  5.693000e+03  5.693000e+03     5693.000000   \n",
       "mean   5.124624e-12  5.191498e-12  5.258447e-12  5.192594e-12        0.998474   \n",
       "std    3.987756e-12  4.031567e-12  4.071758e-12  4.029249e-12        0.000000   \n",
       "min    9.022288e-13  9.194140e-13  9.563624e-13  9.323030e-13        0.998474   \n",
       "25%    2.603574e-12  2.637945e-12  2.676612e-12  2.643101e-12        0.998474   \n",
       "50%    3.569389e-12  3.623522e-12  3.673360e-12  3.624382e-12        0.998474   \n",
       "75%    6.277749e-12  6.341415e-12  6.417094e-12  6.331805e-12        0.998474   \n",
       "max    2.128260e-11  2.153607e-11  2.157090e-11  2.153607e-11        0.998474   \n",
       "\n",
       "            Volume  \n",
       "count  5693.000000  \n",
       "mean      0.000471  \n",
       "std       0.000329  \n",
       "min       0.000030  \n",
       "25%       0.000269  \n",
       "50%       0.000402  \n",
       "75%       0.000582  \n",
       "max       0.008428  "
      ]
     },
     "execution_count": 61,
     "metadata": {},
     "output_type": "execute_result"
    }
   ],
   "source": [
    "ddf[['Low', 'Open', 'High', 'Close', 'Adjusted Close', 'Volume']].describe()"
   ]
  },
  {
   "cell_type": "code",
   "execution_count": 18,
   "metadata": {},
   "outputs": [
    {
     "data": {
      "text/plain": [
       "array([['18-11-1999', 28.612302780151367, 32.54649353027344, 62546380.0,\n",
       "        35.765380859375],\n",
       "       ['19-11-1999', 28.47818374633789, 30.713518142700195, 15234146.0,\n",
       "        30.75822639465332],\n",
       "       ['22-11-1999', 28.65700912475586, 29.551143646240234, 6577870.0,\n",
       "        31.473533630371094],\n",
       "       ['23-11-1999', 28.612302780151367, 30.40057182312012, 5975611.0,\n",
       "        31.205293655395508],\n",
       "       ['24-11-1999', 28.612302780151367, 28.701717376708984, 4843231.0,\n",
       "        29.99821281433105],\n",
       "       ['26-11-1999', 29.14878463745117, 29.23819732666016, 1729466.0,\n",
       "        29.685264587402344],\n",
       "       ['29-11-1999', 29.014663696289062, 29.327611923217773, 4074751.0,\n",
       "        30.355865478515625],\n",
       "       ['30-11-1999', 29.28290367126465, 30.042917251586918, 4310034.0,\n",
       "        30.713518142700195],\n",
       "       ['01-12-1999', 29.95350456237793, 30.177038192749023, 2957329.0,\n",
       "        31.0711727142334],\n",
       "       ['02-12-1999', 30.8923454284668, 31.29470634460449, 3069868.0,\n",
       "        32.1888427734375]], dtype=object)"
      ]
     },
     "execution_count": 18,
     "metadata": {},
     "output_type": "execute_result"
    }
   ],
   "source": [
    "df.iloc[:10].values[:, :5]"
   ]
  },
  {
   "cell_type": "code",
   "execution_count": null,
   "metadata": {},
   "outputs": [],
   "source": []
  }
 ],
 "metadata": {
  "kernelspec": {
   "display_name": "Python 3.8.13 ('hawkeye')",
   "language": "python",
   "name": "python3"
  },
  "language_info": {
   "codemirror_mode": {
    "name": "ipython",
    "version": 3
   },
   "file_extension": ".py",
   "mimetype": "text/x-python",
   "name": "python",
   "nbconvert_exporter": "python",
   "pygments_lexer": "ipython3",
   "version": "3.8.13"
  },
  "orig_nbformat": 4,
  "vscode": {
   "interpreter": {
    "hash": "9c22073af51062e6ad7b881550dba56f40a6b22c36a36ad35748461df38d8dc3"
   }
  }
 },
 "nbformat": 4,
 "nbformat_minor": 2
}
