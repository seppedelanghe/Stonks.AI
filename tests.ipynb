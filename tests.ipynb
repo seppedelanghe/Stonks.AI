{
 "cells": [
  {
   "cell_type": "code",
   "execution_count": 40,
   "metadata": {},
   "outputs": [],
   "source": [
    "import os\n",
    "import numpy as np\n",
    "import pandas as pd\n",
    "from datetime import timedelta, datetime\n",
    "from tqdm import tqdm"
   ]
  },
  {
   "cell_type": "code",
   "execution_count": 45,
   "metadata": {},
   "outputs": [],
   "source": [
    "FORBES = './stock_market_data/forbes2000/csv/'\n",
    "TICKER = 'ABTZY'\n",
    "PATH = os.path.join(FORBES, f\"{TICKER}.csv\")"
   ]
  },
  {
   "cell_type": "code",
   "execution_count": 46,
   "metadata": {},
   "outputs": [],
   "source": [
    "df = pd.read_csv(PATH)\n",
    "df['Date'] = pd.to_datetime(df['Date'])"
   ]
  },
  {
   "cell_type": "code",
   "execution_count": 47,
   "metadata": {},
   "outputs": [],
   "source": [
    "df = df.drop(['Date'], axis=1)"
   ]
  },
  {
   "cell_type": "code",
   "execution_count": 48,
   "metadata": {},
   "outputs": [
    {
     "data": {
      "text/html": [
       "<div>\n",
       "<style scoped>\n",
       "    .dataframe tbody tr th:only-of-type {\n",
       "        vertical-align: middle;\n",
       "    }\n",
       "\n",
       "    .dataframe tbody tr th {\n",
       "        vertical-align: top;\n",
       "    }\n",
       "\n",
       "    .dataframe thead th {\n",
       "        text-align: right;\n",
       "    }\n",
       "</style>\n",
       "<table border=\"1\" class=\"dataframe\">\n",
       "  <thead>\n",
       "    <tr style=\"text-align: right;\">\n",
       "      <th></th>\n",
       "      <th>Low</th>\n",
       "      <th>Open</th>\n",
       "      <th>Volume</th>\n",
       "      <th>High</th>\n",
       "      <th>Close</th>\n",
       "      <th>Adjusted Close</th>\n",
       "    </tr>\n",
       "  </thead>\n",
       "  <tbody>\n",
       "    <tr>\n",
       "      <th>count</th>\n",
       "      <td>2191.000000</td>\n",
       "      <td>2191.000000</td>\n",
       "      <td>2191.000000</td>\n",
       "      <td>2191.000000</td>\n",
       "      <td>2191.000000</td>\n",
       "      <td>2191.000000</td>\n",
       "    </tr>\n",
       "    <tr>\n",
       "      <th>mean</th>\n",
       "      <td>12.077596</td>\n",
       "      <td>12.077886</td>\n",
       "      <td>30.567777</td>\n",
       "      <td>12.080235</td>\n",
       "      <td>12.079991</td>\n",
       "      <td>11.113821</td>\n",
       "    </tr>\n",
       "    <tr>\n",
       "      <th>std</th>\n",
       "      <td>2.473940</td>\n",
       "      <td>2.473336</td>\n",
       "      <td>364.174032</td>\n",
       "      <td>2.473555</td>\n",
       "      <td>2.474034</td>\n",
       "      <td>1.995029</td>\n",
       "    </tr>\n",
       "    <tr>\n",
       "      <th>min</th>\n",
       "      <td>5.790000</td>\n",
       "      <td>5.900000</td>\n",
       "      <td>0.000000</td>\n",
       "      <td>5.900000</td>\n",
       "      <td>5.900000</td>\n",
       "      <td>5.761958</td>\n",
       "    </tr>\n",
       "    <tr>\n",
       "      <th>25%</th>\n",
       "      <td>10.270000</td>\n",
       "      <td>10.270000</td>\n",
       "      <td>0.000000</td>\n",
       "      <td>10.270000</td>\n",
       "      <td>10.270000</td>\n",
       "      <td>10.029713</td>\n",
       "    </tr>\n",
       "    <tr>\n",
       "      <th>50%</th>\n",
       "      <td>12.170000</td>\n",
       "      <td>12.170000</td>\n",
       "      <td>0.000000</td>\n",
       "      <td>12.170000</td>\n",
       "      <td>12.170000</td>\n",
       "      <td>10.776670</td>\n",
       "    </tr>\n",
       "    <tr>\n",
       "      <th>75%</th>\n",
       "      <td>14.220000</td>\n",
       "      <td>14.220000</td>\n",
       "      <td>0.000000</td>\n",
       "      <td>14.220000</td>\n",
       "      <td>14.220000</td>\n",
       "      <td>12.861450</td>\n",
       "    </tr>\n",
       "    <tr>\n",
       "      <th>max</th>\n",
       "      <td>17.820000</td>\n",
       "      <td>17.820000</td>\n",
       "      <td>13100.000000</td>\n",
       "      <td>17.820000</td>\n",
       "      <td>17.820000</td>\n",
       "      <td>16.033495</td>\n",
       "    </tr>\n",
       "  </tbody>\n",
       "</table>\n",
       "</div>"
      ],
      "text/plain": [
       "               Low         Open        Volume         High        Close  \\\n",
       "count  2191.000000  2191.000000   2191.000000  2191.000000  2191.000000   \n",
       "mean     12.077596    12.077886     30.567777    12.080235    12.079991   \n",
       "std       2.473940     2.473336    364.174032     2.473555     2.474034   \n",
       "min       5.790000     5.900000      0.000000     5.900000     5.900000   \n",
       "25%      10.270000    10.270000      0.000000    10.270000    10.270000   \n",
       "50%      12.170000    12.170000      0.000000    12.170000    12.170000   \n",
       "75%      14.220000    14.220000      0.000000    14.220000    14.220000   \n",
       "max      17.820000    17.820000  13100.000000    17.820000    17.820000   \n",
       "\n",
       "       Adjusted Close  \n",
       "count     2191.000000  \n",
       "mean        11.113821  \n",
       "std          1.995029  \n",
       "min          5.761958  \n",
       "25%         10.029713  \n",
       "50%         10.776670  \n",
       "75%         12.861450  \n",
       "max         16.033495  "
      ]
     },
     "execution_count": 48,
     "metadata": {},
     "output_type": "execute_result"
    }
   ],
   "source": [
    "df.describe()"
   ]
  },
  {
   "cell_type": "code",
   "execution_count": 49,
   "metadata": {},
   "outputs": [],
   "source": [
    "df = df[['Low', 'Open', 'High', 'Close', 'Adjusted Close', 'Volume']]"
   ]
  },
  {
   "cell_type": "code",
   "execution_count": 75,
   "metadata": {},
   "outputs": [],
   "source": [
    "def make_dataset(df: np.ndarray, time_d: int = 10):\n",
    "    X, y = [], []\n",
    "\n",
    "    for i in range(df.shape[0] - time_d - 1):\n",
    "        idx = i + time_d\n",
    "        row = df[idx + 1]\n",
    "        row = row[:-1] # remove volume is it doesn't need to be predicted\n",
    "        if np.isnan(np.sum(row)):\n",
    "            continue\n",
    "\n",
    "        x = df[i:idx]\n",
    "        if np.isnan(np.sum(x)):\n",
    "            continue # if the row (y) has nans, skip\n",
    "\n",
    "        print(i, x, row)\n",
    "        X.append(x)\n",
    "        y.append(row)\n",
    "\n",
    "        break\n",
    "        \n",
    "    return np.array(X), np.array(y)"
   ]
  },
  {
   "cell_type": "code",
   "execution_count": 76,
   "metadata": {},
   "outputs": [
    {
     "name": "stdout",
     "output_type": "stream",
     "text": [
      "141 [[ 11.5         11.5         11.5         11.5          9.69760513\n",
      "  100.        ]\n",
      " [ 11.5         11.5         11.5         11.5          9.69760513\n",
      "    0.        ]\n",
      " [ 11.5         11.5         11.5         11.5          9.69760513\n",
      "    0.        ]\n",
      " [ 11.5         11.5         11.5         11.5          9.69760513\n",
      "    0.        ]\n",
      " [ 11.5         11.5         11.5         11.5          9.69760513\n",
      "    0.        ]\n",
      " [ 11.5         11.5         11.5         11.5          9.69760513\n",
      "    0.        ]\n",
      " [ 11.5         11.5         11.5         11.5          9.69760513\n",
      "    0.        ]\n",
      " [ 11.5         11.5         11.5         11.5          9.69760513\n",
      "    0.        ]\n",
      " [ 11.5         11.5         11.5         11.5          9.69760513\n",
      "    0.        ]\n",
      " [ 11.5         11.5         11.5         11.5          9.69760513\n",
      "    0.        ]] [11.5        11.5        11.5        11.5         9.69760513]\n"
     ]
    }
   ],
   "source": [
    "X, y = make_dataset(df.to_numpy())"
   ]
  },
  {
   "cell_type": "code",
   "execution_count": 66,
   "metadata": {},
   "outputs": [
    {
     "data": {
      "text/plain": [
       "True"
      ]
     },
     "execution_count": 66,
     "metadata": {},
     "output_type": "execute_result"
    }
   ],
   "source": [
    "np.isnan(np.sum(X[0]))"
   ]
  },
  {
   "cell_type": "code",
   "execution_count": 55,
   "metadata": {},
   "outputs": [
    {
     "data": {
      "text/plain": [
       "True"
      ]
     },
     "execution_count": 55,
     "metadata": {},
     "output_type": "execute_result"
    }
   ],
   "source": [
    "X[0, 0] = 0.3343\n",
    "np.isnan(np.sum(X))"
   ]
  },
  {
   "cell_type": "code",
   "execution_count": null,
   "metadata": {},
   "outputs": [],
   "source": []
  },
  {
   "cell_type": "code",
   "execution_count": 57,
   "metadata": {},
   "outputs": [
    {
     "data": {
      "text/plain": [
       "array([[2.86123028e+01, 3.25464935e+01, 6.25463800e+07, 3.57653809e+01,\n",
       "        3.14735336e+01, 2.69763737e+01],\n",
       "       [2.84781837e+01, 3.07135181e+01, 1.52341460e+07, 3.07582264e+01,\n",
       "        2.88805447e+01, 2.47538853e+01],\n",
       "       [2.86570091e+01, 2.95511436e+01, 6.57787000e+06, 3.14735336e+01,\n",
       "        3.14735336e+01, 2.69763737e+01],\n",
       "       [2.86123028e+01, 3.04005718e+01, 5.97561100e+06, 3.12052937e+01,\n",
       "        2.86123028e+01, 2.45239677e+01],\n",
       "       [2.86123028e+01, 2.87017174e+01, 4.84323100e+06, 2.99982128e+01,\n",
       "        2.93723183e+01, 2.51753941e+01],\n",
       "       [2.91487846e+01, 2.92381973e+01, 1.72946600e+06, 2.96852646e+01,\n",
       "        2.94617310e+01, 2.52520294e+01],\n",
       "       [2.90146637e+01, 2.93276119e+01, 4.07475100e+06, 3.03558655e+01,\n",
       "        3.01323318e+01, 2.58268089e+01],\n",
       "       [2.92829037e+01, 3.00429173e+01, 4.31003400e+06, 3.07135181e+01,\n",
       "        3.01770382e+01, 2.58651333e+01],\n",
       "       [2.99535046e+01, 3.01770382e+01, 2.95732900e+06, 3.10711727e+01,\n",
       "        3.07135181e+01, 2.63249512e+01]])"
      ]
     },
     "execution_count": 57,
     "metadata": {},
     "output_type": "execute_result"
    }
   ],
   "source": [
    "X[0, :-1]"
   ]
  },
  {
   "cell_type": "code",
   "execution_count": 12,
   "metadata": {},
   "outputs": [],
   "source": [
    "def get_all_csv_files(dir: str):\n",
    "    files = []\n",
    "    a = os.listdir(dir)\n",
    "    for b in a:\n",
    "        if os.path.isdir(os.path.join(dir, b)):\n",
    "            c = os.path.join(dir, b, 'csv')\n",
    "            if os.path.isdir(c):\n",
    "                files += [os.path.join(c, f) for f in os.listdir(c) if f[-4:] == '.csv']\n",
    "\n",
    "    return files"
   ]
  },
  {
   "cell_type": "code",
   "execution_count": 13,
   "metadata": {},
   "outputs": [],
   "source": [
    "def large_df(files):\n",
    "    return pd.concat((pd.read_csv(f) for i, f in tqdm(enumerate(files), total=len(files))), ignore_index=True)"
   ]
  },
  {
   "cell_type": "code",
   "execution_count": 14,
   "metadata": {},
   "outputs": [],
   "source": [
    "def scale(X, y):\n",
    "    div = 255 / np.max(X)\n",
    "    X *= div\n",
    "    y *= div\n",
    "    return X, y"
   ]
  },
  {
   "cell_type": "code",
   "execution_count": 16,
   "metadata": {},
   "outputs": [],
   "source": [
    "files = get_all_csv_files('stock_market_data')"
   ]
  },
  {
   "cell_type": "code",
   "execution_count": 18,
   "metadata": {},
   "outputs": [
    {
     "name": "stdout",
     "output_type": "stream",
     "text": [
      "stock_market_data\\forbes2000\\csv\\ABTZY.csv\n",
      "stock_market_data\\forbes2000\\csv\\ADERY.csv\n",
      "stock_market_data\\forbes2000\\csv\\AET.csv\n",
      "stock_market_data\\forbes2000\\csv\\AFSI.csv\n",
      "stock_market_data\\forbes2000\\csv\\AUNB.csv\n",
      "stock_market_data\\forbes2000\\csv\\BHI.csv\n",
      "stock_market_data\\forbes2000\\csv\\BKRL.csv\n",
      "stock_market_data\\forbes2000\\csv\\BKUT.csv\n",
      "stock_market_data\\forbes2000\\csv\\CAA.csv\n",
      "stock_market_data\\forbes2000\\csv\\CBI.csv\n",
      "stock_market_data\\forbes2000\\csv\\CBUMF.csv\n",
      "stock_market_data\\forbes2000\\csv\\CCE.csv\n",
      "stock_market_data\\forbes2000\\csv\\CCGY.csv\n",
      "stock_market_data\\forbes2000\\csv\\CGYV.csv\n",
      "stock_market_data\\forbes2000\\csv\\CHNGQ.csv\n",
      "stock_market_data\\forbes2000\\csv\\COL.csv\n",
      "stock_market_data\\forbes2000\\csv\\CPFH.csv\n",
      "stock_market_data\\forbes2000\\csv\\CPICQ.csv\n",
      "stock_market_data\\forbes2000\\csv\\CTBK.csv\n",
      "stock_market_data\\forbes2000\\csv\\CTC.csv\n",
      "stock_market_data\\forbes2000\\csv\\ELROF.csv\n",
      "stock_market_data\\forbes2000\\csv\\ESRX.csv\n",
      "stock_market_data\\forbes2000\\csv\\GBNK.csv\n",
      "stock_market_data\\forbes2000\\csv\\GKNLY.csv\n",
      "stock_market_data\\forbes2000\\csv\\HPIL.csv\n",
      "stock_market_data\\forbes2000\\csv\\HXGBY.csv\n",
      "stock_market_data\\forbes2000\\csv\\IDLLF.csv\n",
      "stock_market_data\\forbes2000\\csv\\IFSB.csv\n",
      "stock_market_data\\forbes2000\\csv\\ISDAF.csv\n",
      "stock_market_data\\forbes2000\\csv\\JDID.csv\n",
      "stock_market_data\\forbes2000\\csv\\KYUNF.csv\n",
      "stock_market_data\\forbes2000\\csv\\NBGGY.csv\n",
      "stock_market_data\\forbes2000\\csv\\ORYX.csv\n",
      "stock_market_data\\forbes2000\\csv\\OTPGF.csv\n",
      "stock_market_data\\forbes2000\\csv\\OXNXF.csv\n",
      "stock_market_data\\forbes2000\\csv\\PEXUF.csv\n",
      "stock_market_data\\forbes2000\\csv\\PKWY.csv\n",
      "stock_market_data\\forbes2000\\csv\\PMHV.csv\n",
      "stock_market_data\\forbes2000\\csv\\SAHN.csv\n",
      "stock_market_data\\forbes2000\\csv\\SGDBF.csv\n",
      "stock_market_data\\forbes2000\\csv\\SGFEF.csv\n",
      "stock_market_data\\forbes2000\\csv\\SHPG.csv\n",
      "stock_market_data\\forbes2000\\csv\\SNI.csv\n",
      "stock_market_data\\forbes2000\\csv\\SSNLF.csv\n",
      "stock_market_data\\forbes2000\\csv\\SUGBY.csv\n",
      "stock_market_data\\forbes2000\\csv\\SWSKF.csv\n",
      "stock_market_data\\forbes2000\\csv\\SYNT.csv\n",
      "stock_market_data\\forbes2000\\csv\\TDBOF.csv\n",
      "stock_market_data\\forbes2000\\csv\\TFIV.csv\n",
      "stock_market_data\\forbes2000\\csv\\TLPC.csv\n",
      "stock_market_data\\forbes2000\\csv\\TMIX.csv\n",
      "stock_market_data\\forbes2000\\csv\\TREC.csv\n",
      "stock_market_data\\forbes2000\\csv\\TWODY.csv\n",
      "stock_market_data\\forbes2000\\csv\\TWX.csv\n",
      "stock_market_data\\forbes2000\\csv\\UABK.csv\n",
      "stock_market_data\\forbes2000\\csv\\USCS.csv\n",
      "stock_market_data\\forbes2000\\csv\\VDNRF.csv\n",
      "stock_market_data\\forbes2000\\csv\\VIP.csv\n",
      "stock_market_data\\forbes2000\\csv\\VVDB.csv\n",
      "stock_market_data\\forbes2000\\csv\\WAWL.csv\n",
      "stock_market_data\\forbes2000\\csv\\WEFIF.csv\n",
      "stock_market_data\\forbes2000\\csv\\WOPEY.csv\n",
      "stock_market_data\\nasdaq\\csv\\AAVL.csv\n",
      "stock_market_data\\nasdaq\\csv\\ABCD.csv\n",
      "stock_market_data\\nasdaq\\csv\\ABCO.csv\n",
      "stock_market_data\\nasdaq\\csv\\ABGOY.csv\n",
      "stock_market_data\\nasdaq\\csv\\ACFC.csv\n",
      "stock_market_data\\nasdaq\\csv\\ACTA.csv\n",
      "stock_market_data\\nasdaq\\csv\\AFAM.csv\n",
      "stock_market_data\\nasdaq\\csv\\AFCB.csv\n",
      "stock_market_data\\nasdaq\\csv\\AFSI.csv\n",
      "stock_market_data\\nasdaq\\csv\\AHGP.csv\n",
      "stock_market_data\\nasdaq\\csv\\ALOG.csv\n",
      "stock_market_data\\nasdaq\\csv\\ALSD.csv\n",
      "stock_market_data\\nasdaq\\csv\\ANAT.csv\n",
      "stock_market_data\\nasdaq\\csv\\ANCB.csv\n",
      "stock_market_data\\nasdaq\\csv\\ANCX.csv\n",
      "stock_market_data\\nasdaq\\csv\\ARII.csv\n",
      "stock_market_data\\nasdaq\\csv\\ARNA.csv\n",
      "stock_market_data\\nasdaq\\csv\\ATRS.csv\n",
      "stock_market_data\\nasdaq\\csv\\BBOX.csv\n",
      "stock_market_data\\nasdaq\\csv\\BBRG.csv\n",
      "stock_market_data\\nasdaq\\csv\\BDMS.csv\n",
      "stock_market_data\\nasdaq\\csv\\BDSI.csv\n",
      "stock_market_data\\nasdaq\\csv\\BIND.csv\n",
      "stock_market_data\\nasdaq\\csv\\BSF.csv\n",
      "stock_market_data\\nasdaq\\csv\\BYBK.csv\n",
      "stock_market_data\\nasdaq\\csv\\CACH.csv\n",
      "stock_market_data\\nasdaq\\csv\\CALD.csv\n",
      "stock_market_data\\nasdaq\\csv\\CALL.csv\n",
      "stock_market_data\\nasdaq\\csv\\CAVM.csv\n",
      "stock_market_data\\nasdaq\\csv\\CCIH.csv\n",
      "stock_market_data\\nasdaq\\csv\\CERN.csv\n",
      "stock_market_data\\nasdaq\\csv\\CHFN.csv\n",
      "stock_market_data\\nasdaq\\csv\\CNXR.csv\n",
      "stock_market_data\\nasdaq\\csv\\COBZ.csv\n",
      "stock_market_data\\nasdaq\\csv\\COHR.csv\n",
      "stock_market_data\\nasdaq\\csv\\CORI.csv\n",
      "stock_market_data\\nasdaq\\csv\\CPICQ.csv\n",
      "stock_market_data\\nasdaq\\csv\\CPLA.csv\n",
      "stock_market_data\\nasdaq\\csv\\CRTN.csv\n",
      "stock_market_data\\nasdaq\\csv\\CRWN.csv\n",
      "stock_market_data\\nasdaq\\csv\\CSBK.csv\n",
      "stock_market_data\\nasdaq\\csv\\CWAY.csv\n",
      "stock_market_data\\nasdaq\\csv\\CXDC.csv\n",
      "stock_market_data\\nasdaq\\csv\\CYIO.csv\n",
      "stock_market_data\\nasdaq\\csv\\DARA.csv\n",
      "stock_market_data\\nasdaq\\csv\\DWCH.csv\n",
      "stock_market_data\\nasdaq\\csv\\DXM.csv\n",
      "stock_market_data\\nasdaq\\csv\\ECOL.csv\n",
      "stock_market_data\\nasdaq\\csv\\ECYT.csv\n",
      "stock_market_data\\nasdaq\\csv\\EDGW.csv\n",
      "stock_market_data\\nasdaq\\csv\\EDSFF.csv\n",
      "stock_market_data\\nasdaq\\csv\\ELON.csv\n",
      "stock_market_data\\nasdaq\\csv\\EPAY.csv\n",
      "stock_market_data\\nasdaq\\csv\\ESBK.csv\n",
      "stock_market_data\\nasdaq\\csv\\ESIO.csv\n",
      "stock_market_data\\nasdaq\\csv\\ESRX.csv\n",
      "stock_market_data\\nasdaq\\csv\\EXAC.csv\n",
      "stock_market_data\\nasdaq\\csv\\FFKT.csv\n",
      "stock_market_data\\nasdaq\\csv\\FFNM.csv\n",
      "stock_market_data\\nasdaq\\csv\\FINL.csv\n",
      "stock_market_data\\nasdaq\\csv\\FMI.csv\n",
      "stock_market_data\\nasdaq\\csv\\FNRG.csv\n",
      "stock_market_data\\nasdaq\\csv\\FSFF.csv\n",
      "stock_market_data\\nasdaq\\csv\\GBNK.csv\n",
      "stock_market_data\\nasdaq\\csv\\GMAN.csv\n",
      "stock_market_data\\nasdaq\\csv\\GNBC.csv\n",
      "stock_market_data\\nasdaq\\csv\\GNCMA.csv\n",
      "stock_market_data\\nasdaq\\csv\\GNOW.csv\n",
      "stock_market_data\\nasdaq\\csv\\GNSG.csv\n",
      "stock_market_data\\nasdaq\\csv\\HAWK.csv\n",
      "stock_market_data\\nasdaq\\csv\\HBP.csv\n",
      "stock_market_data\\nasdaq\\csv\\HDNG.csv\n",
      "stock_market_data\\nasdaq\\csv\\HDP.csv\n",
      "stock_market_data\\nasdaq\\csv\\HQCL.csv\n",
      "stock_market_data\\nasdaq\\csv\\IIN.csv\n",
      "stock_market_data\\nasdaq\\csv\\INTX.csv\n",
      "stock_market_data\\nasdaq\\csv\\IPAS.csv\n",
      "stock_market_data\\nasdaq\\csv\\IPCC.csv\n",
      "stock_market_data\\nasdaq\\csv\\IPXL.csv\n",
      "stock_market_data\\nasdaq\\csv\\ISBC.csv\n",
      "stock_market_data\\nasdaq\\csv\\JMBA.csv\n",
      "stock_market_data\\nasdaq\\csv\\JOBS.csv\n",
      "stock_market_data\\nasdaq\\csv\\JTPY.csv\n",
      "stock_market_data\\nasdaq\\csv\\JUNO.csv\n",
      "stock_market_data\\nasdaq\\csv\\JXSB.csv\n",
      "stock_market_data\\nasdaq\\csv\\KANG.csv\n",
      "stock_market_data\\nasdaq\\csv\\KERX.csv\n",
      "stock_market_data\\nasdaq\\csv\\KEYW.csv\n",
      "stock_market_data\\nasdaq\\csv\\KGJI.csv\n",
      "stock_market_data\\nasdaq\\csv\\KLXI.csv\n",
      "stock_market_data\\nasdaq\\csv\\KTWO.csv\n",
      "stock_market_data\\nasdaq\\csv\\LAWS.csv\n",
      "stock_market_data\\nasdaq\\csv\\LAYN.csv\n",
      "stock_market_data\\nasdaq\\csv\\LGCY.csv\n",
      "stock_market_data\\nasdaq\\csv\\LIME.csv\n",
      "stock_market_data\\nasdaq\\csv\\LMDCF.csv\n",
      "stock_market_data\\nasdaq\\csv\\LPNT.csv\n",
      "stock_market_data\\nasdaq\\csv\\LTRE.csv\n",
      "stock_market_data\\nasdaq\\csv\\MATR.csv\n",
      "stock_market_data\\nasdaq\\csv\\MITL.csv\n",
      "stock_market_data\\nasdaq\\csv\\MOBL.csv\n",
      "stock_market_data\\nasdaq\\csv\\MSCC.csv\n",
      "stock_market_data\\nasdaq\\csv\\MSFG.csv\n",
      "stock_market_data\\nasdaq\\csv\\MZOR.csv\n",
      "stock_market_data\\nasdaq\\csv\\NCLIP.csv\n",
      "stock_market_data\\nasdaq\\csv\\NOXL.csv\n",
      "stock_market_data\\nasdaq\\csv\\NRCIB.csv\n",
      "stock_market_data\\nasdaq\\csv\\NSEC.csv\n",
      "stock_market_data\\nasdaq\\csv\\NUAN.csv\n",
      "stock_market_data\\nasdaq\\csv\\OCLR.csv\n",
      "stock_market_data\\nasdaq\\csv\\ORIG.csv\n",
      "stock_market_data\\nasdaq\\csv\\PBIP.csv\n",
      "stock_market_data\\nasdaq\\csv\\PBSK.csv\n",
      "stock_market_data\\nasdaq\\csv\\PCOM.csv\n",
      "stock_market_data\\nasdaq\\csv\\PERY.csv\n",
      "stock_market_data\\nasdaq\\csv\\PLPL.csv\n",
      "stock_market_data\\nasdaq\\csv\\PRSS.csv\n",
      "stock_market_data\\nasdaq\\csv\\QKLS.csv\n",
      "stock_market_data\\nasdaq\\csv\\REGI.csv\n",
      "stock_market_data\\nasdaq\\csv\\REIS.csv\n",
      "stock_market_data\\nasdaq\\csv\\RITT.csv\n",
      "stock_market_data\\nasdaq\\csv\\RLJE.csv\n",
      "stock_market_data\\nasdaq\\csv\\RMGN.csv\n",
      "stock_market_data\\nasdaq\\csv\\RSYS.csv\n",
      "stock_market_data\\nasdaq\\csv\\SCYT.csv\n",
      "stock_market_data\\nasdaq\\csv\\SDAD.csv\n",
      "stock_market_data\\nasdaq\\csv\\SGBI.csv\n",
      "stock_market_data\\nasdaq\\csv\\SHLD.csv\n",
      "stock_market_data\\nasdaq\\csv\\SHLM.csv\n",
      "stock_market_data\\nasdaq\\csv\\SHPG.csv\n",
      "stock_market_data\\nasdaq\\csv\\SKPI.csv\n",
      "stock_market_data\\nasdaq\\csv\\SKYAY.csv\n",
      "stock_market_data\\nasdaq\\csv\\SKYS.csv\n",
      "stock_market_data\\nasdaq\\csv\\SNMX.csv\n",
      "stock_market_data\\nasdaq\\csv\\SNSGF.csv\n",
      "stock_market_data\\nasdaq\\csv\\SODA.csv\n",
      "stock_market_data\\nasdaq\\csv\\SONC.csv\n",
      "stock_market_data\\nasdaq\\csv\\SPDC.csv\n",
      "stock_market_data\\nasdaq\\csv\\SPIL.csv\n",
      "stock_market_data\\nasdaq\\csv\\STBZ.csv\n",
      "stock_market_data\\nasdaq\\csv\\SUMR.csv\n",
      "stock_market_data\\nasdaq\\csv\\SWSH.csv\n",
      "stock_market_data\\nasdaq\\csv\\SYNT.csv\n",
      "stock_market_data\\nasdaq\\csv\\TSC.csv\n",
      "stock_market_data\\nasdaq\\csv\\UCBA.csv\n",
      "stock_market_data\\nasdaq\\csv\\UEPS.csv\n",
      "stock_market_data\\nasdaq\\csv\\VIEWF.csv\n",
      "stock_market_data\\nasdaq\\csv\\WEB.csv\n",
      "stock_market_data\\nasdaq\\csv\\WLKR.csv\n",
      "stock_market_data\\nasdaq\\csv\\WSCI.csv\n",
      "stock_market_data\\nasdaq\\csv\\WSTL.csv\n",
      "stock_market_data\\nasdaq\\csv\\WWSG.csv\n",
      "stock_market_data\\nasdaq\\csv\\XCRA.csv\n"
     ]
    },
    {
     "ename": "KeyboardInterrupt",
     "evalue": "",
     "output_type": "error",
     "traceback": [
      "\u001b[1;31m---------------------------------------------------------------------------\u001b[0m",
      "\u001b[1;31mKeyboardInterrupt\u001b[0m                         Traceback (most recent call last)",
      "\u001b[1;32m~\\AppData\\Local\\Temp/ipykernel_14908/2036465949.py\u001b[0m in \u001b[0;36m<module>\u001b[1;34m\u001b[0m\n\u001b[0;32m      1\u001b[0m \u001b[1;32mfor\u001b[0m \u001b[0mfile\u001b[0m \u001b[1;32min\u001b[0m \u001b[0mfiles\u001b[0m\u001b[1;33m:\u001b[0m\u001b[1;33m\u001b[0m\u001b[1;33m\u001b[0m\u001b[0m\n\u001b[1;32m----> 2\u001b[1;33m     \u001b[1;32mif\u001b[0m \u001b[0mpd\u001b[0m\u001b[1;33m.\u001b[0m\u001b[0mread_csv\u001b[0m\u001b[1;33m(\u001b[0m\u001b[0mfile\u001b[0m\u001b[1;33m)\u001b[0m\u001b[1;33m.\u001b[0m\u001b[0misnull\u001b[0m\u001b[1;33m(\u001b[0m\u001b[1;33m)\u001b[0m\u001b[1;33m.\u001b[0m\u001b[0mvalues\u001b[0m\u001b[1;33m.\u001b[0m\u001b[0many\u001b[0m\u001b[1;33m(\u001b[0m\u001b[1;33m)\u001b[0m\u001b[1;33m:\u001b[0m\u001b[1;33m\u001b[0m\u001b[1;33m\u001b[0m\u001b[0m\n\u001b[0m\u001b[0;32m      3\u001b[0m         \u001b[0mprint\u001b[0m\u001b[1;33m(\u001b[0m\u001b[0mfile\u001b[0m\u001b[1;33m)\u001b[0m\u001b[1;33m\u001b[0m\u001b[1;33m\u001b[0m\u001b[0m\n",
      "\u001b[1;32mc:\\Users\\Seppe\\.conda\\envs\\tf-gpu\\lib\\site-packages\\pandas\\util\\_decorators.py\u001b[0m in \u001b[0;36mwrapper\u001b[1;34m(*args, **kwargs)\u001b[0m\n\u001b[0;32m    309\u001b[0m                     \u001b[0mstacklevel\u001b[0m\u001b[1;33m=\u001b[0m\u001b[0mstacklevel\u001b[0m\u001b[1;33m,\u001b[0m\u001b[1;33m\u001b[0m\u001b[1;33m\u001b[0m\u001b[0m\n\u001b[0;32m    310\u001b[0m                 )\n\u001b[1;32m--> 311\u001b[1;33m             \u001b[1;32mreturn\u001b[0m \u001b[0mfunc\u001b[0m\u001b[1;33m(\u001b[0m\u001b[1;33m*\u001b[0m\u001b[0margs\u001b[0m\u001b[1;33m,\u001b[0m \u001b[1;33m**\u001b[0m\u001b[0mkwargs\u001b[0m\u001b[1;33m)\u001b[0m\u001b[1;33m\u001b[0m\u001b[1;33m\u001b[0m\u001b[0m\n\u001b[0m\u001b[0;32m    312\u001b[0m \u001b[1;33m\u001b[0m\u001b[0m\n\u001b[0;32m    313\u001b[0m         \u001b[1;32mreturn\u001b[0m \u001b[0mwrapper\u001b[0m\u001b[1;33m\u001b[0m\u001b[1;33m\u001b[0m\u001b[0m\n",
      "\u001b[1;32mc:\\Users\\Seppe\\.conda\\envs\\tf-gpu\\lib\\site-packages\\pandas\\io\\parsers\\readers.py\u001b[0m in \u001b[0;36mread_csv\u001b[1;34m(filepath_or_buffer, sep, delimiter, header, names, index_col, usecols, squeeze, prefix, mangle_dupe_cols, dtype, engine, converters, true_values, false_values, skipinitialspace, skiprows, skipfooter, nrows, na_values, keep_default_na, na_filter, verbose, skip_blank_lines, parse_dates, infer_datetime_format, keep_date_col, date_parser, dayfirst, cache_dates, iterator, chunksize, compression, thousands, decimal, lineterminator, quotechar, quoting, doublequote, escapechar, comment, encoding, encoding_errors, dialect, error_bad_lines, warn_bad_lines, on_bad_lines, delim_whitespace, low_memory, memory_map, float_precision, storage_options)\u001b[0m\n\u001b[0;32m    584\u001b[0m     \u001b[0mkwds\u001b[0m\u001b[1;33m.\u001b[0m\u001b[0mupdate\u001b[0m\u001b[1;33m(\u001b[0m\u001b[0mkwds_defaults\u001b[0m\u001b[1;33m)\u001b[0m\u001b[1;33m\u001b[0m\u001b[1;33m\u001b[0m\u001b[0m\n\u001b[0;32m    585\u001b[0m \u001b[1;33m\u001b[0m\u001b[0m\n\u001b[1;32m--> 586\u001b[1;33m     \u001b[1;32mreturn\u001b[0m \u001b[0m_read\u001b[0m\u001b[1;33m(\u001b[0m\u001b[0mfilepath_or_buffer\u001b[0m\u001b[1;33m,\u001b[0m \u001b[0mkwds\u001b[0m\u001b[1;33m)\u001b[0m\u001b[1;33m\u001b[0m\u001b[1;33m\u001b[0m\u001b[0m\n\u001b[0m\u001b[0;32m    587\u001b[0m \u001b[1;33m\u001b[0m\u001b[0m\n\u001b[0;32m    588\u001b[0m \u001b[1;33m\u001b[0m\u001b[0m\n",
      "\u001b[1;32mc:\\Users\\Seppe\\.conda\\envs\\tf-gpu\\lib\\site-packages\\pandas\\io\\parsers\\readers.py\u001b[0m in \u001b[0;36m_read\u001b[1;34m(filepath_or_buffer, kwds)\u001b[0m\n\u001b[0;32m    480\u001b[0m \u001b[1;33m\u001b[0m\u001b[0m\n\u001b[0;32m    481\u001b[0m     \u001b[1;31m# Create the parser.\u001b[0m\u001b[1;33m\u001b[0m\u001b[1;33m\u001b[0m\u001b[0m\n\u001b[1;32m--> 482\u001b[1;33m     \u001b[0mparser\u001b[0m \u001b[1;33m=\u001b[0m \u001b[0mTextFileReader\u001b[0m\u001b[1;33m(\u001b[0m\u001b[0mfilepath_or_buffer\u001b[0m\u001b[1;33m,\u001b[0m \u001b[1;33m**\u001b[0m\u001b[0mkwds\u001b[0m\u001b[1;33m)\u001b[0m\u001b[1;33m\u001b[0m\u001b[1;33m\u001b[0m\u001b[0m\n\u001b[0m\u001b[0;32m    483\u001b[0m \u001b[1;33m\u001b[0m\u001b[0m\n\u001b[0;32m    484\u001b[0m     \u001b[1;32mif\u001b[0m \u001b[0mchunksize\u001b[0m \u001b[1;32mor\u001b[0m \u001b[0miterator\u001b[0m\u001b[1;33m:\u001b[0m\u001b[1;33m\u001b[0m\u001b[1;33m\u001b[0m\u001b[0m\n",
      "\u001b[1;32mc:\\Users\\Seppe\\.conda\\envs\\tf-gpu\\lib\\site-packages\\pandas\\io\\parsers\\readers.py\u001b[0m in \u001b[0;36m__init__\u001b[1;34m(self, f, engine, **kwds)\u001b[0m\n\u001b[0;32m    809\u001b[0m             \u001b[0mself\u001b[0m\u001b[1;33m.\u001b[0m\u001b[0moptions\u001b[0m\u001b[1;33m[\u001b[0m\u001b[1;34m\"has_index_names\"\u001b[0m\u001b[1;33m]\u001b[0m \u001b[1;33m=\u001b[0m \u001b[0mkwds\u001b[0m\u001b[1;33m[\u001b[0m\u001b[1;34m\"has_index_names\"\u001b[0m\u001b[1;33m]\u001b[0m\u001b[1;33m\u001b[0m\u001b[1;33m\u001b[0m\u001b[0m\n\u001b[0;32m    810\u001b[0m \u001b[1;33m\u001b[0m\u001b[0m\n\u001b[1;32m--> 811\u001b[1;33m         \u001b[0mself\u001b[0m\u001b[1;33m.\u001b[0m\u001b[0m_engine\u001b[0m \u001b[1;33m=\u001b[0m \u001b[0mself\u001b[0m\u001b[1;33m.\u001b[0m\u001b[0m_make_engine\u001b[0m\u001b[1;33m(\u001b[0m\u001b[0mself\u001b[0m\u001b[1;33m.\u001b[0m\u001b[0mengine\u001b[0m\u001b[1;33m)\u001b[0m\u001b[1;33m\u001b[0m\u001b[1;33m\u001b[0m\u001b[0m\n\u001b[0m\u001b[0;32m    812\u001b[0m \u001b[1;33m\u001b[0m\u001b[0m\n\u001b[0;32m    813\u001b[0m     \u001b[1;32mdef\u001b[0m \u001b[0mclose\u001b[0m\u001b[1;33m(\u001b[0m\u001b[0mself\u001b[0m\u001b[1;33m)\u001b[0m\u001b[1;33m:\u001b[0m\u001b[1;33m\u001b[0m\u001b[1;33m\u001b[0m\u001b[0m\n",
      "\u001b[1;32mc:\\Users\\Seppe\\.conda\\envs\\tf-gpu\\lib\\site-packages\\pandas\\io\\parsers\\readers.py\u001b[0m in \u001b[0;36m_make_engine\u001b[1;34m(self, engine)\u001b[0m\n\u001b[0;32m   1038\u001b[0m             )\n\u001b[0;32m   1039\u001b[0m         \u001b[1;31m# error: Too many arguments for \"ParserBase\"\u001b[0m\u001b[1;33m\u001b[0m\u001b[1;33m\u001b[0m\u001b[0m\n\u001b[1;32m-> 1040\u001b[1;33m         \u001b[1;32mreturn\u001b[0m \u001b[0mmapping\u001b[0m\u001b[1;33m[\u001b[0m\u001b[0mengine\u001b[0m\u001b[1;33m]\u001b[0m\u001b[1;33m(\u001b[0m\u001b[0mself\u001b[0m\u001b[1;33m.\u001b[0m\u001b[0mf\u001b[0m\u001b[1;33m,\u001b[0m \u001b[1;33m**\u001b[0m\u001b[0mself\u001b[0m\u001b[1;33m.\u001b[0m\u001b[0moptions\u001b[0m\u001b[1;33m)\u001b[0m  \u001b[1;31m# type: ignore[call-arg]\u001b[0m\u001b[1;33m\u001b[0m\u001b[1;33m\u001b[0m\u001b[0m\n\u001b[0m\u001b[0;32m   1041\u001b[0m \u001b[1;33m\u001b[0m\u001b[0m\n\u001b[0;32m   1042\u001b[0m     \u001b[1;32mdef\u001b[0m \u001b[0m_failover_to_python\u001b[0m\u001b[1;33m(\u001b[0m\u001b[0mself\u001b[0m\u001b[1;33m)\u001b[0m\u001b[1;33m:\u001b[0m\u001b[1;33m\u001b[0m\u001b[1;33m\u001b[0m\u001b[0m\n",
      "\u001b[1;32mc:\\Users\\Seppe\\.conda\\envs\\tf-gpu\\lib\\site-packages\\pandas\\io\\parsers\\c_parser_wrapper.py\u001b[0m in \u001b[0;36m__init__\u001b[1;34m(self, src, **kwds)\u001b[0m\n\u001b[0;32m     67\u001b[0m         \u001b[0mkwds\u001b[0m\u001b[1;33m[\u001b[0m\u001b[1;34m\"dtype\"\u001b[0m\u001b[1;33m]\u001b[0m \u001b[1;33m=\u001b[0m \u001b[0mensure_dtype_objs\u001b[0m\u001b[1;33m(\u001b[0m\u001b[0mkwds\u001b[0m\u001b[1;33m.\u001b[0m\u001b[0mget\u001b[0m\u001b[1;33m(\u001b[0m\u001b[1;34m\"dtype\"\u001b[0m\u001b[1;33m,\u001b[0m \u001b[1;32mNone\u001b[0m\u001b[1;33m)\u001b[0m\u001b[1;33m)\u001b[0m\u001b[1;33m\u001b[0m\u001b[1;33m\u001b[0m\u001b[0m\n\u001b[0;32m     68\u001b[0m         \u001b[1;32mtry\u001b[0m\u001b[1;33m:\u001b[0m\u001b[1;33m\u001b[0m\u001b[1;33m\u001b[0m\u001b[0m\n\u001b[1;32m---> 69\u001b[1;33m             \u001b[0mself\u001b[0m\u001b[1;33m.\u001b[0m\u001b[0m_reader\u001b[0m \u001b[1;33m=\u001b[0m \u001b[0mparsers\u001b[0m\u001b[1;33m.\u001b[0m\u001b[0mTextReader\u001b[0m\u001b[1;33m(\u001b[0m\u001b[0mself\u001b[0m\u001b[1;33m.\u001b[0m\u001b[0mhandles\u001b[0m\u001b[1;33m.\u001b[0m\u001b[0mhandle\u001b[0m\u001b[1;33m,\u001b[0m \u001b[1;33m**\u001b[0m\u001b[0mkwds\u001b[0m\u001b[1;33m)\u001b[0m\u001b[1;33m\u001b[0m\u001b[1;33m\u001b[0m\u001b[0m\n\u001b[0m\u001b[0;32m     70\u001b[0m         \u001b[1;32mexcept\u001b[0m \u001b[0mException\u001b[0m\u001b[1;33m:\u001b[0m\u001b[1;33m\u001b[0m\u001b[1;33m\u001b[0m\u001b[0m\n\u001b[0;32m     71\u001b[0m             \u001b[0mself\u001b[0m\u001b[1;33m.\u001b[0m\u001b[0mhandles\u001b[0m\u001b[1;33m.\u001b[0m\u001b[0mclose\u001b[0m\u001b[1;33m(\u001b[0m\u001b[1;33m)\u001b[0m\u001b[1;33m\u001b[0m\u001b[1;33m\u001b[0m\u001b[0m\n",
      "\u001b[1;31mKeyboardInterrupt\u001b[0m: "
     ]
    }
   ],
   "source": [
    "for file in files:\n",
    "    if pd.read_csv(file).isnull().values.any():\n",
    "        print(file)"
   ]
  },
  {
   "cell_type": "code",
   "execution_count": 8,
   "metadata": {},
   "outputs": [
    {
     "name": "stderr",
     "output_type": "stream",
     "text": [
      " 15%|█▌        | 653/4280 [00:08<00:50, 71.37it/s] "
     ]
    },
    {
     "ename": "KeyboardInterrupt",
     "evalue": "",
     "output_type": "error",
     "traceback": [
      "\u001b[1;31m---------------------------------------------------------------------------\u001b[0m",
      "\u001b[1;31mKeyboardInterrupt\u001b[0m                         Traceback (most recent call last)",
      "\u001b[1;32m~\\AppData\\Local\\Temp/ipykernel_14908/3839857411.py\u001b[0m in \u001b[0;36m<module>\u001b[1;34m\u001b[0m\n\u001b[1;32m----> 1\u001b[1;33m \u001b[0mdf\u001b[0m \u001b[1;33m=\u001b[0m \u001b[0mlarge_df\u001b[0m\u001b[1;33m(\u001b[0m\u001b[0mget_all_csv_files\u001b[0m\u001b[1;33m(\u001b[0m\u001b[1;34m'D:/stock_market_data'\u001b[0m\u001b[1;33m)\u001b[0m\u001b[1;33m)\u001b[0m\u001b[1;33m\u001b[0m\u001b[1;33m\u001b[0m\u001b[0m\n\u001b[0m",
      "\u001b[1;32m~\\AppData\\Local\\Temp/ipykernel_14908/423498742.py\u001b[0m in \u001b[0;36mlarge_df\u001b[1;34m(files)\u001b[0m\n\u001b[0;32m      1\u001b[0m \u001b[1;32mdef\u001b[0m \u001b[0mlarge_df\u001b[0m\u001b[1;33m(\u001b[0m\u001b[0mfiles\u001b[0m\u001b[1;33m)\u001b[0m\u001b[1;33m:\u001b[0m\u001b[1;33m\u001b[0m\u001b[1;33m\u001b[0m\u001b[0m\n\u001b[1;32m----> 2\u001b[1;33m     \u001b[1;32mreturn\u001b[0m \u001b[0mpd\u001b[0m\u001b[1;33m.\u001b[0m\u001b[0mconcat\u001b[0m\u001b[1;33m(\u001b[0m\u001b[1;33m(\u001b[0m\u001b[0mpd\u001b[0m\u001b[1;33m.\u001b[0m\u001b[0mread_csv\u001b[0m\u001b[1;33m(\u001b[0m\u001b[0mf\u001b[0m\u001b[1;33m)\u001b[0m \u001b[1;32mfor\u001b[0m \u001b[0mi\u001b[0m\u001b[1;33m,\u001b[0m \u001b[0mf\u001b[0m \u001b[1;32min\u001b[0m \u001b[0mtqdm\u001b[0m\u001b[1;33m(\u001b[0m\u001b[0menumerate\u001b[0m\u001b[1;33m(\u001b[0m\u001b[0mfiles\u001b[0m\u001b[1;33m)\u001b[0m\u001b[1;33m,\u001b[0m \u001b[0mtotal\u001b[0m\u001b[1;33m=\u001b[0m\u001b[0mlen\u001b[0m\u001b[1;33m(\u001b[0m\u001b[0mfiles\u001b[0m\u001b[1;33m)\u001b[0m\u001b[1;33m)\u001b[0m\u001b[1;33m)\u001b[0m\u001b[1;33m,\u001b[0m \u001b[0mignore_index\u001b[0m\u001b[1;33m=\u001b[0m\u001b[1;32mTrue\u001b[0m\u001b[1;33m)\u001b[0m\u001b[1;33m\u001b[0m\u001b[1;33m\u001b[0m\u001b[0m\n\u001b[0m",
      "\u001b[1;32mc:\\Users\\Seppe\\.conda\\envs\\tf-gpu\\lib\\site-packages\\pandas\\util\\_decorators.py\u001b[0m in \u001b[0;36mwrapper\u001b[1;34m(*args, **kwargs)\u001b[0m\n\u001b[0;32m    309\u001b[0m                     \u001b[0mstacklevel\u001b[0m\u001b[1;33m=\u001b[0m\u001b[0mstacklevel\u001b[0m\u001b[1;33m,\u001b[0m\u001b[1;33m\u001b[0m\u001b[1;33m\u001b[0m\u001b[0m\n\u001b[0;32m    310\u001b[0m                 )\n\u001b[1;32m--> 311\u001b[1;33m             \u001b[1;32mreturn\u001b[0m \u001b[0mfunc\u001b[0m\u001b[1;33m(\u001b[0m\u001b[1;33m*\u001b[0m\u001b[0margs\u001b[0m\u001b[1;33m,\u001b[0m \u001b[1;33m**\u001b[0m\u001b[0mkwargs\u001b[0m\u001b[1;33m)\u001b[0m\u001b[1;33m\u001b[0m\u001b[1;33m\u001b[0m\u001b[0m\n\u001b[0m\u001b[0;32m    312\u001b[0m \u001b[1;33m\u001b[0m\u001b[0m\n\u001b[0;32m    313\u001b[0m         \u001b[1;32mreturn\u001b[0m \u001b[0mwrapper\u001b[0m\u001b[1;33m\u001b[0m\u001b[1;33m\u001b[0m\u001b[0m\n",
      "\u001b[1;32mc:\\Users\\Seppe\\.conda\\envs\\tf-gpu\\lib\\site-packages\\pandas\\core\\reshape\\concat.py\u001b[0m in \u001b[0;36mconcat\u001b[1;34m(objs, axis, join, ignore_index, keys, levels, names, verify_integrity, sort, copy)\u001b[0m\n\u001b[0;32m    292\u001b[0m     \u001b[0mValueError\u001b[0m\u001b[1;33m:\u001b[0m \u001b[0mIndexes\u001b[0m \u001b[0mhave\u001b[0m \u001b[0moverlapping\u001b[0m \u001b[0mvalues\u001b[0m\u001b[1;33m:\u001b[0m \u001b[1;33m[\u001b[0m\u001b[1;34m'a'\u001b[0m\u001b[1;33m]\u001b[0m\u001b[1;33m\u001b[0m\u001b[1;33m\u001b[0m\u001b[0m\n\u001b[0;32m    293\u001b[0m     \"\"\"\n\u001b[1;32m--> 294\u001b[1;33m     op = _Concatenator(\n\u001b[0m\u001b[0;32m    295\u001b[0m         \u001b[0mobjs\u001b[0m\u001b[1;33m,\u001b[0m\u001b[1;33m\u001b[0m\u001b[1;33m\u001b[0m\u001b[0m\n\u001b[0;32m    296\u001b[0m         \u001b[0maxis\u001b[0m\u001b[1;33m=\u001b[0m\u001b[0maxis\u001b[0m\u001b[1;33m,\u001b[0m\u001b[1;33m\u001b[0m\u001b[1;33m\u001b[0m\u001b[0m\n",
      "\u001b[1;32mc:\\Users\\Seppe\\.conda\\envs\\tf-gpu\\lib\\site-packages\\pandas\\core\\reshape\\concat.py\u001b[0m in \u001b[0;36m__init__\u001b[1;34m(self, objs, axis, join, keys, levels, names, ignore_index, verify_integrity, copy, sort)\u001b[0m\n\u001b[0;32m    346\u001b[0m             \u001b[0mobjs\u001b[0m \u001b[1;33m=\u001b[0m \u001b[1;33m[\u001b[0m\u001b[0mobjs\u001b[0m\u001b[1;33m[\u001b[0m\u001b[0mk\u001b[0m\u001b[1;33m]\u001b[0m \u001b[1;32mfor\u001b[0m \u001b[0mk\u001b[0m \u001b[1;32min\u001b[0m \u001b[0mkeys\u001b[0m\u001b[1;33m]\u001b[0m\u001b[1;33m\u001b[0m\u001b[1;33m\u001b[0m\u001b[0m\n\u001b[0;32m    347\u001b[0m         \u001b[1;32melse\u001b[0m\u001b[1;33m:\u001b[0m\u001b[1;33m\u001b[0m\u001b[1;33m\u001b[0m\u001b[0m\n\u001b[1;32m--> 348\u001b[1;33m             \u001b[0mobjs\u001b[0m \u001b[1;33m=\u001b[0m \u001b[0mlist\u001b[0m\u001b[1;33m(\u001b[0m\u001b[0mobjs\u001b[0m\u001b[1;33m)\u001b[0m\u001b[1;33m\u001b[0m\u001b[1;33m\u001b[0m\u001b[0m\n\u001b[0m\u001b[0;32m    349\u001b[0m \u001b[1;33m\u001b[0m\u001b[0m\n\u001b[0;32m    350\u001b[0m         \u001b[1;32mif\u001b[0m \u001b[0mlen\u001b[0m\u001b[1;33m(\u001b[0m\u001b[0mobjs\u001b[0m\u001b[1;33m)\u001b[0m \u001b[1;33m==\u001b[0m \u001b[1;36m0\u001b[0m\u001b[1;33m:\u001b[0m\u001b[1;33m\u001b[0m\u001b[1;33m\u001b[0m\u001b[0m\n",
      "\u001b[1;32m~\\AppData\\Local\\Temp/ipykernel_14908/423498742.py\u001b[0m in \u001b[0;36m<genexpr>\u001b[1;34m(.0)\u001b[0m\n\u001b[0;32m      1\u001b[0m \u001b[1;32mdef\u001b[0m \u001b[0mlarge_df\u001b[0m\u001b[1;33m(\u001b[0m\u001b[0mfiles\u001b[0m\u001b[1;33m)\u001b[0m\u001b[1;33m:\u001b[0m\u001b[1;33m\u001b[0m\u001b[1;33m\u001b[0m\u001b[0m\n\u001b[1;32m----> 2\u001b[1;33m     \u001b[1;32mreturn\u001b[0m \u001b[0mpd\u001b[0m\u001b[1;33m.\u001b[0m\u001b[0mconcat\u001b[0m\u001b[1;33m(\u001b[0m\u001b[1;33m(\u001b[0m\u001b[0mpd\u001b[0m\u001b[1;33m.\u001b[0m\u001b[0mread_csv\u001b[0m\u001b[1;33m(\u001b[0m\u001b[0mf\u001b[0m\u001b[1;33m)\u001b[0m \u001b[1;32mfor\u001b[0m \u001b[0mi\u001b[0m\u001b[1;33m,\u001b[0m \u001b[0mf\u001b[0m \u001b[1;32min\u001b[0m \u001b[0mtqdm\u001b[0m\u001b[1;33m(\u001b[0m\u001b[0menumerate\u001b[0m\u001b[1;33m(\u001b[0m\u001b[0mfiles\u001b[0m\u001b[1;33m)\u001b[0m\u001b[1;33m,\u001b[0m \u001b[0mtotal\u001b[0m\u001b[1;33m=\u001b[0m\u001b[0mlen\u001b[0m\u001b[1;33m(\u001b[0m\u001b[0mfiles\u001b[0m\u001b[1;33m)\u001b[0m\u001b[1;33m)\u001b[0m\u001b[1;33m)\u001b[0m\u001b[1;33m,\u001b[0m \u001b[0mignore_index\u001b[0m\u001b[1;33m=\u001b[0m\u001b[1;32mTrue\u001b[0m\u001b[1;33m)\u001b[0m\u001b[1;33m\u001b[0m\u001b[1;33m\u001b[0m\u001b[0m\n\u001b[0m",
      "\u001b[1;32mc:\\Users\\Seppe\\.conda\\envs\\tf-gpu\\lib\\site-packages\\pandas\\util\\_decorators.py\u001b[0m in \u001b[0;36mwrapper\u001b[1;34m(*args, **kwargs)\u001b[0m\n\u001b[0;32m    309\u001b[0m                     \u001b[0mstacklevel\u001b[0m\u001b[1;33m=\u001b[0m\u001b[0mstacklevel\u001b[0m\u001b[1;33m,\u001b[0m\u001b[1;33m\u001b[0m\u001b[1;33m\u001b[0m\u001b[0m\n\u001b[0;32m    310\u001b[0m                 )\n\u001b[1;32m--> 311\u001b[1;33m             \u001b[1;32mreturn\u001b[0m \u001b[0mfunc\u001b[0m\u001b[1;33m(\u001b[0m\u001b[1;33m*\u001b[0m\u001b[0margs\u001b[0m\u001b[1;33m,\u001b[0m \u001b[1;33m**\u001b[0m\u001b[0mkwargs\u001b[0m\u001b[1;33m)\u001b[0m\u001b[1;33m\u001b[0m\u001b[1;33m\u001b[0m\u001b[0m\n\u001b[0m\u001b[0;32m    312\u001b[0m \u001b[1;33m\u001b[0m\u001b[0m\n\u001b[0;32m    313\u001b[0m         \u001b[1;32mreturn\u001b[0m \u001b[0mwrapper\u001b[0m\u001b[1;33m\u001b[0m\u001b[1;33m\u001b[0m\u001b[0m\n",
      "\u001b[1;32mc:\\Users\\Seppe\\.conda\\envs\\tf-gpu\\lib\\site-packages\\pandas\\io\\parsers\\readers.py\u001b[0m in \u001b[0;36mread_csv\u001b[1;34m(filepath_or_buffer, sep, delimiter, header, names, index_col, usecols, squeeze, prefix, mangle_dupe_cols, dtype, engine, converters, true_values, false_values, skipinitialspace, skiprows, skipfooter, nrows, na_values, keep_default_na, na_filter, verbose, skip_blank_lines, parse_dates, infer_datetime_format, keep_date_col, date_parser, dayfirst, cache_dates, iterator, chunksize, compression, thousands, decimal, lineterminator, quotechar, quoting, doublequote, escapechar, comment, encoding, encoding_errors, dialect, error_bad_lines, warn_bad_lines, on_bad_lines, delim_whitespace, low_memory, memory_map, float_precision, storage_options)\u001b[0m\n\u001b[0;32m    584\u001b[0m     \u001b[0mkwds\u001b[0m\u001b[1;33m.\u001b[0m\u001b[0mupdate\u001b[0m\u001b[1;33m(\u001b[0m\u001b[0mkwds_defaults\u001b[0m\u001b[1;33m)\u001b[0m\u001b[1;33m\u001b[0m\u001b[1;33m\u001b[0m\u001b[0m\n\u001b[0;32m    585\u001b[0m \u001b[1;33m\u001b[0m\u001b[0m\n\u001b[1;32m--> 586\u001b[1;33m     \u001b[1;32mreturn\u001b[0m \u001b[0m_read\u001b[0m\u001b[1;33m(\u001b[0m\u001b[0mfilepath_or_buffer\u001b[0m\u001b[1;33m,\u001b[0m \u001b[0mkwds\u001b[0m\u001b[1;33m)\u001b[0m\u001b[1;33m\u001b[0m\u001b[1;33m\u001b[0m\u001b[0m\n\u001b[0m\u001b[0;32m    587\u001b[0m \u001b[1;33m\u001b[0m\u001b[0m\n\u001b[0;32m    588\u001b[0m \u001b[1;33m\u001b[0m\u001b[0m\n",
      "\u001b[1;32mc:\\Users\\Seppe\\.conda\\envs\\tf-gpu\\lib\\site-packages\\pandas\\io\\parsers\\readers.py\u001b[0m in \u001b[0;36m_read\u001b[1;34m(filepath_or_buffer, kwds)\u001b[0m\n\u001b[0;32m    480\u001b[0m \u001b[1;33m\u001b[0m\u001b[0m\n\u001b[0;32m    481\u001b[0m     \u001b[1;31m# Create the parser.\u001b[0m\u001b[1;33m\u001b[0m\u001b[1;33m\u001b[0m\u001b[0m\n\u001b[1;32m--> 482\u001b[1;33m     \u001b[0mparser\u001b[0m \u001b[1;33m=\u001b[0m \u001b[0mTextFileReader\u001b[0m\u001b[1;33m(\u001b[0m\u001b[0mfilepath_or_buffer\u001b[0m\u001b[1;33m,\u001b[0m \u001b[1;33m**\u001b[0m\u001b[0mkwds\u001b[0m\u001b[1;33m)\u001b[0m\u001b[1;33m\u001b[0m\u001b[1;33m\u001b[0m\u001b[0m\n\u001b[0m\u001b[0;32m    483\u001b[0m \u001b[1;33m\u001b[0m\u001b[0m\n\u001b[0;32m    484\u001b[0m     \u001b[1;32mif\u001b[0m \u001b[0mchunksize\u001b[0m \u001b[1;32mor\u001b[0m \u001b[0miterator\u001b[0m\u001b[1;33m:\u001b[0m\u001b[1;33m\u001b[0m\u001b[1;33m\u001b[0m\u001b[0m\n",
      "\u001b[1;32mc:\\Users\\Seppe\\.conda\\envs\\tf-gpu\\lib\\site-packages\\pandas\\io\\parsers\\readers.py\u001b[0m in \u001b[0;36m__init__\u001b[1;34m(self, f, engine, **kwds)\u001b[0m\n\u001b[0;32m    809\u001b[0m             \u001b[0mself\u001b[0m\u001b[1;33m.\u001b[0m\u001b[0moptions\u001b[0m\u001b[1;33m[\u001b[0m\u001b[1;34m\"has_index_names\"\u001b[0m\u001b[1;33m]\u001b[0m \u001b[1;33m=\u001b[0m \u001b[0mkwds\u001b[0m\u001b[1;33m[\u001b[0m\u001b[1;34m\"has_index_names\"\u001b[0m\u001b[1;33m]\u001b[0m\u001b[1;33m\u001b[0m\u001b[1;33m\u001b[0m\u001b[0m\n\u001b[0;32m    810\u001b[0m \u001b[1;33m\u001b[0m\u001b[0m\n\u001b[1;32m--> 811\u001b[1;33m         \u001b[0mself\u001b[0m\u001b[1;33m.\u001b[0m\u001b[0m_engine\u001b[0m \u001b[1;33m=\u001b[0m \u001b[0mself\u001b[0m\u001b[1;33m.\u001b[0m\u001b[0m_make_engine\u001b[0m\u001b[1;33m(\u001b[0m\u001b[0mself\u001b[0m\u001b[1;33m.\u001b[0m\u001b[0mengine\u001b[0m\u001b[1;33m)\u001b[0m\u001b[1;33m\u001b[0m\u001b[1;33m\u001b[0m\u001b[0m\n\u001b[0m\u001b[0;32m    812\u001b[0m \u001b[1;33m\u001b[0m\u001b[0m\n\u001b[0;32m    813\u001b[0m     \u001b[1;32mdef\u001b[0m \u001b[0mclose\u001b[0m\u001b[1;33m(\u001b[0m\u001b[0mself\u001b[0m\u001b[1;33m)\u001b[0m\u001b[1;33m:\u001b[0m\u001b[1;33m\u001b[0m\u001b[1;33m\u001b[0m\u001b[0m\n",
      "\u001b[1;32mc:\\Users\\Seppe\\.conda\\envs\\tf-gpu\\lib\\site-packages\\pandas\\io\\parsers\\readers.py\u001b[0m in \u001b[0;36m_make_engine\u001b[1;34m(self, engine)\u001b[0m\n\u001b[0;32m   1038\u001b[0m             )\n\u001b[0;32m   1039\u001b[0m         \u001b[1;31m# error: Too many arguments for \"ParserBase\"\u001b[0m\u001b[1;33m\u001b[0m\u001b[1;33m\u001b[0m\u001b[0m\n\u001b[1;32m-> 1040\u001b[1;33m         \u001b[1;32mreturn\u001b[0m \u001b[0mmapping\u001b[0m\u001b[1;33m[\u001b[0m\u001b[0mengine\u001b[0m\u001b[1;33m]\u001b[0m\u001b[1;33m(\u001b[0m\u001b[0mself\u001b[0m\u001b[1;33m.\u001b[0m\u001b[0mf\u001b[0m\u001b[1;33m,\u001b[0m \u001b[1;33m**\u001b[0m\u001b[0mself\u001b[0m\u001b[1;33m.\u001b[0m\u001b[0moptions\u001b[0m\u001b[1;33m)\u001b[0m  \u001b[1;31m# type: ignore[call-arg]\u001b[0m\u001b[1;33m\u001b[0m\u001b[1;33m\u001b[0m\u001b[0m\n\u001b[0m\u001b[0;32m   1041\u001b[0m \u001b[1;33m\u001b[0m\u001b[0m\n\u001b[0;32m   1042\u001b[0m     \u001b[1;32mdef\u001b[0m \u001b[0m_failover_to_python\u001b[0m\u001b[1;33m(\u001b[0m\u001b[0mself\u001b[0m\u001b[1;33m)\u001b[0m\u001b[1;33m:\u001b[0m\u001b[1;33m\u001b[0m\u001b[1;33m\u001b[0m\u001b[0m\n",
      "\u001b[1;32mc:\\Users\\Seppe\\.conda\\envs\\tf-gpu\\lib\\site-packages\\pandas\\io\\parsers\\c_parser_wrapper.py\u001b[0m in \u001b[0;36m__init__\u001b[1;34m(self, src, **kwds)\u001b[0m\n\u001b[0;32m     49\u001b[0m \u001b[1;33m\u001b[0m\u001b[0m\n\u001b[0;32m     50\u001b[0m         \u001b[1;31m# open handles\u001b[0m\u001b[1;33m\u001b[0m\u001b[1;33m\u001b[0m\u001b[0m\n\u001b[1;32m---> 51\u001b[1;33m         \u001b[0mself\u001b[0m\u001b[1;33m.\u001b[0m\u001b[0m_open_handles\u001b[0m\u001b[1;33m(\u001b[0m\u001b[0msrc\u001b[0m\u001b[1;33m,\u001b[0m \u001b[0mkwds\u001b[0m\u001b[1;33m)\u001b[0m\u001b[1;33m\u001b[0m\u001b[1;33m\u001b[0m\u001b[0m\n\u001b[0m\u001b[0;32m     52\u001b[0m         \u001b[1;32massert\u001b[0m \u001b[0mself\u001b[0m\u001b[1;33m.\u001b[0m\u001b[0mhandles\u001b[0m \u001b[1;32mis\u001b[0m \u001b[1;32mnot\u001b[0m \u001b[1;32mNone\u001b[0m\u001b[1;33m\u001b[0m\u001b[1;33m\u001b[0m\u001b[0m\n\u001b[0;32m     53\u001b[0m \u001b[1;33m\u001b[0m\u001b[0m\n",
      "\u001b[1;32mc:\\Users\\Seppe\\.conda\\envs\\tf-gpu\\lib\\site-packages\\pandas\\io\\parsers\\base_parser.py\u001b[0m in \u001b[0;36m_open_handles\u001b[1;34m(self, src, kwds)\u001b[0m\n\u001b[0;32m    220\u001b[0m         \u001b[0mLet\u001b[0m \u001b[0mthe\u001b[0m \u001b[0mreaders\u001b[0m \u001b[0mopen\u001b[0m \u001b[0mIOHandles\u001b[0m \u001b[0mafter\u001b[0m \u001b[0mthey\u001b[0m \u001b[0mare\u001b[0m \u001b[0mdone\u001b[0m \u001b[1;32mwith\u001b[0m \u001b[0mtheir\u001b[0m \u001b[0mpotential\u001b[0m \u001b[0mraises\u001b[0m\u001b[1;33m.\u001b[0m\u001b[1;33m\u001b[0m\u001b[1;33m\u001b[0m\u001b[0m\n\u001b[0;32m    221\u001b[0m         \"\"\"\n\u001b[1;32m--> 222\u001b[1;33m         self.handles = get_handle(\n\u001b[0m\u001b[0;32m    223\u001b[0m             \u001b[0msrc\u001b[0m\u001b[1;33m,\u001b[0m\u001b[1;33m\u001b[0m\u001b[1;33m\u001b[0m\u001b[0m\n\u001b[0;32m    224\u001b[0m             \u001b[1;34m\"r\"\u001b[0m\u001b[1;33m,\u001b[0m\u001b[1;33m\u001b[0m\u001b[1;33m\u001b[0m\u001b[0m\n",
      "\u001b[1;32mc:\\Users\\Seppe\\.conda\\envs\\tf-gpu\\lib\\site-packages\\pandas\\io\\common.py\u001b[0m in \u001b[0;36mget_handle\u001b[1;34m(path_or_buf, mode, encoding, compression, memory_map, is_text, errors, storage_options)\u001b[0m\n\u001b[0;32m    700\u001b[0m         \u001b[1;32mif\u001b[0m \u001b[0mioargs\u001b[0m\u001b[1;33m.\u001b[0m\u001b[0mencoding\u001b[0m \u001b[1;32mand\u001b[0m \u001b[1;34m\"b\"\u001b[0m \u001b[1;32mnot\u001b[0m \u001b[1;32min\u001b[0m \u001b[0mioargs\u001b[0m\u001b[1;33m.\u001b[0m\u001b[0mmode\u001b[0m\u001b[1;33m:\u001b[0m\u001b[1;33m\u001b[0m\u001b[1;33m\u001b[0m\u001b[0m\n\u001b[0;32m    701\u001b[0m             \u001b[1;31m# Encoding\u001b[0m\u001b[1;33m\u001b[0m\u001b[1;33m\u001b[0m\u001b[0m\n\u001b[1;32m--> 702\u001b[1;33m             handle = open(\n\u001b[0m\u001b[0;32m    703\u001b[0m                 \u001b[0mhandle\u001b[0m\u001b[1;33m,\u001b[0m\u001b[1;33m\u001b[0m\u001b[1;33m\u001b[0m\u001b[0m\n\u001b[0;32m    704\u001b[0m                 \u001b[0mioargs\u001b[0m\u001b[1;33m.\u001b[0m\u001b[0mmode\u001b[0m\u001b[1;33m,\u001b[0m\u001b[1;33m\u001b[0m\u001b[1;33m\u001b[0m\u001b[0m\n",
      "\u001b[1;32mc:\\Users\\Seppe\\.conda\\envs\\tf-gpu\\lib\\codecs.py\u001b[0m in \u001b[0;36m__init__\u001b[1;34m(self, errors)\u001b[0m\n\u001b[0;32m    307\u001b[0m     \u001b[0mbyte\u001b[0m \u001b[0msequences\u001b[0m\u001b[1;33m.\u001b[0m\u001b[1;33m\u001b[0m\u001b[1;33m\u001b[0m\u001b[0m\n\u001b[0;32m    308\u001b[0m     \"\"\"\n\u001b[1;32m--> 309\u001b[1;33m     \u001b[1;32mdef\u001b[0m \u001b[0m__init__\u001b[0m\u001b[1;33m(\u001b[0m\u001b[0mself\u001b[0m\u001b[1;33m,\u001b[0m \u001b[0merrors\u001b[0m\u001b[1;33m=\u001b[0m\u001b[1;34m'strict'\u001b[0m\u001b[1;33m)\u001b[0m\u001b[1;33m:\u001b[0m\u001b[1;33m\u001b[0m\u001b[1;33m\u001b[0m\u001b[0m\n\u001b[0m\u001b[0;32m    310\u001b[0m         \u001b[0mIncrementalDecoder\u001b[0m\u001b[1;33m.\u001b[0m\u001b[0m__init__\u001b[0m\u001b[1;33m(\u001b[0m\u001b[0mself\u001b[0m\u001b[1;33m,\u001b[0m \u001b[0merrors\u001b[0m\u001b[1;33m)\u001b[0m\u001b[1;33m\u001b[0m\u001b[1;33m\u001b[0m\u001b[0m\n\u001b[0;32m    311\u001b[0m         \u001b[1;31m# undecoded input that is kept between calls to decode()\u001b[0m\u001b[1;33m\u001b[0m\u001b[1;33m\u001b[0m\u001b[0m\n",
      "\u001b[1;31mKeyboardInterrupt\u001b[0m: "
     ]
    }
   ],
   "source": [
    "df = large_df()"
   ]
  },
  {
   "cell_type": "code",
   "execution_count": 8,
   "metadata": {},
   "outputs": [
    {
     "data": {
      "text/plain": [
       "(24603272, 7)"
      ]
     },
     "execution_count": 8,
     "metadata": {},
     "output_type": "execute_result"
    }
   ],
   "source": [
    "df.shape"
   ]
  },
  {
   "cell_type": "code",
   "execution_count": 9,
   "metadata": {},
   "outputs": [
    {
     "data": {
      "text/html": [
       "<style>#sk-container-id-1 {color: black;background-color: white;}#sk-container-id-1 pre{padding: 0;}#sk-container-id-1 div.sk-toggleable {background-color: white;}#sk-container-id-1 label.sk-toggleable__label {cursor: pointer;display: block;width: 100%;margin-bottom: 0;padding: 0.3em;box-sizing: border-box;text-align: center;}#sk-container-id-1 label.sk-toggleable__label-arrow:before {content: \"▸\";float: left;margin-right: 0.25em;color: #696969;}#sk-container-id-1 label.sk-toggleable__label-arrow:hover:before {color: black;}#sk-container-id-1 div.sk-estimator:hover label.sk-toggleable__label-arrow:before {color: black;}#sk-container-id-1 div.sk-toggleable__content {max-height: 0;max-width: 0;overflow: hidden;text-align: left;background-color: #f0f8ff;}#sk-container-id-1 div.sk-toggleable__content pre {margin: 0.2em;color: black;border-radius: 0.25em;background-color: #f0f8ff;}#sk-container-id-1 input.sk-toggleable__control:checked~div.sk-toggleable__content {max-height: 200px;max-width: 100%;overflow: auto;}#sk-container-id-1 input.sk-toggleable__control:checked~label.sk-toggleable__label-arrow:before {content: \"▾\";}#sk-container-id-1 div.sk-estimator input.sk-toggleable__control:checked~label.sk-toggleable__label {background-color: #d4ebff;}#sk-container-id-1 div.sk-label input.sk-toggleable__control:checked~label.sk-toggleable__label {background-color: #d4ebff;}#sk-container-id-1 input.sk-hidden--visually {border: 0;clip: rect(1px 1px 1px 1px);clip: rect(1px, 1px, 1px, 1px);height: 1px;margin: -1px;overflow: hidden;padding: 0;position: absolute;width: 1px;}#sk-container-id-1 div.sk-estimator {font-family: monospace;background-color: #f0f8ff;border: 1px dotted black;border-radius: 0.25em;box-sizing: border-box;margin-bottom: 0.5em;}#sk-container-id-1 div.sk-estimator:hover {background-color: #d4ebff;}#sk-container-id-1 div.sk-parallel-item::after {content: \"\";width: 100%;border-bottom: 1px solid gray;flex-grow: 1;}#sk-container-id-1 div.sk-label:hover label.sk-toggleable__label {background-color: #d4ebff;}#sk-container-id-1 div.sk-serial::before {content: \"\";position: absolute;border-left: 1px solid gray;box-sizing: border-box;top: 0;bottom: 0;left: 50%;z-index: 0;}#sk-container-id-1 div.sk-serial {display: flex;flex-direction: column;align-items: center;background-color: white;padding-right: 0.2em;padding-left: 0.2em;position: relative;}#sk-container-id-1 div.sk-item {position: relative;z-index: 1;}#sk-container-id-1 div.sk-parallel {display: flex;align-items: stretch;justify-content: center;background-color: white;position: relative;}#sk-container-id-1 div.sk-item::before, #sk-container-id-1 div.sk-parallel-item::before {content: \"\";position: absolute;border-left: 1px solid gray;box-sizing: border-box;top: 0;bottom: 0;left: 50%;z-index: -1;}#sk-container-id-1 div.sk-parallel-item {display: flex;flex-direction: column;z-index: 1;position: relative;background-color: white;}#sk-container-id-1 div.sk-parallel-item:first-child::after {align-self: flex-end;width: 50%;}#sk-container-id-1 div.sk-parallel-item:last-child::after {align-self: flex-start;width: 50%;}#sk-container-id-1 div.sk-parallel-item:only-child::after {width: 0;}#sk-container-id-1 div.sk-dashed-wrapped {border: 1px dashed gray;margin: 0 0.4em 0.5em 0.4em;box-sizing: border-box;padding-bottom: 0.4em;background-color: white;}#sk-container-id-1 div.sk-label label {font-family: monospace;font-weight: bold;display: inline-block;line-height: 1.2em;}#sk-container-id-1 div.sk-label-container {text-align: center;}#sk-container-id-1 div.sk-container {/* jupyter's `normalize.less` sets `[hidden] { display: none; }` but bootstrap.min.css set `[hidden] { display: none !important; }` so we also need the `!important` here to be able to override the default hidden behavior on the sphinx rendered scikit-learn.org. See: https://github.com/scikit-learn/scikit-learn/issues/21755 */display: inline-block !important;position: relative;}#sk-container-id-1 div.sk-text-repr-fallback {display: none;}</style><div id=\"sk-container-id-1\" class=\"sk-top-container\"><div class=\"sk-text-repr-fallback\"><pre>MinMaxScaler()</pre><b>In a Jupyter environment, please rerun this cell to show the HTML representation or trust the notebook. <br />On GitHub, the HTML representation is unable to render, please try loading this page with nbviewer.org.</b></div><div class=\"sk-container\" hidden><div class=\"sk-item\"><div class=\"sk-estimator sk-toggleable\"><input class=\"sk-toggleable__control sk-hidden--visually\" id=\"sk-estimator-id-1\" type=\"checkbox\" checked><label for=\"sk-estimator-id-1\" class=\"sk-toggleable__label sk-toggleable__label-arrow\">MinMaxScaler</label><div class=\"sk-toggleable__content\"><pre>MinMaxScaler()</pre></div></div></div></div></div>"
      ],
      "text/plain": [
       "MinMaxScaler()"
      ]
     },
     "execution_count": 9,
     "metadata": {},
     "output_type": "execute_result"
    }
   ],
   "source": [
    "from sklearn.preprocessing import MinMaxScaler\n",
    "import pickle\n",
    "\n",
    "scl = MinMaxScaler()\n",
    "scl.fit(df.drop(['Date'], axis=1))"
   ]
  },
  {
   "cell_type": "code",
   "execution_count": 10,
   "metadata": {},
   "outputs": [],
   "source": [
    "pickle.dump(scl, open('minmax_scaler.bin', 'wb'))"
   ]
  },
  {
   "cell_type": "code",
   "execution_count": 52,
   "metadata": {},
   "outputs": [],
   "source": [
    "x = scl.transform(df.drop(['Date'], axis=1))"
   ]
  },
  {
   "cell_type": "code",
   "execution_count": 58,
   "metadata": {},
   "outputs": [],
   "source": [
    "ddf = pd.DataFrame(x, columns=['Low', 'Open', 'Volume', 'High', 'Close', 'Adjusted Close'])"
   ]
  },
  {
   "cell_type": "code",
   "execution_count": 59,
   "metadata": {},
   "outputs": [
    {
     "data": {
      "text/html": [
       "<div>\n",
       "<style scoped>\n",
       "    .dataframe tbody tr th:only-of-type {\n",
       "        vertical-align: middle;\n",
       "    }\n",
       "\n",
       "    .dataframe tbody tr th {\n",
       "        vertical-align: top;\n",
       "    }\n",
       "\n",
       "    .dataframe thead th {\n",
       "        text-align: right;\n",
       "    }\n",
       "</style>\n",
       "<table border=\"1\" class=\"dataframe\">\n",
       "  <thead>\n",
       "    <tr style=\"text-align: right;\">\n",
       "      <th></th>\n",
       "      <th>Low</th>\n",
       "      <th>Open</th>\n",
       "      <th>Volume</th>\n",
       "      <th>High</th>\n",
       "      <th>Close</th>\n",
       "      <th>Adjusted Close</th>\n",
       "    </tr>\n",
       "  </thead>\n",
       "  <tbody>\n",
       "    <tr>\n",
       "      <th>count</th>\n",
       "      <td>5.693000e+03</td>\n",
       "      <td>5.693000e+03</td>\n",
       "      <td>5693.000000</td>\n",
       "      <td>5.693000e+03</td>\n",
       "      <td>5.693000e+03</td>\n",
       "      <td>5693.000000</td>\n",
       "    </tr>\n",
       "    <tr>\n",
       "      <th>mean</th>\n",
       "      <td>5.124624e-12</td>\n",
       "      <td>5.191498e-12</td>\n",
       "      <td>0.000471</td>\n",
       "      <td>5.258447e-12</td>\n",
       "      <td>5.192594e-12</td>\n",
       "      <td>0.998474</td>\n",
       "    </tr>\n",
       "    <tr>\n",
       "      <th>std</th>\n",
       "      <td>3.987756e-12</td>\n",
       "      <td>4.031567e-12</td>\n",
       "      <td>0.000329</td>\n",
       "      <td>4.071758e-12</td>\n",
       "      <td>4.029249e-12</td>\n",
       "      <td>0.000000</td>\n",
       "    </tr>\n",
       "    <tr>\n",
       "      <th>min</th>\n",
       "      <td>9.022288e-13</td>\n",
       "      <td>9.194140e-13</td>\n",
       "      <td>0.000030</td>\n",
       "      <td>9.563624e-13</td>\n",
       "      <td>9.323030e-13</td>\n",
       "      <td>0.998474</td>\n",
       "    </tr>\n",
       "    <tr>\n",
       "      <th>25%</th>\n",
       "      <td>2.603574e-12</td>\n",
       "      <td>2.637945e-12</td>\n",
       "      <td>0.000269</td>\n",
       "      <td>2.676612e-12</td>\n",
       "      <td>2.643101e-12</td>\n",
       "      <td>0.998474</td>\n",
       "    </tr>\n",
       "    <tr>\n",
       "      <th>50%</th>\n",
       "      <td>3.569389e-12</td>\n",
       "      <td>3.623522e-12</td>\n",
       "      <td>0.000402</td>\n",
       "      <td>3.673360e-12</td>\n",
       "      <td>3.624382e-12</td>\n",
       "      <td>0.998474</td>\n",
       "    </tr>\n",
       "    <tr>\n",
       "      <th>75%</th>\n",
       "      <td>6.277749e-12</td>\n",
       "      <td>6.341415e-12</td>\n",
       "      <td>0.000582</td>\n",
       "      <td>6.417094e-12</td>\n",
       "      <td>6.331805e-12</td>\n",
       "      <td>0.998474</td>\n",
       "    </tr>\n",
       "    <tr>\n",
       "      <th>max</th>\n",
       "      <td>2.128260e-11</td>\n",
       "      <td>2.153607e-11</td>\n",
       "      <td>0.008428</td>\n",
       "      <td>2.157090e-11</td>\n",
       "      <td>2.153607e-11</td>\n",
       "      <td>0.998474</td>\n",
       "    </tr>\n",
       "  </tbody>\n",
       "</table>\n",
       "</div>"
      ],
      "text/plain": [
       "                Low          Open       Volume          High         Close  \\\n",
       "count  5.693000e+03  5.693000e+03  5693.000000  5.693000e+03  5.693000e+03   \n",
       "mean   5.124624e-12  5.191498e-12     0.000471  5.258447e-12  5.192594e-12   \n",
       "std    3.987756e-12  4.031567e-12     0.000329  4.071758e-12  4.029249e-12   \n",
       "min    9.022288e-13  9.194140e-13     0.000030  9.563624e-13  9.323030e-13   \n",
       "25%    2.603574e-12  2.637945e-12     0.000269  2.676612e-12  2.643101e-12   \n",
       "50%    3.569389e-12  3.623522e-12     0.000402  3.673360e-12  3.624382e-12   \n",
       "75%    6.277749e-12  6.341415e-12     0.000582  6.417094e-12  6.331805e-12   \n",
       "max    2.128260e-11  2.153607e-11     0.008428  2.157090e-11  2.153607e-11   \n",
       "\n",
       "       Adjusted Close  \n",
       "count     5693.000000  \n",
       "mean         0.998474  \n",
       "std          0.000000  \n",
       "min          0.998474  \n",
       "25%          0.998474  \n",
       "50%          0.998474  \n",
       "75%          0.998474  \n",
       "max          0.998474  "
      ]
     },
     "execution_count": 59,
     "metadata": {},
     "output_type": "execute_result"
    }
   ],
   "source": [
    "ddf.describe()"
   ]
  },
  {
   "cell_type": "code",
   "execution_count": 61,
   "metadata": {},
   "outputs": [
    {
     "data": {
      "text/html": [
       "<div>\n",
       "<style scoped>\n",
       "    .dataframe tbody tr th:only-of-type {\n",
       "        vertical-align: middle;\n",
       "    }\n",
       "\n",
       "    .dataframe tbody tr th {\n",
       "        vertical-align: top;\n",
       "    }\n",
       "\n",
       "    .dataframe thead th {\n",
       "        text-align: right;\n",
       "    }\n",
       "</style>\n",
       "<table border=\"1\" class=\"dataframe\">\n",
       "  <thead>\n",
       "    <tr style=\"text-align: right;\">\n",
       "      <th></th>\n",
       "      <th>Low</th>\n",
       "      <th>Open</th>\n",
       "      <th>High</th>\n",
       "      <th>Close</th>\n",
       "      <th>Adjusted Close</th>\n",
       "      <th>Volume</th>\n",
       "    </tr>\n",
       "  </thead>\n",
       "  <tbody>\n",
       "    <tr>\n",
       "      <th>count</th>\n",
       "      <td>5.693000e+03</td>\n",
       "      <td>5.693000e+03</td>\n",
       "      <td>5.693000e+03</td>\n",
       "      <td>5.693000e+03</td>\n",
       "      <td>5693.000000</td>\n",
       "      <td>5693.000000</td>\n",
       "    </tr>\n",
       "    <tr>\n",
       "      <th>mean</th>\n",
       "      <td>5.124624e-12</td>\n",
       "      <td>5.191498e-12</td>\n",
       "      <td>5.258447e-12</td>\n",
       "      <td>5.192594e-12</td>\n",
       "      <td>0.998474</td>\n",
       "      <td>0.000471</td>\n",
       "    </tr>\n",
       "    <tr>\n",
       "      <th>std</th>\n",
       "      <td>3.987756e-12</td>\n",
       "      <td>4.031567e-12</td>\n",
       "      <td>4.071758e-12</td>\n",
       "      <td>4.029249e-12</td>\n",
       "      <td>0.000000</td>\n",
       "      <td>0.000329</td>\n",
       "    </tr>\n",
       "    <tr>\n",
       "      <th>min</th>\n",
       "      <td>9.022288e-13</td>\n",
       "      <td>9.194140e-13</td>\n",
       "      <td>9.563624e-13</td>\n",
       "      <td>9.323030e-13</td>\n",
       "      <td>0.998474</td>\n",
       "      <td>0.000030</td>\n",
       "    </tr>\n",
       "    <tr>\n",
       "      <th>25%</th>\n",
       "      <td>2.603574e-12</td>\n",
       "      <td>2.637945e-12</td>\n",
       "      <td>2.676612e-12</td>\n",
       "      <td>2.643101e-12</td>\n",
       "      <td>0.998474</td>\n",
       "      <td>0.000269</td>\n",
       "    </tr>\n",
       "    <tr>\n",
       "      <th>50%</th>\n",
       "      <td>3.569389e-12</td>\n",
       "      <td>3.623522e-12</td>\n",
       "      <td>3.673360e-12</td>\n",
       "      <td>3.624382e-12</td>\n",
       "      <td>0.998474</td>\n",
       "      <td>0.000402</td>\n",
       "    </tr>\n",
       "    <tr>\n",
       "      <th>75%</th>\n",
       "      <td>6.277749e-12</td>\n",
       "      <td>6.341415e-12</td>\n",
       "      <td>6.417094e-12</td>\n",
       "      <td>6.331805e-12</td>\n",
       "      <td>0.998474</td>\n",
       "      <td>0.000582</td>\n",
       "    </tr>\n",
       "    <tr>\n",
       "      <th>max</th>\n",
       "      <td>2.128260e-11</td>\n",
       "      <td>2.153607e-11</td>\n",
       "      <td>2.157090e-11</td>\n",
       "      <td>2.153607e-11</td>\n",
       "      <td>0.998474</td>\n",
       "      <td>0.008428</td>\n",
       "    </tr>\n",
       "  </tbody>\n",
       "</table>\n",
       "</div>"
      ],
      "text/plain": [
       "                Low          Open          High         Close  Adjusted Close  \\\n",
       "count  5.693000e+03  5.693000e+03  5.693000e+03  5.693000e+03     5693.000000   \n",
       "mean   5.124624e-12  5.191498e-12  5.258447e-12  5.192594e-12        0.998474   \n",
       "std    3.987756e-12  4.031567e-12  4.071758e-12  4.029249e-12        0.000000   \n",
       "min    9.022288e-13  9.194140e-13  9.563624e-13  9.323030e-13        0.998474   \n",
       "25%    2.603574e-12  2.637945e-12  2.676612e-12  2.643101e-12        0.998474   \n",
       "50%    3.569389e-12  3.623522e-12  3.673360e-12  3.624382e-12        0.998474   \n",
       "75%    6.277749e-12  6.341415e-12  6.417094e-12  6.331805e-12        0.998474   \n",
       "max    2.128260e-11  2.153607e-11  2.157090e-11  2.153607e-11        0.998474   \n",
       "\n",
       "            Volume  \n",
       "count  5693.000000  \n",
       "mean      0.000471  \n",
       "std       0.000329  \n",
       "min       0.000030  \n",
       "25%       0.000269  \n",
       "50%       0.000402  \n",
       "75%       0.000582  \n",
       "max       0.008428  "
      ]
     },
     "execution_count": 61,
     "metadata": {},
     "output_type": "execute_result"
    }
   ],
   "source": [
    "ddf[['Low', 'Open', 'High', 'Close', 'Adjusted Close', 'Volume']].describe()"
   ]
  },
  {
   "cell_type": "code",
   "execution_count": 18,
   "metadata": {},
   "outputs": [
    {
     "data": {
      "text/plain": [
       "array([['18-11-1999', 28.612302780151367, 32.54649353027344, 62546380.0,\n",
       "        35.765380859375],\n",
       "       ['19-11-1999', 28.47818374633789, 30.713518142700195, 15234146.0,\n",
       "        30.75822639465332],\n",
       "       ['22-11-1999', 28.65700912475586, 29.551143646240234, 6577870.0,\n",
       "        31.473533630371094],\n",
       "       ['23-11-1999', 28.612302780151367, 30.40057182312012, 5975611.0,\n",
       "        31.205293655395508],\n",
       "       ['24-11-1999', 28.612302780151367, 28.701717376708984, 4843231.0,\n",
       "        29.99821281433105],\n",
       "       ['26-11-1999', 29.14878463745117, 29.23819732666016, 1729466.0,\n",
       "        29.685264587402344],\n",
       "       ['29-11-1999', 29.014663696289062, 29.327611923217773, 4074751.0,\n",
       "        30.355865478515625],\n",
       "       ['30-11-1999', 29.28290367126465, 30.042917251586918, 4310034.0,\n",
       "        30.713518142700195],\n",
       "       ['01-12-1999', 29.95350456237793, 30.177038192749023, 2957329.0,\n",
       "        31.0711727142334],\n",
       "       ['02-12-1999', 30.8923454284668, 31.29470634460449, 3069868.0,\n",
       "        32.1888427734375]], dtype=object)"
      ]
     },
     "execution_count": 18,
     "metadata": {},
     "output_type": "execute_result"
    }
   ],
   "source": [
    "df.iloc[:10].values[:, :5]"
   ]
  },
  {
   "cell_type": "code",
   "execution_count": null,
   "metadata": {},
   "outputs": [],
   "source": []
  }
 ],
 "metadata": {
  "kernelspec": {
   "display_name": "Python 3.9.7 ('tf-gpu')",
   "language": "python",
   "name": "python3"
  },
  "language_info": {
   "codemirror_mode": {
    "name": "ipython",
    "version": 3
   },
   "file_extension": ".py",
   "mimetype": "text/x-python",
   "name": "python",
   "nbconvert_exporter": "python",
   "pygments_lexer": "ipython3",
   "version": "3.9.7"
  },
  "orig_nbformat": 4,
  "vscode": {
   "interpreter": {
    "hash": "a9c8d1796383b1f1d48f4e3922c2224a09f262a67ecc399e478c778424b5ea5c"
   }
  }
 },
 "nbformat": 4,
 "nbformat_minor": 2
}
