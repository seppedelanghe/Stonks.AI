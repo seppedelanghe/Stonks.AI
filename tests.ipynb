{
 "cells": [
  {
   "cell_type": "code",
   "execution_count": 66,
   "metadata": {},
   "outputs": [],
   "source": [
    "import os\n",
    "import numpy as np\n",
    "import pandas as pd\n",
    "from datetime import timedelta, datetime\n",
    "from tqdm import tqdm"
   ]
  },
  {
   "cell_type": "code",
   "execution_count": 67,
   "metadata": {},
   "outputs": [],
   "source": [
    "FORBES = './stock_market_data/forbes2000/csv/'\n",
    "TICKER = 'ARCC'\n",
    "PATH = os.path.join(FORBES, f\"{TICKER}.csv\")"
   ]
  },
  {
   "cell_type": "code",
   "execution_count": 68,
   "metadata": {},
   "outputs": [],
   "source": [
    "df = pd.read_csv(PATH)\n",
    "df['Date'] = pd.to_datetime(df['Date'])"
   ]
  },
  {
   "cell_type": "code",
   "execution_count": 69,
   "metadata": {},
   "outputs": [],
   "source": [
    "df = df.drop(['Date'], axis=1)"
   ]
  },
  {
   "cell_type": "code",
   "execution_count": 73,
   "metadata": {},
   "outputs": [],
   "source": [
    "data = df.to_numpy()\n",
    "money = data[:, :4]\n",
    "adj = data[:, 4:5]\n",
    "volume = data[:, -1:]\n",
    "x = np.hstack((money, adj, volume))"
   ]
  },
  {
   "cell_type": "code",
   "execution_count": 74,
   "metadata": {},
   "outputs": [
    {
     "data": {
      "text/plain": [
       "(4469, 3)"
      ]
     },
     "execution_count": 74,
     "metadata": {},
     "output_type": "execute_result"
    }
   ],
   "source": [
    "data[:, :3].shape"
   ]
  },
  {
   "cell_type": "code",
   "execution_count": 75,
   "metadata": {},
   "outputs": [
    {
     "data": {
      "text/plain": [
       "((4469, 6), (4469, 6))"
      ]
     },
     "execution_count": 75,
     "metadata": {},
     "output_type": "execute_result"
    }
   ],
   "source": [
    "data.shape, x.shape"
   ]
  },
  {
   "cell_type": "code",
   "execution_count": 10,
   "metadata": {},
   "outputs": [
    {
     "data": {
      "text/html": [
       "<div>\n",
       "<style scoped>\n",
       "    .dataframe tbody tr th:only-of-type {\n",
       "        vertical-align: middle;\n",
       "    }\n",
       "\n",
       "    .dataframe tbody tr th {\n",
       "        vertical-align: top;\n",
       "    }\n",
       "\n",
       "    .dataframe thead th {\n",
       "        text-align: right;\n",
       "    }\n",
       "</style>\n",
       "<table border=\"1\" class=\"dataframe\">\n",
       "  <thead>\n",
       "    <tr style=\"text-align: right;\">\n",
       "      <th></th>\n",
       "      <th>Low</th>\n",
       "      <th>Open</th>\n",
       "      <th>Volume</th>\n",
       "      <th>High</th>\n",
       "      <th>Close</th>\n",
       "      <th>Adjusted Close</th>\n",
       "    </tr>\n",
       "  </thead>\n",
       "  <tbody>\n",
       "    <tr>\n",
       "      <th>count</th>\n",
       "      <td>4469.000000</td>\n",
       "      <td>4469.000000</td>\n",
       "      <td>4.469000e+03</td>\n",
       "      <td>4469.000000</td>\n",
       "      <td>4469.000000</td>\n",
       "      <td>4469.000000</td>\n",
       "    </tr>\n",
       "    <tr>\n",
       "      <th>mean</th>\n",
       "      <td>15.774003</td>\n",
       "      <td>15.948836</td>\n",
       "      <td>1.648042e+06</td>\n",
       "      <td>16.101493</td>\n",
       "      <td>15.942282</td>\n",
       "      <td>8.470200</td>\n",
       "    </tr>\n",
       "    <tr>\n",
       "      <th>std</th>\n",
       "      <td>3.093848</td>\n",
       "      <td>3.063429</td>\n",
       "      <td>1.529950e+06</td>\n",
       "      <td>3.024575</td>\n",
       "      <td>3.059745</td>\n",
       "      <td>5.128611</td>\n",
       "    </tr>\n",
       "    <tr>\n",
       "      <th>min</th>\n",
       "      <td>3.120000</td>\n",
       "      <td>3.270000</td>\n",
       "      <td>6.600000e+03</td>\n",
       "      <td>3.420000</td>\n",
       "      <td>3.210000</td>\n",
       "      <td>0.859628</td>\n",
       "    </tr>\n",
       "    <tr>\n",
       "      <th>25%</th>\n",
       "      <td>15.000000</td>\n",
       "      <td>15.160000</td>\n",
       "      <td>8.546000e+05</td>\n",
       "      <td>15.320000</td>\n",
       "      <td>15.170000</td>\n",
       "      <td>3.670892</td>\n",
       "    </tr>\n",
       "    <tr>\n",
       "      <th>50%</th>\n",
       "      <td>16.379999</td>\n",
       "      <td>16.520000</td>\n",
       "      <td>1.420800e+06</td>\n",
       "      <td>16.650000</td>\n",
       "      <td>16.510000</td>\n",
       "      <td>8.160035</td>\n",
       "    </tr>\n",
       "    <tr>\n",
       "      <th>75%</th>\n",
       "      <td>17.450001</td>\n",
       "      <td>17.570000</td>\n",
       "      <td>2.083300e+06</td>\n",
       "      <td>17.680000</td>\n",
       "      <td>17.580000</td>\n",
       "      <td>11.505618</td>\n",
       "    </tr>\n",
       "    <tr>\n",
       "      <th>max</th>\n",
       "      <td>22.430000</td>\n",
       "      <td>22.799999</td>\n",
       "      <td>2.882090e+07</td>\n",
       "      <td>23.000000</td>\n",
       "      <td>22.580000</td>\n",
       "      <td>22.580000</td>\n",
       "    </tr>\n",
       "  </tbody>\n",
       "</table>\n",
       "</div>"
      ],
      "text/plain": [
       "               Low         Open        Volume         High        Close  \\\n",
       "count  4469.000000  4469.000000  4.469000e+03  4469.000000  4469.000000   \n",
       "mean     15.774003    15.948836  1.648042e+06    16.101493    15.942282   \n",
       "std       3.093848     3.063429  1.529950e+06     3.024575     3.059745   \n",
       "min       3.120000     3.270000  6.600000e+03     3.420000     3.210000   \n",
       "25%      15.000000    15.160000  8.546000e+05    15.320000    15.170000   \n",
       "50%      16.379999    16.520000  1.420800e+06    16.650000    16.510000   \n",
       "75%      17.450001    17.570000  2.083300e+06    17.680000    17.580000   \n",
       "max      22.430000    22.799999  2.882090e+07    23.000000    22.580000   \n",
       "\n",
       "       Adjusted Close  \n",
       "count     4469.000000  \n",
       "mean         8.470200  \n",
       "std          5.128611  \n",
       "min          0.859628  \n",
       "25%          3.670892  \n",
       "50%          8.160035  \n",
       "75%         11.505618  \n",
       "max         22.580000  "
      ]
     },
     "execution_count": 10,
     "metadata": {},
     "output_type": "execute_result"
    }
   ],
   "source": [
    "df.describe()"
   ]
  },
  {
   "cell_type": "code",
   "execution_count": 11,
   "metadata": {},
   "outputs": [],
   "source": [
    "df = df[['Low', 'Open', 'High', 'Close', 'Adjusted Close', 'Volume']]"
   ]
  },
  {
   "cell_type": "code",
   "execution_count": 12,
   "metadata": {},
   "outputs": [
    {
     "data": {
      "text/plain": [
       "Index(['Low', 'Open', 'High', 'Close', 'Adjusted Close', 'Volume'], dtype='object')"
      ]
     },
     "execution_count": 12,
     "metadata": {},
     "output_type": "execute_result"
    }
   ],
   "source": [
    "df.columns"
   ]
  },
  {
   "cell_type": "code",
   "execution_count": 13,
   "metadata": {},
   "outputs": [
    {
     "data": {
      "text/html": [
       "<div>\n",
       "<style scoped>\n",
       "    .dataframe tbody tr th:only-of-type {\n",
       "        vertical-align: middle;\n",
       "    }\n",
       "\n",
       "    .dataframe tbody tr th {\n",
       "        vertical-align: top;\n",
       "    }\n",
       "\n",
       "    .dataframe thead th {\n",
       "        text-align: right;\n",
       "    }\n",
       "</style>\n",
       "<table border=\"1\" class=\"dataframe\">\n",
       "  <thead>\n",
       "    <tr style=\"text-align: right;\">\n",
       "      <th></th>\n",
       "      <th>Low</th>\n",
       "      <th>Open</th>\n",
       "      <th>High</th>\n",
       "      <th>Close</th>\n",
       "      <th>Adjusted Close</th>\n",
       "      <th>Volume</th>\n",
       "    </tr>\n",
       "  </thead>\n",
       "  <tbody>\n",
       "    <tr>\n",
       "      <th>count</th>\n",
       "      <td>4469.000000</td>\n",
       "      <td>4469.000000</td>\n",
       "      <td>4469.000000</td>\n",
       "      <td>4469.000000</td>\n",
       "      <td>4469.000000</td>\n",
       "      <td>4.469000e+03</td>\n",
       "    </tr>\n",
       "    <tr>\n",
       "      <th>mean</th>\n",
       "      <td>15.774003</td>\n",
       "      <td>15.948836</td>\n",
       "      <td>16.101493</td>\n",
       "      <td>15.942282</td>\n",
       "      <td>8.470200</td>\n",
       "      <td>1.648042e+06</td>\n",
       "    </tr>\n",
       "    <tr>\n",
       "      <th>std</th>\n",
       "      <td>3.093848</td>\n",
       "      <td>3.063429</td>\n",
       "      <td>3.024575</td>\n",
       "      <td>3.059745</td>\n",
       "      <td>5.128611</td>\n",
       "      <td>1.529950e+06</td>\n",
       "    </tr>\n",
       "    <tr>\n",
       "      <th>min</th>\n",
       "      <td>3.120000</td>\n",
       "      <td>3.270000</td>\n",
       "      <td>3.420000</td>\n",
       "      <td>3.210000</td>\n",
       "      <td>0.859628</td>\n",
       "      <td>6.600000e+03</td>\n",
       "    </tr>\n",
       "    <tr>\n",
       "      <th>25%</th>\n",
       "      <td>15.000000</td>\n",
       "      <td>15.160000</td>\n",
       "      <td>15.320000</td>\n",
       "      <td>15.170000</td>\n",
       "      <td>3.670892</td>\n",
       "      <td>8.546000e+05</td>\n",
       "    </tr>\n",
       "    <tr>\n",
       "      <th>50%</th>\n",
       "      <td>16.379999</td>\n",
       "      <td>16.520000</td>\n",
       "      <td>16.650000</td>\n",
       "      <td>16.510000</td>\n",
       "      <td>8.160035</td>\n",
       "      <td>1.420800e+06</td>\n",
       "    </tr>\n",
       "    <tr>\n",
       "      <th>75%</th>\n",
       "      <td>17.450001</td>\n",
       "      <td>17.570000</td>\n",
       "      <td>17.680000</td>\n",
       "      <td>17.580000</td>\n",
       "      <td>11.505618</td>\n",
       "      <td>2.083300e+06</td>\n",
       "    </tr>\n",
       "    <tr>\n",
       "      <th>max</th>\n",
       "      <td>22.430000</td>\n",
       "      <td>22.799999</td>\n",
       "      <td>23.000000</td>\n",
       "      <td>22.580000</td>\n",
       "      <td>22.580000</td>\n",
       "      <td>2.882090e+07</td>\n",
       "    </tr>\n",
       "  </tbody>\n",
       "</table>\n",
       "</div>"
      ],
      "text/plain": [
       "               Low         Open         High        Close  Adjusted Close  \\\n",
       "count  4469.000000  4469.000000  4469.000000  4469.000000     4469.000000   \n",
       "mean     15.774003    15.948836    16.101493    15.942282        8.470200   \n",
       "std       3.093848     3.063429     3.024575     3.059745        5.128611   \n",
       "min       3.120000     3.270000     3.420000     3.210000        0.859628   \n",
       "25%      15.000000    15.160000    15.320000    15.170000        3.670892   \n",
       "50%      16.379999    16.520000    16.650000    16.510000        8.160035   \n",
       "75%      17.450001    17.570000    17.680000    17.580000       11.505618   \n",
       "max      22.430000    22.799999    23.000000    22.580000       22.580000   \n",
       "\n",
       "             Volume  \n",
       "count  4.469000e+03  \n",
       "mean   1.648042e+06  \n",
       "std    1.529950e+06  \n",
       "min    6.600000e+03  \n",
       "25%    8.546000e+05  \n",
       "50%    1.420800e+06  \n",
       "75%    2.083300e+06  \n",
       "max    2.882090e+07  "
      ]
     },
     "execution_count": 13,
     "metadata": {},
     "output_type": "execute_result"
    }
   ],
   "source": [
    "df.describe()"
   ]
  },
  {
   "cell_type": "code",
   "execution_count": 16,
   "metadata": {},
   "outputs": [],
   "source": [
    "import pickle, torch\n",
    "from sklearn.preprocessing import MinMaxScaler"
   ]
  },
  {
   "cell_type": "code",
   "execution_count": 17,
   "metadata": {},
   "outputs": [],
   "source": [
    "def get_all_csv_files(dir: str):\n",
    "    files = []\n",
    "    a = os.listdir(dir)\n",
    "    for b in a:\n",
    "        if os.path.isdir(os.path.join(dir, b)):\n",
    "            c = os.path.join(dir, b, 'csv')\n",
    "            if os.path.isdir(c):\n",
    "                files += [os.path.join(c, f) for f in os.listdir(c) if f[-4:] == '.csv']\n",
    "\n",
    "    return files"
   ]
  },
  {
   "cell_type": "code",
   "execution_count": 18,
   "metadata": {},
   "outputs": [],
   "source": [
    "def large_df(files):\n",
    "    return pd.concat((pd.read_csv(f) for i, f in tqdm(enumerate(files), total=len(files))), ignore_index=True)"
   ]
  },
  {
   "cell_type": "code",
   "execution_count": 19,
   "metadata": {},
   "outputs": [
    {
     "name": "stderr",
     "output_type": "stream",
     "text": [
      "100%|██████████| 4280/4280 [00:33<00:00, 126.32it/s]\n"
     ]
    }
   ],
   "source": [
    "files = get_all_csv_files('stock_market_data')\n",
    "df = large_df(files)"
   ]
  },
  {
   "cell_type": "code",
   "execution_count": 29,
   "metadata": {},
   "outputs": [],
   "source": [
    "df = df[['Low', 'Open', 'High', 'Close', 'Adjusted Close', 'Volume']].dropna()"
   ]
  },
  {
   "cell_type": "code",
   "execution_count": 50,
   "metadata": {},
   "outputs": [],
   "source": [
    "DEFAULT_DATA_PATH = './stock_market_data'\n",
    "SCALER_PATH = './scalers/minmax_scaler.bin'\n",
    "VOLUME_SCALER_PATH = './scalers/volume_scaler.bin'\n",
    "\n",
    "def make_scaler():\n",
    "    print('=> Making scaler from all files')\n",
    "    x = large_df(get_all_csv_files(DEFAULT_DATA_PATH))\n",
    "    x = x.dropna(axis=0)\n",
    "    x = x.drop(['Date'], axis=1)\n",
    "    x = x[['Low', 'Open', 'High', 'Close', 'Adjusted Close', 'Volume']]\n",
    "    x = x.to_numpy()\n",
    "    \n",
    "    scl = MinMaxScaler(feature_range=(0, 1))\n",
    "    vscl = MinMaxScaler(feature_range=(0, 1))\n",
    "\n",
    "    scl = scl.fit(x[:, :-1])\n",
    "    vscl = vscl.fit(x[:, -1:])\n",
    "\n",
    "    pickle.dump(scl, open(SCALER_PATH, 'wb'))\n",
    "    pickle.dump(vscl, open(VOLUME_SCALER_PATH, 'wb'))\n",
    "\n",
    "MONEY_RANGE = [0.0, 8324640145408.0]\n",
    "ADJUSTED_RANGE = [-616456459764173628137646621458432.0, 942168706172424929960592932864.0]\n",
    "VOLUME_RANGE = [0.0 ,7421640800.0]\n",
    "\n",
    "def scale(data: torch.Tensor, new_min=0, new_max=1):\n",
    "    money = data[:, :4]\n",
    "    adj = data[:, 4:5]\n",
    "    volume = data[:, -1:]\n",
    "\n",
    "    money = (money - MONEY_RANGE[0]) / (MONEY_RANGE[1] - MONEY_RANGE[0]) * (new_max - new_min) + new_min\n",
    "    adj = (adj - ADJUSTED_RANGE[0]) / (ADJUSTED_RANGE[1] - ADJUSTED_RANGE[0]) * (new_max - new_min) + new_min\n",
    "    volume = (volume - VOLUME_RANGE[0]) / (VOLUME_RANGE[1] - VOLUME_RANGE[0]) * (new_max - new_min) + new_min\n",
    "    return torch.hstack((money, adj, volume))\n",
    "\n",
    "def inverse_scale(data: torch.Tensor, curr_min=0, curr_max=1):\n",
    "    money = data[:, :4]\n",
    "    adj = data[:, 4:5]\n",
    "    volume = data[:, -1:]\n",
    "\n",
    "    money = money * MONEY_RANGE[1]\n",
    "    volume = volume * VOLUME_RANGE[1]\n",
    "\n",
    "    adj = adj / curr_max * (ADJUSTED_RANGE[1] - ADJUSTED_RANGE[0]) + ADJUSTED_RANGE[0]\n",
    "\n",
    "    return torch.hstack((money, adj, volume))"
   ]
  },
  {
   "cell_type": "code",
   "execution_count": 51,
   "metadata": {},
   "outputs": [],
   "source": [
    "X = scale(torch.tensor(df.dropna().to_numpy()))"
   ]
  },
  {
   "cell_type": "code",
   "execution_count": 52,
   "metadata": {},
   "outputs": [
    {
     "data": {
      "text/plain": [
       "tensor(1., dtype=torch.float64)"
      ]
     },
     "execution_count": 52,
     "metadata": {},
     "output_type": "execute_result"
    }
   ],
   "source": [
    "torch.max(X)"
   ]
  },
  {
   "cell_type": "code",
   "execution_count": 53,
   "metadata": {},
   "outputs": [],
   "source": [
    "XX = inverse_scale(X)"
   ]
  },
  {
   "cell_type": "code",
   "execution_count": 54,
   "metadata": {},
   "outputs": [
    {
     "data": {
      "text/plain": [
       "(9.42168706172425e+29, 9.42168706172425e+29)"
      ]
     },
     "execution_count": 54,
     "metadata": {},
     "output_type": "execute_result"
    }
   ],
   "source": [
    "float(XX[:, 4].max()), df.values[:, 4].max()"
   ]
  },
  {
   "cell_type": "code",
   "execution_count": 62,
   "metadata": {},
   "outputs": [
    {
     "data": {
      "text/plain": [
       "(9.42168706172425e+29, 8324640145408.0)"
      ]
     },
     "execution_count": 62,
     "metadata": {},
     "output_type": "execute_result"
    }
   ],
   "source": [
    "df.iloc[:, :-1].values.max(), df.iloc[:, 3:4].values.max()"
   ]
  },
  {
   "cell_type": "code",
   "execution_count": 152,
   "metadata": {},
   "outputs": [
    {
     "data": {
      "text/plain": [
       "136155042782240.69"
      ]
     },
     "execution_count": 152,
     "metadata": {},
     "output_type": "execute_result"
    }
   ],
   "source": [
    "np.linalg.norm(df.dropna().to_numpy()[:, :4])"
   ]
  },
  {
   "cell_type": "code",
   "execution_count": 156,
   "metadata": {},
   "outputs": [],
   "source": [
    "XX = X[:, :4] * np.linalg.norm(136155042782240.69)"
   ]
  },
  {
   "cell_type": "code",
   "execution_count": 158,
   "metadata": {},
   "outputs": [
    {
     "ename": "TypeError",
     "evalue": "max() received an invalid combination of arguments - got (axis=NoneType, out=NoneType, ), but expected one of:\n * ()\n * (Tensor other)\n * (int dim, bool keepdim)\n      didn't match because some of the keywords were incorrect: axis, out\n * (name dim, bool keepdim)\n      didn't match because some of the keywords were incorrect: axis, out\n",
     "output_type": "error",
     "traceback": [
      "\u001b[1;31m---------------------------------------------------------------------------\u001b[0m",
      "\u001b[1;31mTypeError\u001b[0m                                 Traceback (most recent call last)",
      "\u001b[1;32me:\\Datasets\\stonks\\tests.ipynb Cell 19\u001b[0m in \u001b[0;36m<cell line: 1>\u001b[1;34m()\u001b[0m\n\u001b[1;32m----> <a href='vscode-notebook-cell:/e%3A/Datasets/stonks/tests.ipynb#ch0000055?line=0'>1</a>\u001b[0m np\u001b[39m.\u001b[39;49mmax(XX)\n",
      "File \u001b[1;32m<__array_function__ internals>:180\u001b[0m, in \u001b[0;36mamax\u001b[1;34m(*args, **kwargs)\u001b[0m\n",
      "File \u001b[1;32mc:\\Users\\Seppe\\.conda\\envs\\hawkeye\\lib\\site-packages\\numpy\\core\\fromnumeric.py:2791\u001b[0m, in \u001b[0;36mamax\u001b[1;34m(a, axis, out, keepdims, initial, where)\u001b[0m\n\u001b[0;32m   2675\u001b[0m \u001b[39m@array_function_dispatch\u001b[39m(_amax_dispatcher)\n\u001b[0;32m   2676\u001b[0m \u001b[39mdef\u001b[39;00m \u001b[39mamax\u001b[39m(a, axis\u001b[39m=\u001b[39m\u001b[39mNone\u001b[39;00m, out\u001b[39m=\u001b[39m\u001b[39mNone\u001b[39;00m, keepdims\u001b[39m=\u001b[39mnp\u001b[39m.\u001b[39m_NoValue, initial\u001b[39m=\u001b[39mnp\u001b[39m.\u001b[39m_NoValue,\n\u001b[0;32m   2677\u001b[0m          where\u001b[39m=\u001b[39mnp\u001b[39m.\u001b[39m_NoValue):\n\u001b[0;32m   2678\u001b[0m     \u001b[39m\"\"\"\u001b[39;00m\n\u001b[0;32m   2679\u001b[0m \u001b[39m    Return the maximum of an array or maximum along an axis.\u001b[39;00m\n\u001b[0;32m   2680\u001b[0m \n\u001b[1;32m   (...)\u001b[0m\n\u001b[0;32m   2789\u001b[0m \u001b[39m    5\u001b[39;00m\n\u001b[0;32m   2790\u001b[0m \u001b[39m    \"\"\"\u001b[39;00m\n\u001b[1;32m-> 2791\u001b[0m     \u001b[39mreturn\u001b[39;00m _wrapreduction(a, np\u001b[39m.\u001b[39;49mmaximum, \u001b[39m'\u001b[39;49m\u001b[39mmax\u001b[39;49m\u001b[39m'\u001b[39;49m, axis, \u001b[39mNone\u001b[39;49;00m, out,\n\u001b[0;32m   2792\u001b[0m                           keepdims\u001b[39m=\u001b[39;49mkeepdims, initial\u001b[39m=\u001b[39;49minitial, where\u001b[39m=\u001b[39;49mwhere)\n",
      "File \u001b[1;32mc:\\Users\\Seppe\\.conda\\envs\\hawkeye\\lib\\site-packages\\numpy\\core\\fromnumeric.py:84\u001b[0m, in \u001b[0;36m_wrapreduction\u001b[1;34m(obj, ufunc, method, axis, dtype, out, **kwargs)\u001b[0m\n\u001b[0;32m     82\u001b[0m             \u001b[39mreturn\u001b[39;00m reduction(axis\u001b[39m=\u001b[39maxis, dtype\u001b[39m=\u001b[39mdtype, out\u001b[39m=\u001b[39mout, \u001b[39m*\u001b[39m\u001b[39m*\u001b[39mpasskwargs)\n\u001b[0;32m     83\u001b[0m         \u001b[39melse\u001b[39;00m:\n\u001b[1;32m---> 84\u001b[0m             \u001b[39mreturn\u001b[39;00m reduction(axis\u001b[39m=\u001b[39;49maxis, out\u001b[39m=\u001b[39;49mout, \u001b[39m*\u001b[39;49m\u001b[39m*\u001b[39;49mpasskwargs)\n\u001b[0;32m     86\u001b[0m \u001b[39mreturn\u001b[39;00m ufunc\u001b[39m.\u001b[39mreduce(obj, axis, dtype, out, \u001b[39m*\u001b[39m\u001b[39m*\u001b[39mpasskwargs)\n",
      "\u001b[1;31mTypeError\u001b[0m: max() received an invalid combination of arguments - got (axis=NoneType, out=NoneType, ), but expected one of:\n * ()\n * (Tensor other)\n * (int dim, bool keepdim)\n      didn't match because some of the keywords were incorrect: axis, out\n * (name dim, bool keepdim)\n      didn't match because some of the keywords were incorrect: axis, out\n"
     ]
    }
   ],
   "source": [
    "np.max(XX)"
   ]
  },
  {
   "cell_type": "code",
   "execution_count": 18,
   "metadata": {},
   "outputs": [
    {
     "name": "stdout",
     "output_type": "stream",
     "text": [
      "torch.Size([8, 5]) torch.Size([5])\n",
      "tensor(0.9985, dtype=torch.float64)\n",
      "18.93000030517578\n"
     ]
    },
    {
     "data": {
      "image/png": "[encoded data removed]",
      "text/plain": [
       "<PIL.PngImagePlugin.PngImageFile image mode=RGBA size=720x480 at 0x25D272CD970>"
      ]
     },
     "execution_count": 18,
     "metadata": {},
     "output_type": "execute_result"
    }
   ],
   "source": [
    "from lib.plots import make_candle_plot\n",
    "from PIL import Image\n",
    "import io, torch\n",
    "\n",
    "c = make_candle_plot(torch.tensor(X[4460:4468, :-1], dtype=torch.float64), torch.tensor(X[4468, :-1], dtype=torch.float64))\n",
    "im_c = Image.open(io.BytesIO(c))\n",
    "im_c"
   ]
  },
  {
   "cell_type": "code",
   "execution_count": 64,
   "metadata": {},
   "outputs": [
    {
     "data": {
      "text/plain": [
       "(24351238, 5)"
      ]
     },
     "execution_count": 64,
     "metadata": {},
     "output_type": "execute_result"
    }
   ],
   "source": [
    "np.hstack((X[:, :3], X[:, 3:4], X[:, -1:])).shape"
   ]
  },
  {
   "cell_type": "code",
   "execution_count": 65,
   "metadata": {},
   "outputs": [
    {
     "data": {
      "text/plain": [
       "torch.Size([24351238, 5])"
      ]
     },
     "execution_count": 65,
     "metadata": {},
     "output_type": "execute_result"
    }
   ],
   "source": [
    "X.shape"
   ]
  },
  {
   "cell_type": "code",
   "execution_count": 21,
   "metadata": {},
   "outputs": [],
   "source": [
    "iX = inverse_scale(X)"
   ]
  },
  {
   "cell_type": "code",
   "execution_count": 22,
   "metadata": {},
   "outputs": [
    {
     "data": {
      "text/plain": [
       "(191466723344384.03, 2.1389836733272e+17)"
      ]
     },
     "execution_count": 22,
     "metadata": {},
     "output_type": "execute_result"
    }
   ],
   "source": [
    "iX[:, :-1].max(), X.max()"
   ]
  },
  {
   "cell_type": "code",
   "execution_count": null,
   "metadata": {},
   "outputs": [],
   "source": []
  },
  {
   "cell_type": "code",
   "execution_count": 14,
   "metadata": {},
   "outputs": [],
   "source": [
    "def make_dataset(df: np.ndarray, time_d: int = 10):\n",
    "    X, y = [], []\n",
    "\n",
    "    for i in range(df.shape[0] - time_d - 1):\n",
    "        idx = i + time_d\n",
    "        row = df[idx + 1]\n",
    "        row = row[:-1] # remove volume is it doesn't need to be predicted\n",
    "        if np.isnan(np.sum(row)):\n",
    "            continue\n",
    "\n",
    "        x = df[i:idx]\n",
    "        if np.isnan(np.sum(x)):\n",
    "            continue # if the row (y) has nans, skip\n",
    "\n",
    "        print(i, x, row)\n",
    "        X.append(x)\n",
    "        y.append(row)\n",
    "\n",
    "        break\n",
    "        \n",
    "    return np.array(X), np.array(y)"
   ]
  },
  {
   "cell_type": "code",
   "execution_count": 15,
   "metadata": {},
   "outputs": [
    {
     "name": "stdout",
     "output_type": "stream",
     "text": [
      "0 [[1.28347993e-01 1.28347993e-01 1.28905997e-01 1.28347993e-01\n",
      "  1.00178480e-01 4.69033600e+08]\n",
      " [1.21652000e-01 1.22210003e-01 1.22210003e-01 1.21652000e-01\n",
      "  9.49520767e-02 1.75884800e+08]\n",
      " [1.12723000e-01 1.13280997e-01 1.13280997e-01 1.12723000e-01\n",
      "  8.79827887e-02 1.05728000e+08]\n",
      " [1.15512997e-01 1.15512997e-01 1.16071001e-01 1.15512997e-01\n",
      "  9.01604369e-02 8.64416000e+07]\n",
      " [1.18862003e-01 1.18862003e-01 1.19419999e-01 1.18862003e-01\n",
      "  9.27744359e-02 7.34496000e+07]\n",
      " [1.26115993e-01 1.26115993e-01 1.26673996e-01 1.26115993e-01\n",
      "  9.84363481e-02 4.86304000e+07]\n",
      " [1.32254004e-01 1.32254004e-01 1.32813007e-01 1.32254004e-01\n",
      "  1.03227161e-01 3.73632000e+07]\n",
      " [1.37834996e-01 1.37834996e-01 1.38393000e-01 1.37834996e-01\n",
      "  1.07583262e-01 4.69504000e+07]\n",
      " [1.45089000e-01 1.45089000e-01 1.45647004e-01 1.45089000e-01\n",
      "  1.13245167e-01 4.80032000e+07]\n",
      " [1.58482000e-01 1.58482000e-01 1.59040004e-01 1.58482000e-01\n",
      "  1.23698667e-01 5.55744000e+07]] [0.156808   0.15736599 0.15736599 0.156808   0.1223921 ]\n"
     ]
    }
   ],
   "source": [
    "X, y = make_dataset(df.to_numpy())"
   ]
  },
  {
   "cell_type": "code",
   "execution_count": 18,
   "metadata": {},
   "outputs": [],
   "source": [
    "def scale(X, y):\n",
    "    div = 255 / np.max(X)\n",
    "    X *= div\n",
    "    y *= div\n",
    "    return X, y"
   ]
  },
  {
   "cell_type": "code",
   "execution_count": 2,
   "metadata": {},
   "outputs": [
    {
     "ename": "NameError",
     "evalue": "name 'get_all_csv_files' is not defined",
     "output_type": "error",
     "traceback": [
      "\u001b[1;31m---------------------------------------------------------------------------\u001b[0m",
      "\u001b[1;31mNameError\u001b[0m                                 Traceback (most recent call last)",
      "\u001b[1;32me:\\Datasets\\stonks\\tests.ipynb Cell 30\u001b[0m in \u001b[0;36m<cell line: 1>\u001b[1;34m()\u001b[0m\n\u001b[1;32m----> <a href='vscode-notebook-cell:/e%3A/Datasets/stonks/tests.ipynb#ch0000015?line=0'>1</a>\u001b[0m files \u001b[39m=\u001b[39m get_all_csv_files(\u001b[39m'\u001b[39m\u001b[39mstock_market_data\u001b[39m\u001b[39m'\u001b[39m)\n",
      "\u001b[1;31mNameError\u001b[0m: name 'get_all_csv_files' is not defined"
     ]
    }
   ],
   "source": [
    "files = get_all_csv_files('stock_market_data')\n",
    "df = large_df(files)"
   ]
  },
  {
   "cell_type": "code",
   "execution_count": null,
   "metadata": {},
   "outputs": [
    {
     "name": "stderr",
     "output_type": "stream",
     "text": [
      "100%|██████████| 4280/4280 [00:35<00:00, 121.97it/s]\n"
     ]
    }
   ],
   "source": [
    "df = large_df(files)"
   ]
  },
  {
   "cell_type": "code",
   "execution_count": 62,
   "metadata": {},
   "outputs": [],
   "source": [
    "df.dropna(inplace=True)"
   ]
  },
  {
   "cell_type": "code",
   "execution_count": 66,
   "metadata": {},
   "outputs": [
    {
     "data": {
      "text/plain": [
       "(Date                                    31-12-2021\n",
       " Low                                8324640145408.0\n",
       " Open                               8324640145408.0\n",
       " Volume                                7421640800.0\n",
       " High                               8324640145408.0\n",
       " Close                              8324640145408.0\n",
       " Adjusted Close    942168706172424929960592932864.0\n",
       " dtype: object,\n",
       " Date                                       01-02-1971\n",
       " Low                                               0.0\n",
       " Open                                              0.0\n",
       " Volume                                            0.0\n",
       " High                                              0.0\n",
       " Close                                             0.0\n",
       " Adjusted Close   -616456459764173628137646621458432.0\n",
       " dtype: object)"
      ]
     },
     "execution_count": 66,
     "metadata": {},
     "output_type": "execute_result"
    }
   ],
   "source": [
    "df.max(), df.min()"
   ]
  },
  {
   "cell_type": "code",
   "execution_count": 70,
   "metadata": {},
   "outputs": [
    {
     "data": {
      "text/html": [
       "<div>\n",
       "<style scoped>\n",
       "    .dataframe tbody tr th:only-of-type {\n",
       "        vertical-align: middle;\n",
       "    }\n",
       "\n",
       "    .dataframe tbody tr th {\n",
       "        vertical-align: top;\n",
       "    }\n",
       "\n",
       "    .dataframe thead th {\n",
       "        text-align: right;\n",
       "    }\n",
       "</style>\n",
       "<table border=\"1\" class=\"dataframe\">\n",
       "  <thead>\n",
       "    <tr style=\"text-align: right;\">\n",
       "      <th></th>\n",
       "      <th>Close</th>\n",
       "    </tr>\n",
       "  </thead>\n",
       "  <tbody>\n",
       "    <tr>\n",
       "      <th>0</th>\n",
       "      <td>31.473534</td>\n",
       "    </tr>\n",
       "    <tr>\n",
       "      <th>1</th>\n",
       "      <td>28.880545</td>\n",
       "    </tr>\n",
       "    <tr>\n",
       "      <th>2</th>\n",
       "      <td>31.473534</td>\n",
       "    </tr>\n",
       "    <tr>\n",
       "      <th>3</th>\n",
       "      <td>28.612303</td>\n",
       "    </tr>\n",
       "    <tr>\n",
       "      <th>4</th>\n",
       "      <td>29.372318</td>\n",
       "    </tr>\n",
       "    <tr>\n",
       "      <th>...</th>\n",
       "      <td>...</td>\n",
       "    </tr>\n",
       "    <tr>\n",
       "      <th>24603266</th>\n",
       "      <td>173.919998</td>\n",
       "    </tr>\n",
       "    <tr>\n",
       "      <th>24603267</th>\n",
       "      <td>171.889999</td>\n",
       "    </tr>\n",
       "    <tr>\n",
       "      <th>24603268</th>\n",
       "      <td>174.210007</td>\n",
       "    </tr>\n",
       "    <tr>\n",
       "      <th>24603269</th>\n",
       "      <td>174.250000</td>\n",
       "    </tr>\n",
       "    <tr>\n",
       "      <th>24603270</th>\n",
       "      <td>178.520004</td>\n",
       "    </tr>\n",
       "  </tbody>\n",
       "</table>\n",
       "<p>24351238 rows × 1 columns</p>\n",
       "</div>"
      ],
      "text/plain": [
       "               Close\n",
       "0          31.473534\n",
       "1          28.880545\n",
       "2          31.473534\n",
       "3          28.612303\n",
       "4          29.372318\n",
       "...              ...\n",
       "24603266  173.919998\n",
       "24603267  171.889999\n",
       "24603268  174.210007\n",
       "24603269  174.250000\n",
       "24603270  178.520004\n",
       "\n",
       "[24351238 rows x 1 columns]"
      ]
     },
     "execution_count": 70,
     "metadata": {},
     "output_type": "execute_result"
    }
   ],
   "source": [
    "df.iloc[:, 5:-1]"
   ]
  },
  {
   "cell_type": "code",
   "execution_count": 65,
   "metadata": {},
   "outputs": [
    {
     "data": {
      "text/plain": [
       "(80678513.86284217, -6.683588104177315e+25)"
      ]
     },
     "execution_count": 65,
     "metadata": {},
     "output_type": "execute_result"
    }
   ],
   "source": [
    "df.Close.mean(), df['Adjusted Close'].mean()"
   ]
  },
  {
   "cell_type": "code",
   "execution_count": 37,
   "metadata": {},
   "outputs": [
    {
     "data": {
      "text/plain": [
       "nan"
      ]
     },
     "execution_count": 37,
     "metadata": {},
     "output_type": "execute_result"
    }
   ],
   "source": [
    "df.iloc[:, :-1].values.min()"
   ]
  },
  {
   "cell_type": "code",
   "execution_count": 60,
   "metadata": {},
   "outputs": [
    {
     "name": "stderr",
     "output_type": "stream",
     "text": [
      "C:\\Users\\Seppe\\AppData\\Local\\Temp\\ipykernel_9172\\3320255333.py:1: FutureWarning:\n",
      "\n",
      "Automatic reindexing on DataFrame vs Series comparisons is deprecated and will raise ValueError in a future version.  Do `left, right = left.align(right, axis=1, copy=False)` before e.g. `left == right`\n",
      "\n"
     ]
    },
    {
     "data": {
      "text/plain": [
       "Low               23311562\n",
       "Open              23307147\n",
       "High              23308180\n",
       "Close             23310432\n",
       "Adjusted Close           0\n",
       "Volume                   0\n",
       "dtype: int64"
      ]
     },
     "execution_count": 60,
     "metadata": {},
     "output_type": "execute_result"
    }
   ],
   "source": [
    "df = df.where(df[['Low', 'Open', 'High', 'Close']] < df.mean() * 3).where(df[['Low', 'Open', 'High', 'Close']] > -1 * df.mean() * 3)"
   ]
  },
  {
   "cell_type": "code",
   "execution_count": 85,
   "metadata": {},
   "outputs": [
    {
     "data": {
      "text/plain": [
       "9.42168706172425e+29"
      ]
     },
     "execution_count": 85,
     "metadata": {},
     "output_type": "execute_result"
    }
   ],
   "source": [
    "np.max(df.drop(['Date'], axis=1).dropna().to_numpy())"
   ]
  },
  {
   "cell_type": "code",
   "execution_count": 59,
   "metadata": {},
   "outputs": [
    {
     "data": {
      "text/plain": [
       "5349"
      ]
     },
     "execution_count": 59,
     "metadata": {},
     "output_type": "execute_result"
    }
   ],
   "source": [
    "df.shape[0] - 24345889"
   ]
  },
  {
   "cell_type": "code",
   "execution_count": 18,
   "metadata": {},
   "outputs": [
    {
     "name": "stdout",
     "output_type": "stream",
     "text": [
      "stock_market_data\\forbes2000\\csv\\ABTZY.csv\n",
      "stock_market_data\\forbes2000\\csv\\ADERY.csv\n",
      "stock_market_data\\forbes2000\\csv\\AET.csv\n",
      "stock_market_data\\forbes2000\\csv\\AFSI.csv\n",
      "stock_market_data\\forbes2000\\csv\\AUNB.csv\n",
      "stock_market_data\\forbes2000\\csv\\BHI.csv\n",
      "stock_market_data\\forbes2000\\csv\\BKRL.csv\n",
      "stock_market_data\\forbes2000\\csv\\BKUT.csv\n",
      "stock_market_data\\forbes2000\\csv\\CAA.csv\n",
      "stock_market_data\\forbes2000\\csv\\CBI.csv\n",
      "stock_market_data\\forbes2000\\csv\\CBUMF.csv\n",
      "stock_market_data\\forbes2000\\csv\\CCE.csv\n",
      "stock_market_data\\forbes2000\\csv\\CCGY.csv\n",
      "stock_market_data\\forbes2000\\csv\\CGYV.csv\n",
      "stock_market_data\\forbes2000\\csv\\CHNGQ.csv\n",
      "stock_market_data\\forbes2000\\csv\\COL.csv\n",
      "stock_market_data\\forbes2000\\csv\\CPFH.csv\n",
      "stock_market_data\\forbes2000\\csv\\CPICQ.csv\n",
      "stock_market_data\\forbes2000\\csv\\CTBK.csv\n",
      "stock_market_data\\forbes2000\\csv\\CTC.csv\n",
      "stock_market_data\\forbes2000\\csv\\ELROF.csv\n",
      "stock_market_data\\forbes2000\\csv\\ESRX.csv\n",
      "stock_market_data\\forbes2000\\csv\\GBNK.csv\n",
      "stock_market_data\\forbes2000\\csv\\GKNLY.csv\n",
      "stock_market_data\\forbes2000\\csv\\HPIL.csv\n",
      "stock_market_data\\forbes2000\\csv\\HXGBY.csv\n",
      "stock_market_data\\forbes2000\\csv\\IDLLF.csv\n",
      "stock_market_data\\forbes2000\\csv\\IFSB.csv\n",
      "stock_market_data\\forbes2000\\csv\\ISDAF.csv\n",
      "stock_market_data\\forbes2000\\csv\\JDID.csv\n",
      "stock_market_data\\forbes2000\\csv\\KYUNF.csv\n",
      "stock_market_data\\forbes2000\\csv\\NBGGY.csv\n",
      "stock_market_data\\forbes2000\\csv\\ORYX.csv\n",
      "stock_market_data\\forbes2000\\csv\\OTPGF.csv\n",
      "stock_market_data\\forbes2000\\csv\\OXNXF.csv\n",
      "stock_market_data\\forbes2000\\csv\\PEXUF.csv\n",
      "stock_market_data\\forbes2000\\csv\\PKWY.csv\n",
      "stock_market_data\\forbes2000\\csv\\PMHV.csv\n",
      "stock_market_data\\forbes2000\\csv\\SAHN.csv\n",
      "stock_market_data\\forbes2000\\csv\\SGDBF.csv\n",
      "stock_market_data\\forbes2000\\csv\\SGFEF.csv\n",
      "stock_market_data\\forbes2000\\csv\\SHPG.csv\n",
      "stock_market_data\\forbes2000\\csv\\SNI.csv\n",
      "stock_market_data\\forbes2000\\csv\\SSNLF.csv\n",
      "stock_market_data\\forbes2000\\csv\\SUGBY.csv\n",
      "stock_market_data\\forbes2000\\csv\\SWSKF.csv\n",
      "stock_market_data\\forbes2000\\csv\\SYNT.csv\n",
      "stock_market_data\\forbes2000\\csv\\TDBOF.csv\n",
      "stock_market_data\\forbes2000\\csv\\TFIV.csv\n",
      "stock_market_data\\forbes2000\\csv\\TLPC.csv\n",
      "stock_market_data\\forbes2000\\csv\\TMIX.csv\n",
      "stock_market_data\\forbes2000\\csv\\TREC.csv\n",
      "stock_market_data\\forbes2000\\csv\\TWODY.csv\n",
      "stock_market_data\\forbes2000\\csv\\TWX.csv\n",
      "stock_market_data\\forbes2000\\csv\\UABK.csv\n",
      "stock_market_data\\forbes2000\\csv\\USCS.csv\n",
      "stock_market_data\\forbes2000\\csv\\VDNRF.csv\n",
      "stock_market_data\\forbes2000\\csv\\VIP.csv\n",
      "stock_market_data\\forbes2000\\csv\\VVDB.csv\n",
      "stock_market_data\\forbes2000\\csv\\WAWL.csv\n",
      "stock_market_data\\forbes2000\\csv\\WEFIF.csv\n",
      "stock_market_data\\forbes2000\\csv\\WOPEY.csv\n",
      "stock_market_data\\nasdaq\\csv\\AAVL.csv\n",
      "stock_market_data\\nasdaq\\csv\\ABCD.csv\n",
      "stock_market_data\\nasdaq\\csv\\ABCO.csv\n",
      "stock_market_data\\nasdaq\\csv\\ABGOY.csv\n",
      "stock_market_data\\nasdaq\\csv\\ACFC.csv\n",
      "stock_market_data\\nasdaq\\csv\\ACTA.csv\n",
      "stock_market_data\\nasdaq\\csv\\AFAM.csv\n",
      "stock_market_data\\nasdaq\\csv\\AFCB.csv\n",
      "stock_market_data\\nasdaq\\csv\\AFSI.csv\n",
      "stock_market_data\\nasdaq\\csv\\AHGP.csv\n",
      "stock_market_data\\nasdaq\\csv\\ALOG.csv\n",
      "stock_market_data\\nasdaq\\csv\\ALSD.csv\n",
      "stock_market_data\\nasdaq\\csv\\ANAT.csv\n",
      "stock_market_data\\nasdaq\\csv\\ANCB.csv\n",
      "stock_market_data\\nasdaq\\csv\\ANCX.csv\n",
      "stock_market_data\\nasdaq\\csv\\ARII.csv\n",
      "stock_market_data\\nasdaq\\csv\\ARNA.csv\n",
      "stock_market_data\\nasdaq\\csv\\ATRS.csv\n",
      "stock_market_data\\nasdaq\\csv\\BBOX.csv\n",
      "stock_market_data\\nasdaq\\csv\\BBRG.csv\n",
      "stock_market_data\\nasdaq\\csv\\BDMS.csv\n",
      "stock_market_data\\nasdaq\\csv\\BDSI.csv\n",
      "stock_market_data\\nasdaq\\csv\\BIND.csv\n",
      "stock_market_data\\nasdaq\\csv\\BSF.csv\n",
      "stock_market_data\\nasdaq\\csv\\BYBK.csv\n",
      "stock_market_data\\nasdaq\\csv\\CACH.csv\n",
      "stock_market_data\\nasdaq\\csv\\CALD.csv\n",
      "stock_market_data\\nasdaq\\csv\\CALL.csv\n",
      "stock_market_data\\nasdaq\\csv\\CAVM.csv\n",
      "stock_market_data\\nasdaq\\csv\\CCIH.csv\n",
      "stock_market_data\\nasdaq\\csv\\CERN.csv\n",
      "stock_market_data\\nasdaq\\csv\\CHFN.csv\n",
      "stock_market_data\\nasdaq\\csv\\CNXR.csv\n",
      "stock_market_data\\nasdaq\\csv\\COBZ.csv\n",
      "stock_market_data\\nasdaq\\csv\\COHR.csv\n",
      "stock_market_data\\nasdaq\\csv\\CORI.csv\n",
      "stock_market_data\\nasdaq\\csv\\CPICQ.csv\n",
      "stock_market_data\\nasdaq\\csv\\CPLA.csv\n",
      "stock_market_data\\nasdaq\\csv\\CRTN.csv\n",
      "stock_market_data\\nasdaq\\csv\\CRWN.csv\n",
      "stock_market_data\\nasdaq\\csv\\CSBK.csv\n",
      "stock_market_data\\nasdaq\\csv\\CWAY.csv\n",
      "stock_market_data\\nasdaq\\csv\\CXDC.csv\n",
      "stock_market_data\\nasdaq\\csv\\CYIO.csv\n",
      "stock_market_data\\nasdaq\\csv\\DARA.csv\n",
      "stock_market_data\\nasdaq\\csv\\DWCH.csv\n",
      "stock_market_data\\nasdaq\\csv\\DXM.csv\n",
      "stock_market_data\\nasdaq\\csv\\ECOL.csv\n",
      "stock_market_data\\nasdaq\\csv\\ECYT.csv\n",
      "stock_market_data\\nasdaq\\csv\\EDGW.csv\n",
      "stock_market_data\\nasdaq\\csv\\EDSFF.csv\n",
      "stock_market_data\\nasdaq\\csv\\ELON.csv\n",
      "stock_market_data\\nasdaq\\csv\\EPAY.csv\n",
      "stock_market_data\\nasdaq\\csv\\ESBK.csv\n",
      "stock_market_data\\nasdaq\\csv\\ESIO.csv\n",
      "stock_market_data\\nasdaq\\csv\\ESRX.csv\n",
      "stock_market_data\\nasdaq\\csv\\EXAC.csv\n",
      "stock_market_data\\nasdaq\\csv\\FFKT.csv\n",
      "stock_market_data\\nasdaq\\csv\\FFNM.csv\n",
      "stock_market_data\\nasdaq\\csv\\FINL.csv\n",
      "stock_market_data\\nasdaq\\csv\\FMI.csv\n",
      "stock_market_data\\nasdaq\\csv\\FNRG.csv\n",
      "stock_market_data\\nasdaq\\csv\\FSFF.csv\n",
      "stock_market_data\\nasdaq\\csv\\GBNK.csv\n",
      "stock_market_data\\nasdaq\\csv\\GMAN.csv\n",
      "stock_market_data\\nasdaq\\csv\\GNBC.csv\n",
      "stock_market_data\\nasdaq\\csv\\GNCMA.csv\n",
      "stock_market_data\\nasdaq\\csv\\GNOW.csv\n",
      "stock_market_data\\nasdaq\\csv\\GNSG.csv\n",
      "stock_market_data\\nasdaq\\csv\\HAWK.csv\n",
      "stock_market_data\\nasdaq\\csv\\HBP.csv\n",
      "stock_market_data\\nasdaq\\csv\\HDNG.csv\n",
      "stock_market_data\\nasdaq\\csv\\HDP.csv\n",
      "stock_market_data\\nasdaq\\csv\\HQCL.csv\n",
      "stock_market_data\\nasdaq\\csv\\IIN.csv\n",
      "stock_market_data\\nasdaq\\csv\\INTX.csv\n",
      "stock_market_data\\nasdaq\\csv\\IPAS.csv\n",
      "stock_market_data\\nasdaq\\csv\\IPCC.csv\n",
      "stock_market_data\\nasdaq\\csv\\IPXL.csv\n",
      "stock_market_data\\nasdaq\\csv\\ISBC.csv\n",
      "stock_market_data\\nasdaq\\csv\\JMBA.csv\n",
      "stock_market_data\\nasdaq\\csv\\JOBS.csv\n",
      "stock_market_data\\nasdaq\\csv\\JTPY.csv\n",
      "stock_market_data\\nasdaq\\csv\\JUNO.csv\n",
      "stock_market_data\\nasdaq\\csv\\JXSB.csv\n",
      "stock_market_data\\nasdaq\\csv\\KANG.csv\n",
      "stock_market_data\\nasdaq\\csv\\KERX.csv\n",
      "stock_market_data\\nasdaq\\csv\\KEYW.csv\n",
      "stock_market_data\\nasdaq\\csv\\KGJI.csv\n",
      "stock_market_data\\nasdaq\\csv\\KLXI.csv\n",
      "stock_market_data\\nasdaq\\csv\\KTWO.csv\n",
      "stock_market_data\\nasdaq\\csv\\LAWS.csv\n",
      "stock_market_data\\nasdaq\\csv\\LAYN.csv\n",
      "stock_market_data\\nasdaq\\csv\\LGCY.csv\n",
      "stock_market_data\\nasdaq\\csv\\LIME.csv\n",
      "stock_market_data\\nasdaq\\csv\\LMDCF.csv\n",
      "stock_market_data\\nasdaq\\csv\\LPNT.csv\n",
      "stock_market_data\\nasdaq\\csv\\LTRE.csv\n",
      "stock_market_data\\nasdaq\\csv\\MATR.csv\n",
      "stock_market_data\\nasdaq\\csv\\MITL.csv\n",
      "stock_market_data\\nasdaq\\csv\\MOBL.csv\n",
      "stock_market_data\\nasdaq\\csv\\MSCC.csv\n",
      "stock_market_data\\nasdaq\\csv\\MSFG.csv\n",
      "stock_market_data\\nasdaq\\csv\\MZOR.csv\n",
      "stock_market_data\\nasdaq\\csv\\NCLIP.csv\n",
      "stock_market_data\\nasdaq\\csv\\NOXL.csv\n",
      "stock_market_data\\nasdaq\\csv\\NRCIB.csv\n",
      "stock_market_data\\nasdaq\\csv\\NSEC.csv\n",
      "stock_market_data\\nasdaq\\csv\\NUAN.csv\n",
      "stock_market_data\\nasdaq\\csv\\OCLR.csv\n",
      "stock_market_data\\nasdaq\\csv\\ORIG.csv\n",
      "stock_market_data\\nasdaq\\csv\\PBIP.csv\n",
      "stock_market_data\\nasdaq\\csv\\PBSK.csv\n",
      "stock_market_data\\nasdaq\\csv\\PCOM.csv\n",
      "stock_market_data\\nasdaq\\csv\\PERY.csv\n",
      "stock_market_data\\nasdaq\\csv\\PLPL.csv\n",
      "stock_market_data\\nasdaq\\csv\\PRSS.csv\n",
      "stock_market_data\\nasdaq\\csv\\QKLS.csv\n",
      "stock_market_data\\nasdaq\\csv\\REGI.csv\n",
      "stock_market_data\\nasdaq\\csv\\REIS.csv\n",
      "stock_market_data\\nasdaq\\csv\\RITT.csv\n",
      "stock_market_data\\nasdaq\\csv\\RLJE.csv\n",
      "stock_market_data\\nasdaq\\csv\\RMGN.csv\n",
      "stock_market_data\\nasdaq\\csv\\RSYS.csv\n",
      "stock_market_data\\nasdaq\\csv\\SCYT.csv\n",
      "stock_market_data\\nasdaq\\csv\\SDAD.csv\n",
      "stock_market_data\\nasdaq\\csv\\SGBI.csv\n",
      "stock_market_data\\nasdaq\\csv\\SHLD.csv\n",
      "stock_market_data\\nasdaq\\csv\\SHLM.csv\n",
      "stock_market_data\\nasdaq\\csv\\SHPG.csv\n",
      "stock_market_data\\nasdaq\\csv\\SKPI.csv\n",
      "stock_market_data\\nasdaq\\csv\\SKYAY.csv\n",
      "stock_market_data\\nasdaq\\csv\\SKYS.csv\n",
      "stock_market_data\\nasdaq\\csv\\SNMX.csv\n",
      "stock_market_data\\nasdaq\\csv\\SNSGF.csv\n",
      "stock_market_data\\nasdaq\\csv\\SODA.csv\n",
      "stock_market_data\\nasdaq\\csv\\SONC.csv\n",
      "stock_market_data\\nasdaq\\csv\\SPDC.csv\n",
      "stock_market_data\\nasdaq\\csv\\SPIL.csv\n",
      "stock_market_data\\nasdaq\\csv\\STBZ.csv\n",
      "stock_market_data\\nasdaq\\csv\\SUMR.csv\n",
      "stock_market_data\\nasdaq\\csv\\SWSH.csv\n",
      "stock_market_data\\nasdaq\\csv\\SYNT.csv\n",
      "stock_market_data\\nasdaq\\csv\\TSC.csv\n",
      "stock_market_data\\nasdaq\\csv\\UCBA.csv\n",
      "stock_market_data\\nasdaq\\csv\\UEPS.csv\n",
      "stock_market_data\\nasdaq\\csv\\VIEWF.csv\n",
      "stock_market_data\\nasdaq\\csv\\WEB.csv\n",
      "stock_market_data\\nasdaq\\csv\\WLKR.csv\n",
      "stock_market_data\\nasdaq\\csv\\WSCI.csv\n",
      "stock_market_data\\nasdaq\\csv\\WSTL.csv\n",
      "stock_market_data\\nasdaq\\csv\\WWSG.csv\n",
      "stock_market_data\\nasdaq\\csv\\XCRA.csv\n"
     ]
    },
    {
     "ename": "KeyboardInterrupt",
     "evalue": "",
     "output_type": "error",
     "traceback": [
      "\u001b[1;31m---------------------------------------------------------------------------\u001b[0m",
      "\u001b[1;31mKeyboardInterrupt\u001b[0m                         Traceback (most recent call last)",
      "\u001b[1;32m~\\AppData\\Local\\Temp/ipykernel_14908/2036465949.py\u001b[0m in \u001b[0;36m<module>\u001b[1;34m\u001b[0m\n\u001b[0;32m      1\u001b[0m \u001b[1;32mfor\u001b[0m \u001b[0mfile\u001b[0m \u001b[1;32min\u001b[0m \u001b[0mfiles\u001b[0m\u001b[1;33m:\u001b[0m\u001b[1;33m\u001b[0m\u001b[1;33m\u001b[0m\u001b[0m\n\u001b[1;32m----> 2\u001b[1;33m     \u001b[1;32mif\u001b[0m \u001b[0mpd\u001b[0m\u001b[1;33m.\u001b[0m\u001b[0mread_csv\u001b[0m\u001b[1;33m(\u001b[0m\u001b[0mfile\u001b[0m\u001b[1;33m)\u001b[0m\u001b[1;33m.\u001b[0m\u001b[0misnull\u001b[0m\u001b[1;33m(\u001b[0m\u001b[1;33m)\u001b[0m\u001b[1;33m.\u001b[0m\u001b[0mvalues\u001b[0m\u001b[1;33m.\u001b[0m\u001b[0many\u001b[0m\u001b[1;33m(\u001b[0m\u001b[1;33m)\u001b[0m\u001b[1;33m:\u001b[0m\u001b[1;33m\u001b[0m\u001b[1;33m\u001b[0m\u001b[0m\n\u001b[0m\u001b[0;32m      3\u001b[0m         \u001b[0mprint\u001b[0m\u001b[1;33m(\u001b[0m\u001b[0mfile\u001b[0m\u001b[1;33m)\u001b[0m\u001b[1;33m\u001b[0m\u001b[1;33m\u001b[0m\u001b[0m\n",
      "\u001b[1;32mc:\\Users\\Seppe\\.conda\\envs\\tf-gpu\\lib\\site-packages\\pandas\\util\\_decorators.py\u001b[0m in \u001b[0;36mwrapper\u001b[1;34m(*args, **kwargs)\u001b[0m\n\u001b[0;32m    309\u001b[0m                     \u001b[0mstacklevel\u001b[0m\u001b[1;33m=\u001b[0m\u001b[0mstacklevel\u001b[0m\u001b[1;33m,\u001b[0m\u001b[1;33m\u001b[0m\u001b[1;33m\u001b[0m\u001b[0m\n\u001b[0;32m    310\u001b[0m                 )\n\u001b[1;32m--> 311\u001b[1;33m             \u001b[1;32mreturn\u001b[0m \u001b[0mfunc\u001b[0m\u001b[1;33m(\u001b[0m\u001b[1;33m*\u001b[0m\u001b[0margs\u001b[0m\u001b[1;33m,\u001b[0m \u001b[1;33m**\u001b[0m\u001b[0mkwargs\u001b[0m\u001b[1;33m)\u001b[0m\u001b[1;33m\u001b[0m\u001b[1;33m\u001b[0m\u001b[0m\n\u001b[0m\u001b[0;32m    312\u001b[0m \u001b[1;33m\u001b[0m\u001b[0m\n\u001b[0;32m    313\u001b[0m         \u001b[1;32mreturn\u001b[0m \u001b[0mwrapper\u001b[0m\u001b[1;33m\u001b[0m\u001b[1;33m\u001b[0m\u001b[0m\n",
      "\u001b[1;32mc:\\Users\\Seppe\\.conda\\envs\\tf-gpu\\lib\\site-packages\\pandas\\io\\parsers\\readers.py\u001b[0m in \u001b[0;36mread_csv\u001b[1;34m(filepath_or_buffer, sep, delimiter, header, names, index_col, usecols, squeeze, prefix, mangle_dupe_cols, dtype, engine, converters, true_values, false_values, skipinitialspace, skiprows, skipfooter, nrows, na_values, keep_default_na, na_filter, verbose, skip_blank_lines, parse_dates, infer_datetime_format, keep_date_col, date_parser, dayfirst, cache_dates, iterator, chunksize, compression, thousands, decimal, lineterminator, quotechar, quoting, doublequote, escapechar, comment, encoding, encoding_errors, dialect, error_bad_lines, warn_bad_lines, on_bad_lines, delim_whitespace, low_memory, memory_map, float_precision, storage_options)\u001b[0m\n\u001b[0;32m    584\u001b[0m     \u001b[0mkwds\u001b[0m\u001b[1;33m.\u001b[0m\u001b[0mupdate\u001b[0m\u001b[1;33m(\u001b[0m\u001b[0mkwds_defaults\u001b[0m\u001b[1;33m)\u001b[0m\u001b[1;33m\u001b[0m\u001b[1;33m\u001b[0m\u001b[0m\n\u001b[0;32m    585\u001b[0m \u001b[1;33m\u001b[0m\u001b[0m\n\u001b[1;32m--> 586\u001b[1;33m     \u001b[1;32mreturn\u001b[0m \u001b[0m_read\u001b[0m\u001b[1;33m(\u001b[0m\u001b[0mfilepath_or_buffer\u001b[0m\u001b[1;33m,\u001b[0m \u001b[0mkwds\u001b[0m\u001b[1;33m)\u001b[0m\u001b[1;33m\u001b[0m\u001b[1;33m\u001b[0m\u001b[0m\n\u001b[0m\u001b[0;32m    587\u001b[0m \u001b[1;33m\u001b[0m\u001b[0m\n\u001b[0;32m    588\u001b[0m \u001b[1;33m\u001b[0m\u001b[0m\n",
      "\u001b[1;32mc:\\Users\\Seppe\\.conda\\envs\\tf-gpu\\lib\\site-packages\\pandas\\io\\parsers\\readers.py\u001b[0m in \u001b[0;36m_read\u001b[1;34m(filepath_or_buffer, kwds)\u001b[0m\n\u001b[0;32m    480\u001b[0m \u001b[1;33m\u001b[0m\u001b[0m\n\u001b[0;32m    481\u001b[0m     \u001b[1;31m# Create the parser.\u001b[0m\u001b[1;33m\u001b[0m\u001b[1;33m\u001b[0m\u001b[0m\n\u001b[1;32m--> 482\u001b[1;33m     \u001b[0mparser\u001b[0m \u001b[1;33m=\u001b[0m \u001b[0mTextFileReader\u001b[0m\u001b[1;33m(\u001b[0m\u001b[0mfilepath_or_buffer\u001b[0m\u001b[1;33m,\u001b[0m \u001b[1;33m**\u001b[0m\u001b[0mkwds\u001b[0m\u001b[1;33m)\u001b[0m\u001b[1;33m\u001b[0m\u001b[1;33m\u001b[0m\u001b[0m\n\u001b[0m\u001b[0;32m    483\u001b[0m \u001b[1;33m\u001b[0m\u001b[0m\n\u001b[0;32m    484\u001b[0m     \u001b[1;32mif\u001b[0m \u001b[0mchunksize\u001b[0m \u001b[1;32mor\u001b[0m \u001b[0miterator\u001b[0m\u001b[1;33m:\u001b[0m\u001b[1;33m\u001b[0m\u001b[1;33m\u001b[0m\u001b[0m\n",
      "\u001b[1;32mc:\\Users\\Seppe\\.conda\\envs\\tf-gpu\\lib\\site-packages\\pandas\\io\\parsers\\readers.py\u001b[0m in \u001b[0;36m__init__\u001b[1;34m(self, f, engine, **kwds)\u001b[0m\n\u001b[0;32m    809\u001b[0m             \u001b[0mself\u001b[0m\u001b[1;33m.\u001b[0m\u001b[0moptions\u001b[0m\u001b[1;33m[\u001b[0m\u001b[1;34m\"has_index_names\"\u001b[0m\u001b[1;33m]\u001b[0m \u001b[1;33m=\u001b[0m \u001b[0mkwds\u001b[0m\u001b[1;33m[\u001b[0m\u001b[1;34m\"has_index_names\"\u001b[0m\u001b[1;33m]\u001b[0m\u001b[1;33m\u001b[0m\u001b[1;33m\u001b[0m\u001b[0m\n\u001b[0;32m    810\u001b[0m \u001b[1;33m\u001b[0m\u001b[0m\n\u001b[1;32m--> 811\u001b[1;33m         \u001b[0mself\u001b[0m\u001b[1;33m.\u001b[0m\u001b[0m_engine\u001b[0m \u001b[1;33m=\u001b[0m \u001b[0mself\u001b[0m\u001b[1;33m.\u001b[0m\u001b[0m_make_engine\u001b[0m\u001b[1;33m(\u001b[0m\u001b[0mself\u001b[0m\u001b[1;33m.\u001b[0m\u001b[0mengine\u001b[0m\u001b[1;33m)\u001b[0m\u001b[1;33m\u001b[0m\u001b[1;33m\u001b[0m\u001b[0m\n\u001b[0m\u001b[0;32m    812\u001b[0m \u001b[1;33m\u001b[0m\u001b[0m\n\u001b[0;32m    813\u001b[0m     \u001b[1;32mdef\u001b[0m \u001b[0mclose\u001b[0m\u001b[1;33m(\u001b[0m\u001b[0mself\u001b[0m\u001b[1;33m)\u001b[0m\u001b[1;33m:\u001b[0m\u001b[1;33m\u001b[0m\u001b[1;33m\u001b[0m\u001b[0m\n",
      "\u001b[1;32mc:\\Users\\Seppe\\.conda\\envs\\tf-gpu\\lib\\site-packages\\pandas\\io\\parsers\\readers.py\u001b[0m in \u001b[0;36m_make_engine\u001b[1;34m(self, engine)\u001b[0m\n\u001b[0;32m   1038\u001b[0m             )\n\u001b[0;32m   1039\u001b[0m         \u001b[1;31m# error: Too many arguments for \"ParserBase\"\u001b[0m\u001b[1;33m\u001b[0m\u001b[1;33m\u001b[0m\u001b[0m\n\u001b[1;32m-> 1040\u001b[1;33m         \u001b[1;32mreturn\u001b[0m \u001b[0mmapping\u001b[0m\u001b[1;33m[\u001b[0m\u001b[0mengine\u001b[0m\u001b[1;33m]\u001b[0m\u001b[1;33m(\u001b[0m\u001b[0mself\u001b[0m\u001b[1;33m.\u001b[0m\u001b[0mf\u001b[0m\u001b[1;33m,\u001b[0m \u001b[1;33m**\u001b[0m\u001b[0mself\u001b[0m\u001b[1;33m.\u001b[0m\u001b[0moptions\u001b[0m\u001b[1;33m)\u001b[0m  \u001b[1;31m# type: ignore[call-arg]\u001b[0m\u001b[1;33m\u001b[0m\u001b[1;33m\u001b[0m\u001b[0m\n\u001b[0m\u001b[0;32m   1041\u001b[0m \u001b[1;33m\u001b[0m\u001b[0m\n\u001b[0;32m   1042\u001b[0m     \u001b[1;32mdef\u001b[0m \u001b[0m_failover_to_python\u001b[0m\u001b[1;33m(\u001b[0m\u001b[0mself\u001b[0m\u001b[1;33m)\u001b[0m\u001b[1;33m:\u001b[0m\u001b[1;33m\u001b[0m\u001b[1;33m\u001b[0m\u001b[0m\n",
      "\u001b[1;32mc:\\Users\\Seppe\\.conda\\envs\\tf-gpu\\lib\\site-packages\\pandas\\io\\parsers\\c_parser_wrapper.py\u001b[0m in \u001b[0;36m__init__\u001b[1;34m(self, src, **kwds)\u001b[0m\n\u001b[0;32m     67\u001b[0m         \u001b[0mkwds\u001b[0m\u001b[1;33m[\u001b[0m\u001b[1;34m\"dtype\"\u001b[0m\u001b[1;33m]\u001b[0m \u001b[1;33m=\u001b[0m \u001b[0mensure_dtype_objs\u001b[0m\u001b[1;33m(\u001b[0m\u001b[0mkwds\u001b[0m\u001b[1;33m.\u001b[0m\u001b[0mget\u001b[0m\u001b[1;33m(\u001b[0m\u001b[1;34m\"dtype\"\u001b[0m\u001b[1;33m,\u001b[0m \u001b[1;32mNone\u001b[0m\u001b[1;33m)\u001b[0m\u001b[1;33m)\u001b[0m\u001b[1;33m\u001b[0m\u001b[1;33m\u001b[0m\u001b[0m\n\u001b[0;32m     68\u001b[0m         \u001b[1;32mtry\u001b[0m\u001b[1;33m:\u001b[0m\u001b[1;33m\u001b[0m\u001b[1;33m\u001b[0m\u001b[0m\n\u001b[1;32m---> 69\u001b[1;33m             \u001b[0mself\u001b[0m\u001b[1;33m.\u001b[0m\u001b[0m_reader\u001b[0m \u001b[1;33m=\u001b[0m \u001b[0mparsers\u001b[0m\u001b[1;33m.\u001b[0m\u001b[0mTextReader\u001b[0m\u001b[1;33m(\u001b[0m\u001b[0mself\u001b[0m\u001b[1;33m.\u001b[0m\u001b[0mhandles\u001b[0m\u001b[1;33m.\u001b[0m\u001b[0mhandle\u001b[0m\u001b[1;33m,\u001b[0m \u001b[1;33m**\u001b[0m\u001b[0mkwds\u001b[0m\u001b[1;33m)\u001b[0m\u001b[1;33m\u001b[0m\u001b[1;33m\u001b[0m\u001b[0m\n\u001b[0m\u001b[0;32m     70\u001b[0m         \u001b[1;32mexcept\u001b[0m \u001b[0mException\u001b[0m\u001b[1;33m:\u001b[0m\u001b[1;33m\u001b[0m\u001b[1;33m\u001b[0m\u001b[0m\n\u001b[0;32m     71\u001b[0m             \u001b[0mself\u001b[0m\u001b[1;33m.\u001b[0m\u001b[0mhandles\u001b[0m\u001b[1;33m.\u001b[0m\u001b[0mclose\u001b[0m\u001b[1;33m(\u001b[0m\u001b[1;33m)\u001b[0m\u001b[1;33m\u001b[0m\u001b[1;33m\u001b[0m\u001b[0m\n",
      "\u001b[1;31mKeyboardInterrupt\u001b[0m: "
     ]
    }
   ],
   "source": [
    "for file in files:\n",
    "    if pd.read_csv(file).isnull().values.any():\n",
    "        print(file)"
   ]
  },
  {
   "cell_type": "code",
   "execution_count": 8,
   "metadata": {},
   "outputs": [
    {
     "data": {
      "text/plain": [
       "(24603272, 7)"
      ]
     },
     "execution_count": 8,
     "metadata": {},
     "output_type": "execute_result"
    }
   ],
   "source": [
    "df.shape"
   ]
  },
  {
   "cell_type": "code",
   "execution_count": 9,
   "metadata": {},
   "outputs": [
    {
     "data": {
      "text/html": [
       "<style>#sk-container-id-1 {color: black;background-color: white;}#sk-container-id-1 pre{padding: 0;}#sk-container-id-1 div.sk-toggleable {background-color: white;}#sk-container-id-1 label.sk-toggleable__label {cursor: pointer;display: block;width: 100%;margin-bottom: 0;padding: 0.3em;box-sizing: border-box;text-align: center;}#sk-container-id-1 label.sk-toggleable__label-arrow:before {content: \"▸\";float: left;margin-right: 0.25em;color: #696969;}#sk-container-id-1 label.sk-toggleable__label-arrow:hover:before {color: black;}#sk-container-id-1 div.sk-estimator:hover label.sk-toggleable__label-arrow:before {color: black;}#sk-container-id-1 div.sk-toggleable__content {max-height: 0;max-width: 0;overflow: hidden;text-align: left;background-color: #f0f8ff;}#sk-container-id-1 div.sk-toggleable__content pre {margin: 0.2em;color: black;border-radius: 0.25em;background-color: #f0f8ff;}#sk-container-id-1 input.sk-toggleable__control:checked~div.sk-toggleable__content {max-height: 200px;max-width: 100%;overflow: auto;}#sk-container-id-1 input.sk-toggleable__control:checked~label.sk-toggleable__label-arrow:before {content: \"▾\";}#sk-container-id-1 div.sk-estimator input.sk-toggleable__control:checked~label.sk-toggleable__label {background-color: #d4ebff;}#sk-container-id-1 div.sk-label input.sk-toggleable__control:checked~label.sk-toggleable__label {background-color: #d4ebff;}#sk-container-id-1 input.sk-hidden--visually {border: 0;clip: rect(1px 1px 1px 1px);clip: rect(1px, 1px, 1px, 1px);height: 1px;margin: -1px;overflow: hidden;padding: 0;position: absolute;width: 1px;}#sk-container-id-1 div.sk-estimator {font-family: monospace;background-color: #f0f8ff;border: 1px dotted black;border-radius: 0.25em;box-sizing: border-box;margin-bottom: 0.5em;}#sk-container-id-1 div.sk-estimator:hover {background-color: #d4ebff;}#sk-container-id-1 div.sk-parallel-item::after {content: \"\";width: 100%;border-bottom: 1px solid gray;flex-grow: 1;}#sk-container-id-1 div.sk-label:hover label.sk-toggleable__label {background-color: #d4ebff;}#sk-container-id-1 div.sk-serial::before {content: \"\";position: absolute;border-left: 1px solid gray;box-sizing: border-box;top: 0;bottom: 0;left: 50%;z-index: 0;}#sk-container-id-1 div.sk-serial {display: flex;flex-direction: column;align-items: center;background-color: white;padding-right: 0.2em;padding-left: 0.2em;position: relative;}#sk-container-id-1 div.sk-item {position: relative;z-index: 1;}#sk-container-id-1 div.sk-parallel {display: flex;align-items: stretch;justify-content: center;background-color: white;position: relative;}#sk-container-id-1 div.sk-item::before, #sk-container-id-1 div.sk-parallel-item::before {content: \"\";position: absolute;border-left: 1px solid gray;box-sizing: border-box;top: 0;bottom: 0;left: 50%;z-index: -1;}#sk-container-id-1 div.sk-parallel-item {display: flex;flex-direction: column;z-index: 1;position: relative;background-color: white;}#sk-container-id-1 div.sk-parallel-item:first-child::after {align-self: flex-end;width: 50%;}#sk-container-id-1 div.sk-parallel-item:last-child::after {align-self: flex-start;width: 50%;}#sk-container-id-1 div.sk-parallel-item:only-child::after {width: 0;}#sk-container-id-1 div.sk-dashed-wrapped {border: 1px dashed gray;margin: 0 0.4em 0.5em 0.4em;box-sizing: border-box;padding-bottom: 0.4em;background-color: white;}#sk-container-id-1 div.sk-label label {font-family: monospace;font-weight: bold;display: inline-block;line-height: 1.2em;}#sk-container-id-1 div.sk-label-container {text-align: center;}#sk-container-id-1 div.sk-container {/* jupyter's `normalize.less` sets `[hidden] { display: none; }` but bootstrap.min.css set `[hidden] { display: none !important; }` so we also need the `!important` here to be able to override the default hidden behavior on the sphinx rendered scikit-learn.org. See: https://github.com/scikit-learn/scikit-learn/issues/21755 */display: inline-block !important;position: relative;}#sk-container-id-1 div.sk-text-repr-fallback {display: none;}</style><div id=\"sk-container-id-1\" class=\"sk-top-container\"><div class=\"sk-text-repr-fallback\"><pre>MinMaxScaler()</pre><b>In a Jupyter environment, please rerun this cell to show the HTML representation or trust the notebook. <br />On GitHub, the HTML representation is unable to render, please try loading this page with nbviewer.org.</b></div><div class=\"sk-container\" hidden><div class=\"sk-item\"><div class=\"sk-estimator sk-toggleable\"><input class=\"sk-toggleable__control sk-hidden--visually\" id=\"sk-estimator-id-1\" type=\"checkbox\" checked><label for=\"sk-estimator-id-1\" class=\"sk-toggleable__label sk-toggleable__label-arrow\">MinMaxScaler</label><div class=\"sk-toggleable__content\"><pre>MinMaxScaler()</pre></div></div></div></div></div>"
      ],
      "text/plain": [
       "MinMaxScaler()"
      ]
     },
     "execution_count": 9,
     "metadata": {},
     "output_type": "execute_result"
    }
   ],
   "source": [
    "from sklearn.preprocessing import MinMaxScaler\n",
    "import pickle\n",
    "\n",
    "scl = MinMaxScaler()\n",
    "scl.fit(df.drop(['Date'], axis=1))"
   ]
  },
  {
   "cell_type": "code",
   "execution_count": 10,
   "metadata": {},
   "outputs": [],
   "source": [
    "pickle.dump(scl, open('minmax_scaler.bin', 'wb'))"
   ]
  },
  {
   "cell_type": "code",
   "execution_count": 52,
   "metadata": {},
   "outputs": [],
   "source": [
    "x = scl.transform(df.drop(['Date'], axis=1))"
   ]
  },
  {
   "cell_type": "code",
   "execution_count": 58,
   "metadata": {},
   "outputs": [],
   "source": [
    "ddf = pd.DataFrame(x, columns=['Low', 'Open', 'Volume', 'High', 'Close', 'Adjusted Close'])"
   ]
  },
  {
   "cell_type": "code",
   "execution_count": 59,
   "metadata": {},
   "outputs": [
    {
     "data": {
      "text/html": [
       "<div>\n",
       "<style scoped>\n",
       "    .dataframe tbody tr th:only-of-type {\n",
       "        vertical-align: middle;\n",
       "    }\n",
       "\n",
       "    .dataframe tbody tr th {\n",
       "        vertical-align: top;\n",
       "    }\n",
       "\n",
       "    .dataframe thead th {\n",
       "        text-align: right;\n",
       "    }\n",
       "</style>\n",
       "<table border=\"1\" class=\"dataframe\">\n",
       "  <thead>\n",
       "    <tr style=\"text-align: right;\">\n",
       "      <th></th>\n",
       "      <th>Low</th>\n",
       "      <th>Open</th>\n",
       "      <th>Volume</th>\n",
       "      <th>High</th>\n",
       "      <th>Close</th>\n",
       "      <th>Adjusted Close</th>\n",
       "    </tr>\n",
       "  </thead>\n",
       "  <tbody>\n",
       "    <tr>\n",
       "      <th>count</th>\n",
       "      <td>5.693000e+03</td>\n",
       "      <td>5.693000e+03</td>\n",
       "      <td>5693.000000</td>\n",
       "      <td>5.693000e+03</td>\n",
       "      <td>5.693000e+03</td>\n",
       "      <td>5693.000000</td>\n",
       "    </tr>\n",
       "    <tr>\n",
       "      <th>mean</th>\n",
       "      <td>5.124624e-12</td>\n",
       "      <td>5.191498e-12</td>\n",
       "      <td>0.000471</td>\n",
       "      <td>5.258447e-12</td>\n",
       "      <td>5.192594e-12</td>\n",
       "      <td>0.998474</td>\n",
       "    </tr>\n",
       "    <tr>\n",
       "      <th>std</th>\n",
       "      <td>3.987756e-12</td>\n",
       "      <td>4.031567e-12</td>\n",
       "      <td>0.000329</td>\n",
       "      <td>4.071758e-12</td>\n",
       "      <td>4.029249e-12</td>\n",
       "      <td>0.000000</td>\n",
       "    </tr>\n",
       "    <tr>\n",
       "      <th>min</th>\n",
       "      <td>9.022288e-13</td>\n",
       "      <td>9.194140e-13</td>\n",
       "      <td>0.000030</td>\n",
       "      <td>9.563624e-13</td>\n",
       "      <td>9.323030e-13</td>\n",
       "      <td>0.998474</td>\n",
       "    </tr>\n",
       "    <tr>\n",
       "      <th>25%</th>\n",
       "      <td>2.603574e-12</td>\n",
       "      <td>2.637945e-12</td>\n",
       "      <td>0.000269</td>\n",
       "      <td>2.676612e-12</td>\n",
       "      <td>2.643101e-12</td>\n",
       "      <td>0.998474</td>\n",
       "    </tr>\n",
       "    <tr>\n",
       "      <th>50%</th>\n",
       "      <td>3.569389e-12</td>\n",
       "      <td>3.623522e-12</td>\n",
       "      <td>0.000402</td>\n",
       "      <td>3.673360e-12</td>\n",
       "      <td>3.624382e-12</td>\n",
       "      <td>0.998474</td>\n",
       "    </tr>\n",
       "    <tr>\n",
       "      <th>75%</th>\n",
       "      <td>6.277749e-12</td>\n",
       "      <td>6.341415e-12</td>\n",
       "      <td>0.000582</td>\n",
       "      <td>6.417094e-12</td>\n",
       "      <td>6.331805e-12</td>\n",
       "      <td>0.998474</td>\n",
       "    </tr>\n",
       "    <tr>\n",
       "      <th>max</th>\n",
       "      <td>2.128260e-11</td>\n",
       "      <td>2.153607e-11</td>\n",
       "      <td>0.008428</td>\n",
       "      <td>2.157090e-11</td>\n",
       "      <td>2.153607e-11</td>\n",
       "      <td>0.998474</td>\n",
       "    </tr>\n",
       "  </tbody>\n",
       "</table>\n",
       "</div>"
      ],
      "text/plain": [
       "                Low          Open       Volume          High         Close  \\\n",
       "count  5.693000e+03  5.693000e+03  5693.000000  5.693000e+03  5.693000e+03   \n",
       "mean   5.124624e-12  5.191498e-12     0.000471  5.258447e-12  5.192594e-12   \n",
       "std    3.987756e-12  4.031567e-12     0.000329  4.071758e-12  4.029249e-12   \n",
       "min    9.022288e-13  9.194140e-13     0.000030  9.563624e-13  9.323030e-13   \n",
       "25%    2.603574e-12  2.637945e-12     0.000269  2.676612e-12  2.643101e-12   \n",
       "50%    3.569389e-12  3.623522e-12     0.000402  3.673360e-12  3.624382e-12   \n",
       "75%    6.277749e-12  6.341415e-12     0.000582  6.417094e-12  6.331805e-12   \n",
       "max    2.128260e-11  2.153607e-11     0.008428  2.157090e-11  2.153607e-11   \n",
       "\n",
       "       Adjusted Close  \n",
       "count     5693.000000  \n",
       "mean         0.998474  \n",
       "std          0.000000  \n",
       "min          0.998474  \n",
       "25%          0.998474  \n",
       "50%          0.998474  \n",
       "75%          0.998474  \n",
       "max          0.998474  "
      ]
     },
     "execution_count": 59,
     "metadata": {},
     "output_type": "execute_result"
    }
   ],
   "source": [
    "ddf.describe()"
   ]
  },
  {
   "cell_type": "code",
   "execution_count": 61,
   "metadata": {},
   "outputs": [
    {
     "data": {
      "text/html": [
       "<div>\n",
       "<style scoped>\n",
       "    .dataframe tbody tr th:only-of-type {\n",
       "        vertical-align: middle;\n",
       "    }\n",
       "\n",
       "    .dataframe tbody tr th {\n",
       "        vertical-align: top;\n",
       "    }\n",
       "\n",
       "    .dataframe thead th {\n",
       "        text-align: right;\n",
       "    }\n",
       "</style>\n",
       "<table border=\"1\" class=\"dataframe\">\n",
       "  <thead>\n",
       "    <tr style=\"text-align: right;\">\n",
       "      <th></th>\n",
       "      <th>Low</th>\n",
       "      <th>Open</th>\n",
       "      <th>High</th>\n",
       "      <th>Close</th>\n",
       "      <th>Adjusted Close</th>\n",
       "      <th>Volume</th>\n",
       "    </tr>\n",
       "  </thead>\n",
       "  <tbody>\n",
       "    <tr>\n",
       "      <th>count</th>\n",
       "      <td>5.693000e+03</td>\n",
       "      <td>5.693000e+03</td>\n",
       "      <td>5.693000e+03</td>\n",
       "      <td>5.693000e+03</td>\n",
       "      <td>5693.000000</td>\n",
       "      <td>5693.000000</td>\n",
       "    </tr>\n",
       "    <tr>\n",
       "      <th>mean</th>\n",
       "      <td>5.124624e-12</td>\n",
       "      <td>5.191498e-12</td>\n",
       "      <td>5.258447e-12</td>\n",
       "      <td>5.192594e-12</td>\n",
       "      <td>0.998474</td>\n",
       "      <td>0.000471</td>\n",
       "    </tr>\n",
       "    <tr>\n",
       "      <th>std</th>\n",
       "      <td>3.987756e-12</td>\n",
       "      <td>4.031567e-12</td>\n",
       "      <td>4.071758e-12</td>\n",
       "      <td>4.029249e-12</td>\n",
       "      <td>0.000000</td>\n",
       "      <td>0.000329</td>\n",
       "    </tr>\n",
       "    <tr>\n",
       "      <th>min</th>\n",
       "      <td>9.022288e-13</td>\n",
       "      <td>9.194140e-13</td>\n",
       "      <td>9.563624e-13</td>\n",
       "      <td>9.323030e-13</td>\n",
       "      <td>0.998474</td>\n",
       "      <td>0.000030</td>\n",
       "    </tr>\n",
       "    <tr>\n",
       "      <th>25%</th>\n",
       "      <td>2.603574e-12</td>\n",
       "      <td>2.637945e-12</td>\n",
       "      <td>2.676612e-12</td>\n",
       "      <td>2.643101e-12</td>\n",
       "      <td>0.998474</td>\n",
       "      <td>0.000269</td>\n",
       "    </tr>\n",
       "    <tr>\n",
       "      <th>50%</th>\n",
       "      <td>3.569389e-12</td>\n",
       "      <td>3.623522e-12</td>\n",
       "      <td>3.673360e-12</td>\n",
       "      <td>3.624382e-12</td>\n",
       "      <td>0.998474</td>\n",
       "      <td>0.000402</td>\n",
       "    </tr>\n",
       "    <tr>\n",
       "      <th>75%</th>\n",
       "      <td>6.277749e-12</td>\n",
       "      <td>6.341415e-12</td>\n",
       "      <td>6.417094e-12</td>\n",
       "      <td>6.331805e-12</td>\n",
       "      <td>0.998474</td>\n",
       "      <td>0.000582</td>\n",
       "    </tr>\n",
       "    <tr>\n",
       "      <th>max</th>\n",
       "      <td>2.128260e-11</td>\n",
       "      <td>2.153607e-11</td>\n",
       "      <td>2.157090e-11</td>\n",
       "      <td>2.153607e-11</td>\n",
       "      <td>0.998474</td>\n",
       "      <td>0.008428</td>\n",
       "    </tr>\n",
       "  </tbody>\n",
       "</table>\n",
       "</div>"
      ],
      "text/plain": [
       "                Low          Open          High         Close  Adjusted Close  \\\n",
       "count  5.693000e+03  5.693000e+03  5.693000e+03  5.693000e+03     5693.000000   \n",
       "mean   5.124624e-12  5.191498e-12  5.258447e-12  5.192594e-12        0.998474   \n",
       "std    3.987756e-12  4.031567e-12  4.071758e-12  4.029249e-12        0.000000   \n",
       "min    9.022288e-13  9.194140e-13  9.563624e-13  9.323030e-13        0.998474   \n",
       "25%    2.603574e-12  2.637945e-12  2.676612e-12  2.643101e-12        0.998474   \n",
       "50%    3.569389e-12  3.623522e-12  3.673360e-12  3.624382e-12        0.998474   \n",
       "75%    6.277749e-12  6.341415e-12  6.417094e-12  6.331805e-12        0.998474   \n",
       "max    2.128260e-11  2.153607e-11  2.157090e-11  2.153607e-11        0.998474   \n",
       "\n",
       "            Volume  \n",
       "count  5693.000000  \n",
       "mean      0.000471  \n",
       "std       0.000329  \n",
       "min       0.000030  \n",
       "25%       0.000269  \n",
       "50%       0.000402  \n",
       "75%       0.000582  \n",
       "max       0.008428  "
      ]
     },
     "execution_count": 61,
     "metadata": {},
     "output_type": "execute_result"
    }
   ],
   "source": [
    "ddf[['Low', 'Open', 'High', 'Close', 'Adjusted Close', 'Volume']].describe()"
   ]
  },
  {
   "cell_type": "code",
   "execution_count": 18,
   "metadata": {},
   "outputs": [
    {
     "data": {
      "text/plain": [
       "array([['18-11-1999', 28.612302780151367, 32.54649353027344, 62546380.0,\n",
       "        35.765380859375],\n",
       "       ['19-11-1999', 28.47818374633789, 30.713518142700195, 15234146.0,\n",
       "        30.75822639465332],\n",
       "       ['22-11-1999', 28.65700912475586, 29.551143646240234, 6577870.0,\n",
       "        31.473533630371094],\n",
       "       ['23-11-1999', 28.612302780151367, 30.40057182312012, 5975611.0,\n",
       "        31.205293655395508],\n",
       "       ['24-11-1999', 28.612302780151367, 28.701717376708984, 4843231.0,\n",
       "        29.99821281433105],\n",
       "       ['26-11-1999', 29.14878463745117, 29.23819732666016, 1729466.0,\n",
       "        29.685264587402344],\n",
       "       ['29-11-1999', 29.014663696289062, 29.327611923217773, 4074751.0,\n",
       "        30.355865478515625],\n",
       "       ['30-11-1999', 29.28290367126465, 30.042917251586918, 4310034.0,\n",
       "        30.713518142700195],\n",
       "       ['01-12-1999', 29.95350456237793, 30.177038192749023, 2957329.0,\n",
       "        31.0711727142334],\n",
       "       ['02-12-1999', 30.8923454284668, 31.29470634460449, 3069868.0,\n",
       "        32.1888427734375]], dtype=object)"
      ]
     },
     "execution_count": 18,
     "metadata": {},
     "output_type": "execute_result"
    }
   ],
   "source": [
    "df.iloc[:10].values[:, :5]"
   ]
  },
  {
   "cell_type": "code",
   "execution_count": null,
   "metadata": {},
   "outputs": [],
   "source": []
  }
 ],
 "metadata": {
  "kernelspec": {
   "display_name": "Python 3.8.13 ('hawkeye')",
   "language": "python",
   "name": "python3"
  },
  "language_info": {
   "codemirror_mode": {
    "name": "ipython",
    "version": 3
   },
   "file_extension": ".py",
   "mimetype": "text/x-python",
   "name": "python",
   "nbconvert_exporter": "python",
   "pygments_lexer": "ipython3",
   "version": "3.8.13"
  },
  "orig_nbformat": 4,
  "vscode": {
   "interpreter": {
    "hash": "9c22073af51062e6ad7b881550dba56f40a6b22c36a36ad35748461df38d8dc3"
   }
  }
 },
 "nbformat": 4,
 "nbformat_minor": 2
}
