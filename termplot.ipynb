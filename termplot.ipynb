{
 "cells": [
  {
   "cell_type": "code",
   "execution_count": 74,
   "metadata": {},
   "outputs": [],
   "source": [
    "import numpy as np"
   ]
  },
  {
   "cell_type": "code",
   "execution_count": 86,
   "metadata": {},
   "outputs": [],
   "source": [
    "len = 405\n",
    "data = np.linspace(1, 0, len) + ((np.random.rand(len) -.5) * 0.2)"
   ]
  },
  {
   "cell_type": "code",
   "execution_count": 105,
   "metadata": {},
   "outputs": [],
   "source": [
    "def unicode_block(s: int):\n",
    "    assert s > 0 and s < 9, 's to small or too large, needs to be 1-8'\n",
    "    return [\n",
    "        u'\\u2581',\n",
    "        u'\\u2582',\n",
    "        u'\\u2583',\n",
    "        u'\\u2584',\n",
    "        u'\\u2585',\n",
    "        u'\\u2586',\n",
    "        u'\\u2587',\n",
    "        u'\\u2588',\n",
    "    ][s-1]"
   ]
  },
  {
   "cell_type": "code",
   "execution_count": 106,
   "metadata": {},
   "outputs": [],
   "source": [
    "def print_graph(x, name: str, max_size: int = 80):\n",
    "    h = np.max(x)\n",
    "    idxs = np.rint(np.linspace(0, x.shape[0] - 1, max_size)).astype('int16')\n",
    "    line = ''.join([unicode_block(int(x[idx]/h*7)+1) for idx in idxs])\n",
    "    print(f\"{name}:\\t\", line)"
   ]
  },
  {
   "cell_type": "code",
   "execution_count": 107,
   "metadata": {},
   "outputs": [
    {
     "name": "stdout",
     "output_type": "stream",
     "text": [
      "loss:\t █▆▇▇▆▆▆▇▆▇▇▅▆▆▆▆▅▅▆▆▆▅▆▅▅▅▅▅▅▅▅▅▄▅▄▄▄▄▄▄▄▃▃▃▄▃▃▄▃▃▃▃▃▂▂▂▃▂▃▂▂▁▂▂▂▁▂▁▁▂▂▁▁▂▁▁▁▁▁▁\n"
     ]
    }
   ],
   "source": [
    "print_graph(data, 'loss')"
   ]
  },
  {
   "cell_type": "code",
   "execution_count": null,
   "metadata": {},
   "outputs": [],
   "source": []
  }
 ],
 "metadata": {
  "kernelspec": {
   "display_name": "Python 3.8.13 ('hawkeye')",
   "language": "python",
   "name": "python3"
  },
  "language_info": {
   "codemirror_mode": {
    "name": "ipython",
    "version": 3
   },
   "file_extension": ".py",
   "mimetype": "text/x-python",
   "name": "python",
   "nbconvert_exporter": "python",
   "pygments_lexer": "ipython3",
   "version": "3.8.13"
  },
  "orig_nbformat": 4,
  "vscode": {
   "interpreter": {
    "hash": "9c22073af51062e6ad7b881550dba56f40a6b22c36a36ad35748461df38d8dc3"
   }
  }
 },
 "nbformat": 4,
 "nbformat_minor": 2
}
