{
 "cells": [
  {
   "cell_type": "code",
   "execution_count": 1,
   "metadata": {},
   "outputs": [],
   "source": [
    "import pandas as pd\n",
    "import numpy as np\n",
    "\n",
    "from lib.data import get_all_csv_files, large_df, make_dataset, scale, inverse_scale"
   ]
  },
  {
   "cell_type": "code",
   "execution_count": 2,
   "metadata": {},
   "outputs": [],
   "source": [
    "files = get_all_csv_files('./stock_market_data/')"
   ]
  },
  {
   "cell_type": "code",
   "execution_count": 3,
   "metadata": {},
   "outputs": [
    {
     "name": "stderr",
     "output_type": "stream",
     "text": [
      "100%|██████████| 4280/4280 [00:36<00:00, 118.50it/s]\n"
     ]
    }
   ],
   "source": [
    "df = large_df(files)"
   ]
  },
  {
   "cell_type": "code",
   "execution_count": 4,
   "metadata": {},
   "outputs": [],
   "source": [
    "df = df.drop('Date', axis=1).dropna(axis=0)"
   ]
  },
  {
   "cell_type": "code",
   "execution_count": 32,
   "metadata": {},
   "outputs": [],
   "source": [
    "df = df[['Low', 'Open', 'High', 'Close', 'Volume']]"
   ]
  },
  {
   "cell_type": "code",
   "execution_count": 33,
   "metadata": {},
   "outputs": [
    {
     "data": {
      "text/html": [
       "<div>\n",
       "<style scoped>\n",
       "    .dataframe tbody tr th:only-of-type {\n",
       "        vertical-align: middle;\n",
       "    }\n",
       "\n",
       "    .dataframe tbody tr th {\n",
       "        vertical-align: top;\n",
       "    }\n",
       "\n",
       "    .dataframe thead th {\n",
       "        text-align: right;\n",
       "    }\n",
       "</style>\n",
       "<table border=\"1\" class=\"dataframe\">\n",
       "  <thead>\n",
       "    <tr style=\"text-align: right;\">\n",
       "      <th></th>\n",
       "      <th>Low</th>\n",
       "      <th>Open</th>\n",
       "      <th>High</th>\n",
       "      <th>Close</th>\n",
       "      <th>Volume</th>\n",
       "    </tr>\n",
       "  </thead>\n",
       "  <tbody>\n",
       "    <tr>\n",
       "      <th>count</th>\n",
       "      <td>2.435124e+07</td>\n",
       "      <td>2.435124e+07</td>\n",
       "      <td>2.435124e+07</td>\n",
       "      <td>2.435124e+07</td>\n",
       "      <td>2.435124e+07</td>\n",
       "    </tr>\n",
       "    <tr>\n",
       "      <th>mean</th>\n",
       "      <td>7.906149e+07</td>\n",
       "      <td>8.100608e+07</td>\n",
       "      <td>8.254950e+07</td>\n",
       "      <td>8.067851e+07</td>\n",
       "      <td>2.150915e+06</td>\n",
       "    </tr>\n",
       "    <tr>\n",
       "      <th>std</th>\n",
       "      <td>1.351129e+10</td>\n",
       "      <td>1.382897e+10</td>\n",
       "      <td>1.406561e+10</td>\n",
       "      <td>1.377028e+10</td>\n",
       "      <td>1.906690e+07</td>\n",
       "    </tr>\n",
       "    <tr>\n",
       "      <th>min</th>\n",
       "      <td>0.000000e+00</td>\n",
       "      <td>0.000000e+00</td>\n",
       "      <td>0.000000e+00</td>\n",
       "      <td>0.000000e+00</td>\n",
       "      <td>0.000000e+00</td>\n",
       "    </tr>\n",
       "    <tr>\n",
       "      <th>25%</th>\n",
       "      <td>6.965000e+00</td>\n",
       "      <td>6.718750e+00</td>\n",
       "      <td>7.190000e+00</td>\n",
       "      <td>7.070000e+00</td>\n",
       "      <td>1.800000e+04</td>\n",
       "    </tr>\n",
       "    <tr>\n",
       "      <th>50%</th>\n",
       "      <td>1.620000e+01</td>\n",
       "      <td>1.624000e+01</td>\n",
       "      <td>1.663000e+01</td>\n",
       "      <td>1.641675e+01</td>\n",
       "      <td>1.730000e+05</td>\n",
       "    </tr>\n",
       "    <tr>\n",
       "      <th>75%</th>\n",
       "      <td>3.601000e+01</td>\n",
       "      <td>3.632000e+01</td>\n",
       "      <td>3.700000e+01</td>\n",
       "      <td>3.651000e+01</td>\n",
       "      <td>1.052600e+06</td>\n",
       "    </tr>\n",
       "    <tr>\n",
       "      <th>max</th>\n",
       "      <td>8.324640e+12</td>\n",
       "      <td>8.324640e+12</td>\n",
       "      <td>8.324640e+12</td>\n",
       "      <td>8.324640e+12</td>\n",
       "      <td>7.421641e+09</td>\n",
       "    </tr>\n",
       "  </tbody>\n",
       "</table>\n",
       "</div>"
      ],
      "text/plain": [
       "                Low          Open          High         Close        Volume\n",
       "count  2.435124e+07  2.435124e+07  2.435124e+07  2.435124e+07  2.435124e+07\n",
       "mean   7.906149e+07  8.100608e+07  8.254950e+07  8.067851e+07  2.150915e+06\n",
       "std    1.351129e+10  1.382897e+10  1.406561e+10  1.377028e+10  1.906690e+07\n",
       "min    0.000000e+00  0.000000e+00  0.000000e+00  0.000000e+00  0.000000e+00\n",
       "25%    6.965000e+00  6.718750e+00  7.190000e+00  7.070000e+00  1.800000e+04\n",
       "50%    1.620000e+01  1.624000e+01  1.663000e+01  1.641675e+01  1.730000e+05\n",
       "75%    3.601000e+01  3.632000e+01  3.700000e+01  3.651000e+01  1.052600e+06\n",
       "max    8.324640e+12  8.324640e+12  8.324640e+12  8.324640e+12  7.421641e+09"
      ]
     },
     "execution_count": 33,
     "metadata": {},
     "output_type": "execute_result"
    }
   ],
   "source": [
    "df.describe()"
   ]
  },
  {
   "cell_type": "code",
   "execution_count": 34,
   "metadata": {},
   "outputs": [],
   "source": [
    "data = df[df['Low'] < 5e3]"
   ]
  },
  {
   "cell_type": "code",
   "execution_count": 35,
   "metadata": {},
   "outputs": [
    {
     "data": {
      "text/plain": [
       "Low       4.999460e+03\n",
       "Open      2.174989e+04\n",
       "High      4.450000e+04\n",
       "Close     2.624987e+04\n",
       "Volume    7.421641e+09\n",
       "dtype: float64"
      ]
     },
     "execution_count": 35,
     "metadata": {},
     "output_type": "execute_result"
    }
   ],
   "source": [
    "data.max()"
   ]
  },
  {
   "cell_type": "code",
   "execution_count": 38,
   "metadata": {},
   "outputs": [
    {
     "name": "stdout",
     "output_type": "stream",
     "text": [
      "(0.0, 44500.0) (0.0, 7421640800.0)\n"
     ]
    }
   ],
   "source": [
    "import torch\n",
    "\n",
    "def find_ranges(data: torch.Tensor):\n",
    "    money = data[:, :-1]\n",
    "    volume = data[:, -1:]\n",
    "\n",
    "    money_range = (float(torch.min(money)), float(torch.max(money)))\n",
    "    volume_range = (float(torch.min(volume)), float(torch.max(volume)))\n",
    "\n",
    "    return money_range, volume_range\n",
    "\n",
    "money_range, volume_range = find_ranges(torch.tensor(data.to_numpy()))\n",
    "print(money_range, volume_range)"
   ]
  },
  {
   "cell_type": "code",
   "execution_count": 40,
   "metadata": {},
   "outputs": [],
   "source": [
    "def scale(data: torch.Tensor, new_min=0, new_max=1):\n",
    "    global money_range\n",
    "    global volume_range\n",
    "    money = data[:, :4]\n",
    "    volume = data[:, -1:]\n",
    "\n",
    "    money = (money - money_range[0]) / (money_range[1] - money_range[0]) * (new_max - new_min) + new_min\n",
    "    volume = (volume - volume_range[0]) / (volume_range[1] - volume_range[0]) * (new_max - new_min) + new_min\n",
    "    return torch.hstack((money, volume))"
   ]
  },
  {
   "cell_type": "code",
   "execution_count": 45,
   "metadata": {},
   "outputs": [],
   "source": [
    "def make_dataset(df: torch.Tensor, time_d: int = 10):\n",
    "    Xd, yd = None, None\n",
    "\n",
    "    for i in range(df.shape[0] - time_d - 1):\n",
    "        idx = i + time_d\n",
    "        row = df[idx + 1]\n",
    "        row = row[:-1] # remove volume is it doesn't need to be predicted\n",
    "        x = df[i:idx]\n",
    "        if torch.isnan(torch.sum(x)) or torch.isnan(torch.sum(row)):\n",
    "            continue # if the row (y) has nans, skip\n",
    "\n",
    "        if type(Xd) == type(None):\n",
    "            Xd = x\n",
    "            yd = row\n",
    "        else:\n",
    "            Xd = torch.concat((Xd, x))\n",
    "            yd = torch.concat((yd, row))\n",
    "        \n",
    "    return Xd, yd"
   ]
  },
  {
   "cell_type": "code",
   "execution_count": 54,
   "metadata": {},
   "outputs": [
    {
     "name": "stderr",
     "output_type": "stream",
     "text": [
      " 32%|███▏      | 1363/4280 [24:10<42:59,  1.13it/s]  "
     ]
    },
    {
     "name": "stdout",
     "output_type": "stream",
     "text": [
      "file ./stock_market_data/nasdaq\\csv\\CCUR.csv is useless\n"
     ]
    },
    {
     "name": "stderr",
     "output_type": "stream",
     "text": [
      " 36%|███▌      | 1551/4280 [27:57<1:08:53,  1.51s/it]"
     ]
    },
    {
     "name": "stdout",
     "output_type": "stream",
     "text": [
      "file ./stock_market_data/nasdaq\\csv\\DXM.csv is useless\n"
     ]
    },
    {
     "name": "stderr",
     "output_type": "stream",
     "text": [
      " 40%|███▉      | 1698/4280 [31:10<36:06,  1.19it/s]  "
     ]
    },
    {
     "name": "stdout",
     "output_type": "stream",
     "text": [
      "file ./stock_market_data/nasdaq\\csv\\FSFF.csv is useless\n"
     ]
    },
    {
     "name": "stderr",
     "output_type": "stream",
     "text": [
      " 63%|██████▎   | 2713/4280 [54:44<51:25,  1.97s/it]  "
     ]
    },
    {
     "name": "stdout",
     "output_type": "stream",
     "text": [
      "file ./stock_market_data/nyse\\csv\\ACG.csv is useless\n"
     ]
    },
    {
     "name": "stderr",
     "output_type": "stream",
     "text": [
      " 65%|██████▌   | 2796/4280 [56:57<48:14,  1.95s/it]  "
     ]
    },
    {
     "name": "stdout",
     "output_type": "stream",
     "text": [
      "file ./stock_market_data/nyse\\csv\\AVG.csv is useless\n"
     ]
    },
    {
     "name": "stderr",
     "output_type": "stream",
     "text": [
      " 73%|███████▎  | 3108/4280 [1:06:03<19:29,  1.00it/s]  "
     ]
    },
    {
     "name": "stdout",
     "output_type": "stream",
     "text": [
      "file ./stock_market_data/nyse\\csv\\FGL.csv is useless\n"
     ]
    },
    {
     "name": "stderr",
     "output_type": "stream",
     "text": [
      " 73%|███████▎  | 3127/4280 [1:06:32<19:06,  1.01it/s]"
     ]
    },
    {
     "name": "stdout",
     "output_type": "stream",
     "text": [
      "file ./stock_market_data/nyse\\csv\\FPT.csv is useless\n"
     ]
    },
    {
     "name": "stderr",
     "output_type": "stream",
     "text": [
      "100%|██████████| 4280/4280 [1:55:26<00:00,  1.62s/it]  \n"
     ]
    }
   ],
   "source": [
    "from tqdm import tqdm\n",
    "\n",
    "X, y = None, None\n",
    "\n",
    "loop = tqdm(files, total=len(files))\n",
    "for file in loop:\n",
    "    tmp = pd.read_csv(file)\n",
    "    tmp = tmp[['Low', 'Open', 'High', 'Close', 'Volume']].dropna()\n",
    "    tmp = tmp[tmp['Low'] < 5e3]\n",
    "\n",
    "    scaled = scale(torch.Tensor(tmp.to_numpy()))\n",
    "    dataset = make_dataset(scaled)\n",
    "\n",
    "    if type(dataset[0]) == type(None) or type(dataset[1]) == type(None):\n",
    "        print(f\"file {file} is useless\")\n",
    "        continue\n",
    "\n",
    "    if type(X) == type(None):\n",
    "        X = dataset[0]\n",
    "        y = dataset[1]\n",
    "    else:\n",
    "        X = torch.concat((X, dataset[0]))\n",
    "        y = torch.concat((y, dataset[1]))"
   ]
  },
  {
   "cell_type": "code",
   "execution_count": 55,
   "metadata": {},
   "outputs": [
    {
     "data": {
      "text/plain": [
       "torch.Size([242100200, 5])"
      ]
     },
     "execution_count": 55,
     "metadata": {},
     "output_type": "execute_result"
    }
   ],
   "source": [
    "X.shape"
   ]
  },
  {
   "cell_type": "code",
   "execution_count": 56,
   "metadata": {},
   "outputs": [],
   "source": [
    "import pickle"
   ]
  },
  {
   "cell_type": "code",
   "execution_count": 57,
   "metadata": {},
   "outputs": [],
   "source": [
    "pickle.dump(X, open('./data/Xlarge.bin', 'wb'))"
   ]
  },
  {
   "cell_type": "code",
   "execution_count": 58,
   "metadata": {},
   "outputs": [],
   "source": [
    "pickle.dump(y, open('./data/ylarge.bin', 'wb'))"
   ]
  },
  {
   "cell_type": "code",
   "execution_count": null,
   "metadata": {},
   "outputs": [],
   "source": []
  },
  {
   "cell_type": "code",
   "execution_count": 16,
   "metadata": {},
   "outputs": [],
   "source": [
    "import torch, pickle"
   ]
  },
  {
   "cell_type": "code",
   "execution_count": 17,
   "metadata": {},
   "outputs": [],
   "source": [
    "x = pickle.load(open('./data/X.bin', 'rb'))"
   ]
  },
  {
   "cell_type": "code",
   "execution_count": 21,
   "metadata": {},
   "outputs": [
    {
     "data": {
      "text/plain": [
       "torch.Size([6906777, 10, 5])"
      ]
     },
     "execution_count": 21,
     "metadata": {},
     "output_type": "execute_result"
    }
   ],
   "source": [
    "x.reshape((6906777, 10, 5)).shape"
   ]
  },
  {
   "cell_type": "code",
   "execution_count": 13,
   "metadata": {},
   "outputs": [],
   "source": [
    "c = torch.Tensor(2, 7, 5)"
   ]
  },
  {
   "cell_type": "code",
   "execution_count": 15,
   "metadata": {},
   "outputs": [
    {
     "data": {
      "text/plain": [
       "tensor([[[0.5939, 0.6351, 0.9802, 0.4510, 0.4155],\n",
       "         [0.1423, 0.9028, 0.1143, 0.7449, 0.7464],\n",
       "         [0.3748, 0.6898, 0.1778, 0.4913, 0.3977],\n",
       "         [0.8381, 0.5423, 0.1430, 0.4897, 0.9605],\n",
       "         [0.5049, 0.6050, 0.2317, 0.6488, 0.9490],\n",
       "         [0.9069, 0.8218, 0.7441, 0.8825, 0.8529],\n",
       "         [0.0739, 0.9540, 0.8932, 0.2987, 0.5890]],\n",
       "\n",
       "        [[0.1823, 0.8595, 0.1832, 0.9272, 0.9944],\n",
       "         [0.7184, 0.2080, 0.2378, 0.2978, 0.4247],\n",
       "         [0.2342, 0.6028, 0.7682, 0.6944, 0.3655],\n",
       "         [0.6381, 0.3703, 0.3003, 0.3945, 0.7956],\n",
       "         [0.4893, 0.5456, 0.0970, 0.7302, 0.4601],\n",
       "         [0.1616, 0.1483, 0.7895, 0.0596, 0.5900],\n",
       "         [0.3478, 0.8016, 0.8224, 0.1190, 0.4755]]])"
      ]
     },
     "execution_count": 15,
     "metadata": {},
     "output_type": "execute_result"
    }
   ],
   "source": [
    "torch.cat((a, b))"
   ]
  },
  {
   "cell_type": "code",
   "execution_count": 11,
   "metadata": {},
   "outputs": [
    {
     "data": {
      "text/plain": [
       "torch.Size([14, 5])"
      ]
     },
     "execution_count": 11,
     "metadata": {},
     "output_type": "execute_result"
    }
   ],
   "source": [
    "c.shape"
   ]
  },
  {
   "cell_type": "code",
   "execution_count": null,
   "metadata": {},
   "outputs": [],
   "source": []
  }
 ],
 "metadata": {
  "kernelspec": {
   "display_name": "Python 3.8.13 ('hawkeye')",
   "language": "python",
   "name": "python3"
  },
  "language_info": {
   "codemirror_mode": {
    "name": "ipython",
    "version": 3
   },
   "file_extension": ".py",
   "mimetype": "text/x-python",
   "name": "python",
   "nbconvert_exporter": "python",
   "pygments_lexer": "ipython3",
   "version": "3.8.13"
  },
  "orig_nbformat": 4,
  "vscode": {
   "interpreter": {
    "hash": "9c22073af51062e6ad7b881550dba56f40a6b22c36a36ad35748461df38d8dc3"
   }
  }
 },
 "nbformat": 4,
 "nbformat_minor": 2
}
